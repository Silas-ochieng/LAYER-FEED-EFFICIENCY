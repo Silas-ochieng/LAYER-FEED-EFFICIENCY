{
 "cells": [
  {
   "cell_type": "markdown",
   "metadata": {},
   "source": [
    "##  PREDICTIVE MODEL FOR PROACTIVE LAYER FEED EFFICIENCY USING RANDOM FOREST REGRESSOR\n",
    "A predictive model is a type of  machine learning model used to analyze historical data and make future predictions based on patterns and relationships in the data. It learns from past observations and applies this knowledge to forecast unknown outcomes.The goal is to develop a regression model to predict feed conversion ratio from past data, enabling proactive management choices.\n",
    "A predictive model will analyze feeding patterns, intake behavior, and other poultry-related metrics to estimate feed efficiency (FCR), enabling proactive decision-making in layer hen management. The Random Forest Regressor (RFR) will be used to enhance prediction accuracy by leveraging multiple decision trees to capture complex relationships within the dataset.\n",
    "<div class=\"alert alert-success\" role=\"alert\">\n",
    "    <h3>Processes to be undertaken;</h3>\n",
    "    <ul>\n",
    "        <li>Import necessary libraries</li>\n",
    "        <li>Load the various datasets and merge them together</li>\n",
    "        <li>Explore the merged dataset</li>\n",
    "        <li>Build the model</li>\n",
    "        <li>Deploy the model using flask web to test the application</li\n",
    "    </ul>\n",
    "</div>"
   ]
  },
  {
   "cell_type": "markdown",
   "metadata": {},
   "source": [
    "# 1. Importing Necessary Libraries\n",
    "To perform data analysis, visualization, and machine learning, the study import several libraries. Below is a brief explanation of each libraries employed:\n",
    "- **Pandas (`pd`)**: Used for data manipulation and analysis, providing powerful data structures like DataFrames.\n",
    "- **NumPy (`np`)**: Supports numerical computations, including arrays, matrices, and mathematical operations.\n",
    "- **Matplotlib (`plt`)**: A plotting library for creating static and interactive visualizations.\n",
    "- **Seaborn (`sns`)**: Built on Matplotlib, it provides enhanced statistical visualizations like heatmaps and box plots.\n",
    "- **Warnings (`warnings`)**: Helps manage warning messages; we suppress them to keep outputs clean.\n",
    "- **Plotly (`px`, `go`, `pio`)**: A library for interactive visualizations:\n",
    "- **pio.templates.default** : Set visualization style to white\n",
    "  - `plotly.express (px)`: High-level interface for simple plots.\n",
    "  - `plotly.graph_objects (go)`: More customizable plotting functions.\n",
    "  - `plotly.io (pio)`: Manages input/output configurations for Plotly.\n",
    "- **Scikit-learn (`sklearn`)**: A machine learning library offering tools for model training, evaluation, and preprocessing:\n",
    "  - `mean_absolute_error, r2_score`: Metrics for evaluating regression models.\n",
    "  - `Ridge`: A regularized linear regression model.\n",
    "  - `RandomForestRegressor`: An ensemble model for regression tasks.\n",
    "  - `train_test_split`: Splits data into training and testing sets for model evaluation.\n"
   ]
  },
  {
   "cell_type": "code",
   "execution_count": 161,
   "metadata": {},
   "outputs": [],
   "source": [
    "import pandas as pd\n",
    "import numpy as np\n",
    "import matplotlib.pyplot as plt\n",
    "import seaborn as sns\n",
    "import warnings\n",
    "import plotly.express as px\n",
    "import plotly.graph_objects as go\n",
    "import plotly.io as pio\n",
    "\n",
    "pio.templates.default = \"plotly_white\"\n",
    "warnings.filterwarnings('ignore')\n",
    "\n",
    "from sklearn.metrics import mean_absolute_error,mean_squared_error, r2_score\n",
    "from sklearn.linear_model import Ridge\n",
    "from sklearn.ensemble import RandomForestRegressor\n",
    "from sklearn.model_selection import train_test_split\n",
    "from flask import Flask, request, jsonify\n",
    "import joblib\n"
   ]
  },
  {
   "cell_type": "markdown",
   "metadata": {},
   "source": [
    "# 2. Loading Datasets into DataFrames  \n",
    "The study make use of multiple datasets related to feed efficiency in egg production. Each dataset contains specific information that will be merged for further analysis.\n",
    "Before merging the datasets, the study loads the various datasets into **pandas dataframes** . This allows for data structuring in a tabular format, making it easier to analyze and manipulate.  \n"
   ]
  },
  {
   "cell_type": "code",
   "execution_count": 162,
   "metadata": {},
   "outputs": [
    {
     "data": {
      "text/html": [
       "<div>\n",
       "<style scoped>\n",
       "    .dataframe tbody tr th:only-of-type {\n",
       "        vertical-align: middle;\n",
       "    }\n",
       "\n",
       "    .dataframe tbody tr th {\n",
       "        vertical-align: top;\n",
       "    }\n",
       "\n",
       "    .dataframe thead th {\n",
       "        text-align: right;\n",
       "    }\n",
       "</style>\n",
       "<table border=\"1\" class=\"dataframe\">\n",
       "  <thead>\n",
       "    <tr style=\"text-align: right;\">\n",
       "      <th></th>\n",
       "      <th>Bird ID.</th>\n",
       "      <th>Total feed intake (g)</th>\n",
       "      <th>ADI (g)</th>\n",
       "      <th>Total egg wt (g)</th>\n",
       "      <th>FCR</th>\n",
       "    </tr>\n",
       "  </thead>\n",
       "  <tbody>\n",
       "    <tr>\n",
       "      <th>0</th>\n",
       "      <td>R3B31</td>\n",
       "      <td>823.0</td>\n",
       "      <td>117.571429</td>\n",
       "      <td>449.0</td>\n",
       "      <td>1.832962</td>\n",
       "    </tr>\n",
       "    <tr>\n",
       "      <th>1</th>\n",
       "      <td>R3B47</td>\n",
       "      <td>791.0</td>\n",
       "      <td>113.000000</td>\n",
       "      <td>463.0</td>\n",
       "      <td>1.708423</td>\n",
       "    </tr>\n",
       "    <tr>\n",
       "      <th>2</th>\n",
       "      <td>R3B5</td>\n",
       "      <td>913.0</td>\n",
       "      <td>130.428571</td>\n",
       "      <td>488.0</td>\n",
       "      <td>1.870902</td>\n",
       "    </tr>\n",
       "    <tr>\n",
       "      <th>3</th>\n",
       "      <td>R3B60</td>\n",
       "      <td>818.0</td>\n",
       "      <td>116.857143</td>\n",
       "      <td>454.0</td>\n",
       "      <td>1.801762</td>\n",
       "    </tr>\n",
       "    <tr>\n",
       "      <th>4</th>\n",
       "      <td>R3B65</td>\n",
       "      <td>875.0</td>\n",
       "      <td>125.000000</td>\n",
       "      <td>481.0</td>\n",
       "      <td>1.819127</td>\n",
       "    </tr>\n",
       "  </tbody>\n",
       "</table>\n",
       "</div>"
      ],
      "text/plain": [
       "  Bird ID.  Total feed intake (g)     ADI (g)  Total egg wt (g)       FCR\n",
       "0    R3B31                  823.0  117.571429             449.0  1.832962\n",
       "1    R3B47                  791.0  113.000000             463.0  1.708423\n",
       "2     R3B5                  913.0  130.428571             488.0  1.870902\n",
       "3    R3B60                  818.0  116.857143             454.0  1.801762\n",
       "4    R3B65                  875.0  125.000000             481.0  1.819127"
      ]
     },
     "metadata": {},
     "output_type": "display_data"
    },
    {
     "data": {
      "text/html": [
       "<div>\n",
       "<style scoped>\n",
       "    .dataframe tbody tr th:only-of-type {\n",
       "        vertical-align: middle;\n",
       "    }\n",
       "\n",
       "    .dataframe tbody tr th {\n",
       "        vertical-align: top;\n",
       "    }\n",
       "\n",
       "    .dataframe thead th {\n",
       "        text-align: right;\n",
       "    }\n",
       "</style>\n",
       "<table border=\"1\" class=\"dataframe\">\n",
       "  <thead>\n",
       "    <tr style=\"text-align: right;\">\n",
       "      <th></th>\n",
       "      <th>Bird ID.</th>\n",
       "      <th>No.  of feeding- bout/h</th>\n",
       "      <th>Time spent for feeding /h</th>\n",
       "      <th>No.  of Still/h</th>\n",
       "      <th>No.  of Rest/h</th>\n",
       "      <th>No  of Head flicks/h</th>\n",
       "      <th>No.  of drinking/h</th>\n",
       "      <th>No. of preening/h</th>\n",
       "      <th>No.  of feeder pecking/h</th>\n",
       "      <th>No. of cage pecking</th>\n",
       "      <th>No.  of Walking/h</th>\n",
       "    </tr>\n",
       "  </thead>\n",
       "  <tbody>\n",
       "    <tr>\n",
       "      <th>0</th>\n",
       "      <td>R3B31</td>\n",
       "      <td>24</td>\n",
       "      <td>18</td>\n",
       "      <td>42</td>\n",
       "      <td>1</td>\n",
       "      <td>36</td>\n",
       "      <td>12</td>\n",
       "      <td>15</td>\n",
       "      <td>12</td>\n",
       "      <td>22</td>\n",
       "      <td>12</td>\n",
       "    </tr>\n",
       "    <tr>\n",
       "      <th>1</th>\n",
       "      <td>R3B47</td>\n",
       "      <td>84</td>\n",
       "      <td>42</td>\n",
       "      <td>72</td>\n",
       "      <td>1</td>\n",
       "      <td>18</td>\n",
       "      <td>6</td>\n",
       "      <td>16</td>\n",
       "      <td>7</td>\n",
       "      <td>23</td>\n",
       "      <td>12</td>\n",
       "    </tr>\n",
       "    <tr>\n",
       "      <th>2</th>\n",
       "      <td>R3B5</td>\n",
       "      <td>24</td>\n",
       "      <td>18</td>\n",
       "      <td>12</td>\n",
       "      <td>6</td>\n",
       "      <td>54</td>\n",
       "      <td>6</td>\n",
       "      <td>14</td>\n",
       "      <td>12</td>\n",
       "      <td>18</td>\n",
       "      <td>6</td>\n",
       "    </tr>\n",
       "    <tr>\n",
       "      <th>3</th>\n",
       "      <td>R3B60</td>\n",
       "      <td>30</td>\n",
       "      <td>18</td>\n",
       "      <td>24</td>\n",
       "      <td>18</td>\n",
       "      <td>2</td>\n",
       "      <td>6</td>\n",
       "      <td>20</td>\n",
       "      <td>6</td>\n",
       "      <td>21</td>\n",
       "      <td>12</td>\n",
       "    </tr>\n",
       "    <tr>\n",
       "      <th>4</th>\n",
       "      <td>R3B65</td>\n",
       "      <td>36</td>\n",
       "      <td>24</td>\n",
       "      <td>12</td>\n",
       "      <td>1</td>\n",
       "      <td>6</td>\n",
       "      <td>6</td>\n",
       "      <td>18</td>\n",
       "      <td>12</td>\n",
       "      <td>19</td>\n",
       "      <td>6</td>\n",
       "    </tr>\n",
       "  </tbody>\n",
       "</table>\n",
       "</div>"
      ],
      "text/plain": [
       "  Bird ID.  No.  of feeding- bout/h  Time spent for feeding /h  \\\n",
       "0    R3B31                       24                         18   \n",
       "1    R3B47                       84                         42   \n",
       "2     R3B5                       24                         18   \n",
       "3    R3B60                       30                         18   \n",
       "4    R3B65                       36                         24   \n",
       "\n",
       "   No.  of Still/h  No.  of Rest/h  No  of Head flicks/h  No.  of drinking/h  \\\n",
       "0               42               1                    36                  12   \n",
       "1               72               1                    18                   6   \n",
       "2               12               6                    54                   6   \n",
       "3               24              18                     2                   6   \n",
       "4               12               1                     6                   6   \n",
       "\n",
       "   No. of preening/h  No.  of feeder pecking/h  No. of cage pecking  \\\n",
       "0                 15                        12                   22   \n",
       "1                 16                         7                   23   \n",
       "2                 14                        12                   18   \n",
       "3                 20                         6                   21   \n",
       "4                 18                        12                   19   \n",
       "\n",
       "   No.  of Walking/h  \n",
       "0                 12  \n",
       "1                 12  \n",
       "2                  6  \n",
       "3                 12  \n",
       "4                  6  "
      ]
     },
     "metadata": {},
     "output_type": "display_data"
    },
    {
     "data": {
      "text/html": [
       "<div>\n",
       "<style scoped>\n",
       "    .dataframe tbody tr th:only-of-type {\n",
       "        vertical-align: middle;\n",
       "    }\n",
       "\n",
       "    .dataframe tbody tr th {\n",
       "        vertical-align: top;\n",
       "    }\n",
       "\n",
       "    .dataframe thead th {\n",
       "        text-align: right;\n",
       "    }\n",
       "</style>\n",
       "<table border=\"1\" class=\"dataframe\">\n",
       "  <thead>\n",
       "    <tr style=\"text-align: right;\">\n",
       "      <th></th>\n",
       "      <th>Bird ID.</th>\n",
       "      <th>DM%</th>\n",
       "      <th>Ash%</th>\n",
       "      <th>N%</th>\n",
       "      <th>CP%</th>\n",
       "      <th>GE  (kcal/kg)</th>\n",
       "    </tr>\n",
       "  </thead>\n",
       "  <tbody>\n",
       "    <tr>\n",
       "      <th>0</th>\n",
       "      <td>R3B31</td>\n",
       "      <td>89.014993</td>\n",
       "      <td>11.025366</td>\n",
       "      <td>3.150</td>\n",
       "      <td>19.69</td>\n",
       "      <td>15.141612</td>\n",
       "    </tr>\n",
       "    <tr>\n",
       "      <th>1</th>\n",
       "      <td>R3B47</td>\n",
       "      <td>88.174224</td>\n",
       "      <td>14.232869</td>\n",
       "      <td>2.648</td>\n",
       "      <td>16.55</td>\n",
       "      <td>14.384441</td>\n",
       "    </tr>\n",
       "    <tr>\n",
       "      <th>2</th>\n",
       "      <td>R3B5</td>\n",
       "      <td>89.016720</td>\n",
       "      <td>11.557241</td>\n",
       "      <td>3.069</td>\n",
       "      <td>19.18</td>\n",
       "      <td>15.686275</td>\n",
       "    </tr>\n",
       "    <tr>\n",
       "      <th>3</th>\n",
       "      <td>R3B60</td>\n",
       "      <td>87.727906</td>\n",
       "      <td>10.741070</td>\n",
       "      <td>2.749</td>\n",
       "      <td>17.18</td>\n",
       "      <td>15.264109</td>\n",
       "    </tr>\n",
       "    <tr>\n",
       "      <th>4</th>\n",
       "      <td>R3B65</td>\n",
       "      <td>89.285905</td>\n",
       "      <td>15.606278</td>\n",
       "      <td>2.598</td>\n",
       "      <td>16.24</td>\n",
       "      <td>14.749675</td>\n",
       "    </tr>\n",
       "  </tbody>\n",
       "</table>\n",
       "</div>"
      ],
      "text/plain": [
       "  Bird ID.        DM%       Ash%     N%    CP%  GE  (kcal/kg)\n",
       "0    R3B31  89.014993  11.025366  3.150  19.69      15.141612\n",
       "1    R3B47  88.174224  14.232869  2.648  16.55      14.384441\n",
       "2     R3B5  89.016720  11.557241  3.069  19.18      15.686275\n",
       "3    R3B60  87.727906  10.741070  2.749  17.18      15.264109\n",
       "4    R3B65  89.285905  15.606278  2.598  16.24      14.749675"
      ]
     },
     "metadata": {},
     "output_type": "display_data"
    }
   ],
   "source": [
    "df_FCR = pd.read_csv(\"C:/PROJECT4.2/Datasets/FCR.csv\")  \n",
    "df_feeding_behaviours = pd.read_csv(\"C:/PROJECT4.2/Datasets/Feeding_behaviors.csv\")\n",
    "df_chemical_composition_of_feeds = pd.read_csv(\"C:/PROJECT4.2/Datasets/Chemical composition of remaining diet.csv\")\n",
    "display(df_FCR.head())\n",
    "display(df_feeding_behaviours.head())\n",
    "display(df_chemical_composition_of_feeds.head())"
   ]
  },
  {
   "cell_type": "markdown",
   "metadata": {},
   "source": [
    "## 2.1 Dataset Overview\n",
    "\n",
    "The following datasets have been loaded successfully:\n",
    "\n",
    "- **FCR Dataset (`FCR.csv`)**: Contains Feed Conversion Ratio (FCR) data, which measures how efficiently feed is converted into eggs.\n",
    "- **Feeding Behaviours Dataset (`Feeding_behaviors.csv`)**: Records behavioral metrics such as feeding frequency and duration.\n",
    "- **Chemical Composition of Feeds (`Chemical composition of remaining diet.csv`)**: Includes the nutritional composition of the feed, such as protein, fat, and fiber content.\n",
    "\n"
   ]
  },
  {
   "cell_type": "markdown",
   "metadata": {},
   "source": [
    "---\n",
    "\n",
    "# 3. Merging the Datasets  \n",
    "\n",
    "After loading the datasets into Pandas DataFrames, the next step is to **merge them into a single dataset**. Merging is essential because each dataset contains different but related information, and combining them allows for a more comprehensive analysis.  \n",
    "\n",
    "## 3.1  **Merging Strategy**  \n",
    "The datasets will be merged using the **Bird ID** column, which serves as a common key across all datasets. The study makes use of  a **left join (`how='left'`)**, meaning:  \n",
    "- All records from the **FCR dataset** will be retained.  \n",
    "- Matching records from the **Feeding Behaviours** and **Chemical Composition of Feeds** datasets will be added.  \n",
    "- If a match is not found, missing values (`NaN`) will be introduced.  \n",
    "\n",
    "## 3.1.1  **Why Use a Left Join?**  \n",
    "- Ensures that all birds present in the **FCR dataset** are included.  \n",
    "- Preserves the primary dataset while enriching it with behavioral and chemical composition data.  \n",
    "- Prevents loss of important records due to missing data in secondary datasets.  "
   ]
  },
  {
   "cell_type": "code",
   "execution_count": 163,
   "metadata": {},
   "outputs": [
    {
     "data": {
      "text/html": [
       "<div>\n",
       "<style scoped>\n",
       "    .dataframe tbody tr th:only-of-type {\n",
       "        vertical-align: middle;\n",
       "    }\n",
       "\n",
       "    .dataframe tbody tr th {\n",
       "        vertical-align: top;\n",
       "    }\n",
       "\n",
       "    .dataframe thead th {\n",
       "        text-align: right;\n",
       "    }\n",
       "</style>\n",
       "<table border=\"1\" class=\"dataframe\">\n",
       "  <thead>\n",
       "    <tr style=\"text-align: right;\">\n",
       "      <th></th>\n",
       "      <th>Bird ID.</th>\n",
       "      <th>Total feed intake (g)</th>\n",
       "      <th>ADI (g)</th>\n",
       "      <th>Total egg wt (g)</th>\n",
       "      <th>FCR</th>\n",
       "      <th>No.  of feeding- bout/h</th>\n",
       "      <th>Time spent for feeding /h</th>\n",
       "      <th>No.  of Still/h</th>\n",
       "      <th>No.  of Rest/h</th>\n",
       "      <th>No  of Head flicks/h</th>\n",
       "      <th>No.  of drinking/h</th>\n",
       "      <th>No. of preening/h</th>\n",
       "      <th>No.  of feeder pecking/h</th>\n",
       "      <th>No. of cage pecking</th>\n",
       "      <th>No.  of Walking/h</th>\n",
       "      <th>DM%</th>\n",
       "      <th>Ash%</th>\n",
       "      <th>N%</th>\n",
       "      <th>CP%</th>\n",
       "      <th>GE  (kcal/kg)</th>\n",
       "    </tr>\n",
       "  </thead>\n",
       "  <tbody>\n",
       "    <tr>\n",
       "      <th>0</th>\n",
       "      <td>R3B31</td>\n",
       "      <td>823.0</td>\n",
       "      <td>117.571429</td>\n",
       "      <td>449.0</td>\n",
       "      <td>1.832962</td>\n",
       "      <td>24</td>\n",
       "      <td>18</td>\n",
       "      <td>42</td>\n",
       "      <td>1</td>\n",
       "      <td>36</td>\n",
       "      <td>12</td>\n",
       "      <td>15</td>\n",
       "      <td>12</td>\n",
       "      <td>22</td>\n",
       "      <td>12</td>\n",
       "      <td>89.014993</td>\n",
       "      <td>11.025366</td>\n",
       "      <td>3.150</td>\n",
       "      <td>19.69</td>\n",
       "      <td>15.141612</td>\n",
       "    </tr>\n",
       "    <tr>\n",
       "      <th>1</th>\n",
       "      <td>R3B47</td>\n",
       "      <td>791.0</td>\n",
       "      <td>113.000000</td>\n",
       "      <td>463.0</td>\n",
       "      <td>1.708423</td>\n",
       "      <td>84</td>\n",
       "      <td>42</td>\n",
       "      <td>72</td>\n",
       "      <td>1</td>\n",
       "      <td>18</td>\n",
       "      <td>6</td>\n",
       "      <td>16</td>\n",
       "      <td>7</td>\n",
       "      <td>23</td>\n",
       "      <td>12</td>\n",
       "      <td>88.174224</td>\n",
       "      <td>14.232869</td>\n",
       "      <td>2.648</td>\n",
       "      <td>16.55</td>\n",
       "      <td>14.384441</td>\n",
       "    </tr>\n",
       "    <tr>\n",
       "      <th>2</th>\n",
       "      <td>R3B5</td>\n",
       "      <td>913.0</td>\n",
       "      <td>130.428571</td>\n",
       "      <td>488.0</td>\n",
       "      <td>1.870902</td>\n",
       "      <td>24</td>\n",
       "      <td>18</td>\n",
       "      <td>12</td>\n",
       "      <td>6</td>\n",
       "      <td>54</td>\n",
       "      <td>6</td>\n",
       "      <td>14</td>\n",
       "      <td>12</td>\n",
       "      <td>18</td>\n",
       "      <td>6</td>\n",
       "      <td>89.016720</td>\n",
       "      <td>11.557241</td>\n",
       "      <td>3.069</td>\n",
       "      <td>19.18</td>\n",
       "      <td>15.686275</td>\n",
       "    </tr>\n",
       "    <tr>\n",
       "      <th>3</th>\n",
       "      <td>R3B60</td>\n",
       "      <td>818.0</td>\n",
       "      <td>116.857143</td>\n",
       "      <td>454.0</td>\n",
       "      <td>1.801762</td>\n",
       "      <td>30</td>\n",
       "      <td>18</td>\n",
       "      <td>24</td>\n",
       "      <td>18</td>\n",
       "      <td>2</td>\n",
       "      <td>6</td>\n",
       "      <td>20</td>\n",
       "      <td>6</td>\n",
       "      <td>21</td>\n",
       "      <td>12</td>\n",
       "      <td>87.727906</td>\n",
       "      <td>10.741070</td>\n",
       "      <td>2.749</td>\n",
       "      <td>17.18</td>\n",
       "      <td>15.264109</td>\n",
       "    </tr>\n",
       "    <tr>\n",
       "      <th>4</th>\n",
       "      <td>R3B65</td>\n",
       "      <td>875.0</td>\n",
       "      <td>125.000000</td>\n",
       "      <td>481.0</td>\n",
       "      <td>1.819127</td>\n",
       "      <td>36</td>\n",
       "      <td>24</td>\n",
       "      <td>12</td>\n",
       "      <td>1</td>\n",
       "      <td>6</td>\n",
       "      <td>6</td>\n",
       "      <td>18</td>\n",
       "      <td>12</td>\n",
       "      <td>19</td>\n",
       "      <td>6</td>\n",
       "      <td>89.285905</td>\n",
       "      <td>15.606278</td>\n",
       "      <td>2.598</td>\n",
       "      <td>16.24</td>\n",
       "      <td>14.749675</td>\n",
       "    </tr>\n",
       "  </tbody>\n",
       "</table>\n",
       "</div>"
      ],
      "text/plain": [
       "  Bird ID.  Total feed intake (g)     ADI (g)  Total egg wt (g)       FCR  \\\n",
       "0    R3B31                  823.0  117.571429             449.0  1.832962   \n",
       "1    R3B47                  791.0  113.000000             463.0  1.708423   \n",
       "2     R3B5                  913.0  130.428571             488.0  1.870902   \n",
       "3    R3B60                  818.0  116.857143             454.0  1.801762   \n",
       "4    R3B65                  875.0  125.000000             481.0  1.819127   \n",
       "\n",
       "   No.  of feeding- bout/h  Time spent for feeding /h  No.  of Still/h  \\\n",
       "0                       24                         18               42   \n",
       "1                       84                         42               72   \n",
       "2                       24                         18               12   \n",
       "3                       30                         18               24   \n",
       "4                       36                         24               12   \n",
       "\n",
       "   No.  of Rest/h  No  of Head flicks/h  No.  of drinking/h  \\\n",
       "0               1                    36                  12   \n",
       "1               1                    18                   6   \n",
       "2               6                    54                   6   \n",
       "3              18                     2                   6   \n",
       "4               1                     6                   6   \n",
       "\n",
       "   No. of preening/h  No.  of feeder pecking/h  No. of cage pecking  \\\n",
       "0                 15                        12                   22   \n",
       "1                 16                         7                   23   \n",
       "2                 14                        12                   18   \n",
       "3                 20                         6                   21   \n",
       "4                 18                        12                   19   \n",
       "\n",
       "   No.  of Walking/h        DM%       Ash%     N%    CP%  GE  (kcal/kg)  \n",
       "0                 12  89.014993  11.025366  3.150  19.69      15.141612  \n",
       "1                 12  88.174224  14.232869  2.648  16.55      14.384441  \n",
       "2                  6  89.016720  11.557241  3.069  19.18      15.686275  \n",
       "3                 12  87.727906  10.741070  2.749  17.18      15.264109  \n",
       "4                  6  89.285905  15.606278  2.598  16.24      14.749675  "
      ]
     },
     "execution_count": 163,
     "metadata": {},
     "output_type": "execute_result"
    }
   ],
   "source": [
    "merged_df = pd.merge(df_FCR, df_feeding_behaviours, on='Bird ID.', how='left')\n",
    "merged_df = pd.merge(merged_df, df_chemical_composition_of_feeds, on='Bird ID.', how='left')\n",
    "merged_df\n",
    "merged_df.to_csv(\"C:/Users/Silas Ochieng/Desktop/merged.csv\", index=False)\n",
    "merged = pd.read_csv(\"C:/Users/Silas Ochieng/Desktop/merged.csv\")  \n",
    "merged_df.head()"
   ]
  },
  {
   "cell_type": "markdown",
   "metadata": {},
   "source": [
    "\n",
    "After merging, the final dataset is now ready for further preprocessing, analysis, and modeling."
   ]
  },
  {
   "cell_type": "markdown",
   "metadata": {},
   "source": [
    " ---\n",
    "\n",
    " # 4. Load the merged dataset\n",
    " The merged dataset is then loaded into pandas dataframe for analysis set up"
   ]
  },
  {
   "cell_type": "code",
   "execution_count": 164,
   "metadata": {},
   "outputs": [
    {
     "data": {
      "text/html": [
       "<div>\n",
       "<style scoped>\n",
       "    .dataframe tbody tr th:only-of-type {\n",
       "        vertical-align: middle;\n",
       "    }\n",
       "\n",
       "    .dataframe tbody tr th {\n",
       "        vertical-align: top;\n",
       "    }\n",
       "\n",
       "    .dataframe thead th {\n",
       "        text-align: right;\n",
       "    }\n",
       "</style>\n",
       "<table border=\"1\" class=\"dataframe\">\n",
       "  <thead>\n",
       "    <tr style=\"text-align: right;\">\n",
       "      <th></th>\n",
       "      <th>0</th>\n",
       "      <th>1</th>\n",
       "      <th>2</th>\n",
       "      <th>3</th>\n",
       "      <th>4</th>\n",
       "      <th>5</th>\n",
       "      <th>6</th>\n",
       "      <th>7</th>\n",
       "      <th>8</th>\n",
       "      <th>9</th>\n",
       "      <th>10</th>\n",
       "    </tr>\n",
       "  </thead>\n",
       "  <tbody>\n",
       "    <tr>\n",
       "      <th>Bird ID.</th>\n",
       "      <td>R3B31</td>\n",
       "      <td>R3B47</td>\n",
       "      <td>R3B5</td>\n",
       "      <td>R3B60</td>\n",
       "      <td>R3B65</td>\n",
       "      <td>R3B66</td>\n",
       "      <td>R4M12</td>\n",
       "      <td>R6M1</td>\n",
       "      <td>R2B25</td>\n",
       "      <td>R2B42</td>\n",
       "      <td>R2B62</td>\n",
       "    </tr>\n",
       "    <tr>\n",
       "      <th>Total feed intake (g)</th>\n",
       "      <td>823.0</td>\n",
       "      <td>791.0</td>\n",
       "      <td>913.0</td>\n",
       "      <td>818.0</td>\n",
       "      <td>875.0</td>\n",
       "      <td>882.0</td>\n",
       "      <td>862.0</td>\n",
       "      <td>871.5</td>\n",
       "      <td>871.5</td>\n",
       "      <td>882.5</td>\n",
       "      <td>856.0</td>\n",
       "    </tr>\n",
       "    <tr>\n",
       "      <th>ADI (g)</th>\n",
       "      <td>117.571429</td>\n",
       "      <td>113.0</td>\n",
       "      <td>130.428571</td>\n",
       "      <td>116.857143</td>\n",
       "      <td>125.0</td>\n",
       "      <td>126.0</td>\n",
       "      <td>123.142857</td>\n",
       "      <td>124.5</td>\n",
       "      <td>126.071429</td>\n",
       "      <td>127.714286</td>\n",
       "      <td>122.285714</td>\n",
       "    </tr>\n",
       "    <tr>\n",
       "      <th>Total egg wt (g)</th>\n",
       "      <td>449.0</td>\n",
       "      <td>463.0</td>\n",
       "      <td>488.0</td>\n",
       "      <td>454.0</td>\n",
       "      <td>481.0</td>\n",
       "      <td>466.0</td>\n",
       "      <td>455.0</td>\n",
       "      <td>471.0</td>\n",
       "      <td>466.0</td>\n",
       "      <td>471.0</td>\n",
       "      <td>223.0</td>\n",
       "    </tr>\n",
       "    <tr>\n",
       "      <th>FCR</th>\n",
       "      <td>1.832962</td>\n",
       "      <td>1.708423</td>\n",
       "      <td>1.870902</td>\n",
       "      <td>1.801762</td>\n",
       "      <td>1.819127</td>\n",
       "      <td>1.892704</td>\n",
       "      <td>1.894505</td>\n",
       "      <td>1.850318</td>\n",
       "      <td>1.893777</td>\n",
       "      <td>1.898089</td>\n",
       "      <td>1.919283</td>\n",
       "    </tr>\n",
       "    <tr>\n",
       "      <th>No.  of feeding- bout/h</th>\n",
       "      <td>24</td>\n",
       "      <td>84</td>\n",
       "      <td>24</td>\n",
       "      <td>30</td>\n",
       "      <td>36</td>\n",
       "      <td>18</td>\n",
       "      <td>30</td>\n",
       "      <td>66</td>\n",
       "      <td>12</td>\n",
       "      <td>24</td>\n",
       "      <td>30</td>\n",
       "    </tr>\n",
       "    <tr>\n",
       "      <th>Time spent for feeding /h</th>\n",
       "      <td>18</td>\n",
       "      <td>42</td>\n",
       "      <td>18</td>\n",
       "      <td>18</td>\n",
       "      <td>24</td>\n",
       "      <td>30</td>\n",
       "      <td>18</td>\n",
       "      <td>12</td>\n",
       "      <td>18</td>\n",
       "      <td>21</td>\n",
       "      <td>6</td>\n",
       "    </tr>\n",
       "    <tr>\n",
       "      <th>No.  of Still/h</th>\n",
       "      <td>42</td>\n",
       "      <td>72</td>\n",
       "      <td>12</td>\n",
       "      <td>24</td>\n",
       "      <td>12</td>\n",
       "      <td>1</td>\n",
       "      <td>6</td>\n",
       "      <td>1</td>\n",
       "      <td>1</td>\n",
       "      <td>30</td>\n",
       "      <td>12</td>\n",
       "    </tr>\n",
       "    <tr>\n",
       "      <th>No.  of Rest/h</th>\n",
       "      <td>1</td>\n",
       "      <td>1</td>\n",
       "      <td>6</td>\n",
       "      <td>18</td>\n",
       "      <td>1</td>\n",
       "      <td>1</td>\n",
       "      <td>6</td>\n",
       "      <td>24</td>\n",
       "      <td>6</td>\n",
       "      <td>6</td>\n",
       "      <td>1</td>\n",
       "    </tr>\n",
       "    <tr>\n",
       "      <th>No  of Head flicks/h</th>\n",
       "      <td>36</td>\n",
       "      <td>18</td>\n",
       "      <td>54</td>\n",
       "      <td>2</td>\n",
       "      <td>6</td>\n",
       "      <td>6</td>\n",
       "      <td>12</td>\n",
       "      <td>36</td>\n",
       "      <td>6</td>\n",
       "      <td>6</td>\n",
       "      <td>60</td>\n",
       "    </tr>\n",
       "    <tr>\n",
       "      <th>No.  of drinking/h</th>\n",
       "      <td>12</td>\n",
       "      <td>6</td>\n",
       "      <td>6</td>\n",
       "      <td>6</td>\n",
       "      <td>6</td>\n",
       "      <td>6</td>\n",
       "      <td>1</td>\n",
       "      <td>12</td>\n",
       "      <td>6</td>\n",
       "      <td>6</td>\n",
       "      <td>6</td>\n",
       "    </tr>\n",
       "    <tr>\n",
       "      <th>No. of preening/h</th>\n",
       "      <td>15</td>\n",
       "      <td>16</td>\n",
       "      <td>14</td>\n",
       "      <td>20</td>\n",
       "      <td>18</td>\n",
       "      <td>14</td>\n",
       "      <td>22</td>\n",
       "      <td>17</td>\n",
       "      <td>21</td>\n",
       "      <td>21</td>\n",
       "      <td>20</td>\n",
       "    </tr>\n",
       "    <tr>\n",
       "      <th>No.  of feeder pecking/h</th>\n",
       "      <td>12</td>\n",
       "      <td>7</td>\n",
       "      <td>12</td>\n",
       "      <td>6</td>\n",
       "      <td>12</td>\n",
       "      <td>5</td>\n",
       "      <td>12</td>\n",
       "      <td>48</td>\n",
       "      <td>7</td>\n",
       "      <td>8</td>\n",
       "      <td>60</td>\n",
       "    </tr>\n",
       "    <tr>\n",
       "      <th>No. of cage pecking</th>\n",
       "      <td>22</td>\n",
       "      <td>23</td>\n",
       "      <td>18</td>\n",
       "      <td>21</td>\n",
       "      <td>19</td>\n",
       "      <td>21</td>\n",
       "      <td>18</td>\n",
       "      <td>12</td>\n",
       "      <td>16</td>\n",
       "      <td>16</td>\n",
       "      <td>12</td>\n",
       "    </tr>\n",
       "    <tr>\n",
       "      <th>No.  of Walking/h</th>\n",
       "      <td>12</td>\n",
       "      <td>12</td>\n",
       "      <td>6</td>\n",
       "      <td>12</td>\n",
       "      <td>6</td>\n",
       "      <td>6</td>\n",
       "      <td>13</td>\n",
       "      <td>18</td>\n",
       "      <td>6</td>\n",
       "      <td>24</td>\n",
       "      <td>6</td>\n",
       "    </tr>\n",
       "    <tr>\n",
       "      <th>DM%</th>\n",
       "      <td>89.014993</td>\n",
       "      <td>88.174224</td>\n",
       "      <td>89.01672</td>\n",
       "      <td>87.727906</td>\n",
       "      <td>89.285905</td>\n",
       "      <td>89.396892</td>\n",
       "      <td>88.944041</td>\n",
       "      <td>88.775611</td>\n",
       "      <td>88.55952</td>\n",
       "      <td>88.395921</td>\n",
       "      <td>89.166212</td>\n",
       "    </tr>\n",
       "    <tr>\n",
       "      <th>Ash%</th>\n",
       "      <td>11.025366</td>\n",
       "      <td>14.232869</td>\n",
       "      <td>11.557241</td>\n",
       "      <td>10.74107</td>\n",
       "      <td>15.606278</td>\n",
       "      <td>15.363171</td>\n",
       "      <td>11.672107</td>\n",
       "      <td>18.036061</td>\n",
       "      <td>22.595315</td>\n",
       "      <td>14.258384</td>\n",
       "      <td>16.371794</td>\n",
       "    </tr>\n",
       "    <tr>\n",
       "      <th>N%</th>\n",
       "      <td>3.15</td>\n",
       "      <td>2.648</td>\n",
       "      <td>3.069</td>\n",
       "      <td>2.749</td>\n",
       "      <td>2.598</td>\n",
       "      <td>2.806</td>\n",
       "      <td>2.775</td>\n",
       "      <td>2.69</td>\n",
       "      <td>2.622</td>\n",
       "      <td>2.608</td>\n",
       "      <td>2.867</td>\n",
       "    </tr>\n",
       "    <tr>\n",
       "      <th>CP%</th>\n",
       "      <td>19.69</td>\n",
       "      <td>16.55</td>\n",
       "      <td>19.18</td>\n",
       "      <td>17.18</td>\n",
       "      <td>16.24</td>\n",
       "      <td>17.54</td>\n",
       "      <td>17.34</td>\n",
       "      <td>16.81</td>\n",
       "      <td>16.39</td>\n",
       "      <td>16.3</td>\n",
       "      <td>17.92</td>\n",
       "    </tr>\n",
       "    <tr>\n",
       "      <th>GE  (kcal/kg)</th>\n",
       "      <td>15.141612</td>\n",
       "      <td>14.384441</td>\n",
       "      <td>15.686275</td>\n",
       "      <td>15.264109</td>\n",
       "      <td>14.749675</td>\n",
       "      <td>15.494978</td>\n",
       "      <td>15.066865</td>\n",
       "      <td>14.713896</td>\n",
       "      <td>13.58843</td>\n",
       "      <td>14.176814</td>\n",
       "      <td>14.933818</td>\n",
       "    </tr>\n",
       "  </tbody>\n",
       "</table>\n",
       "</div>"
      ],
      "text/plain": [
       "                                   0          1           2           3   \\\n",
       "Bird ID.                        R3B31      R3B47        R3B5       R3B60   \n",
       "Total feed intake (g)           823.0      791.0       913.0       818.0   \n",
       "ADI (g)                    117.571429      113.0  130.428571  116.857143   \n",
       "Total egg wt (g)                449.0      463.0       488.0       454.0   \n",
       "FCR                          1.832962   1.708423    1.870902    1.801762   \n",
       "No.  of feeding- bout/h            24         84          24          30   \n",
       "Time spent for feeding /h          18         42          18          18   \n",
       "No.  of Still/h                    42         72          12          24   \n",
       "No.  of Rest/h                      1          1           6          18   \n",
       "No  of Head flicks/h               36         18          54           2   \n",
       "No.  of drinking/h                 12          6           6           6   \n",
       "No. of preening/h                  15         16          14          20   \n",
       "No.  of feeder pecking/h           12          7          12           6   \n",
       "No. of cage pecking                22         23          18          21   \n",
       "No.  of Walking/h                  12         12           6          12   \n",
       "DM%                         89.014993  88.174224    89.01672   87.727906   \n",
       "Ash%                        11.025366  14.232869   11.557241    10.74107   \n",
       "N%                               3.15      2.648       3.069       2.749   \n",
       "CP%                             19.69      16.55       19.18       17.18   \n",
       "GE  (kcal/kg)               15.141612  14.384441   15.686275   15.264109   \n",
       "\n",
       "                                  4          5           6          7   \\\n",
       "Bird ID.                       R3B65      R3B66       R4M12       R6M1   \n",
       "Total feed intake (g)          875.0      882.0       862.0      871.5   \n",
       "ADI (g)                        125.0      126.0  123.142857      124.5   \n",
       "Total egg wt (g)               481.0      466.0       455.0      471.0   \n",
       "FCR                         1.819127   1.892704    1.894505   1.850318   \n",
       "No.  of feeding- bout/h           36         18          30         66   \n",
       "Time spent for feeding /h         24         30          18         12   \n",
       "No.  of Still/h                   12          1           6          1   \n",
       "No.  of Rest/h                     1          1           6         24   \n",
       "No  of Head flicks/h               6          6          12         36   \n",
       "No.  of drinking/h                 6          6           1         12   \n",
       "No. of preening/h                 18         14          22         17   \n",
       "No.  of feeder pecking/h          12          5          12         48   \n",
       "No. of cage pecking               19         21          18         12   \n",
       "No.  of Walking/h                  6          6          13         18   \n",
       "DM%                        89.285905  89.396892   88.944041  88.775611   \n",
       "Ash%                       15.606278  15.363171   11.672107  18.036061   \n",
       "N%                             2.598      2.806       2.775       2.69   \n",
       "CP%                            16.24      17.54       17.34      16.81   \n",
       "GE  (kcal/kg)              14.749675  15.494978   15.066865  14.713896   \n",
       "\n",
       "                                   8           9           10  \n",
       "Bird ID.                        R2B25       R2B42       R2B62  \n",
       "Total feed intake (g)           871.5       882.5       856.0  \n",
       "ADI (g)                    126.071429  127.714286  122.285714  \n",
       "Total egg wt (g)                466.0       471.0       223.0  \n",
       "FCR                          1.893777    1.898089    1.919283  \n",
       "No.  of feeding- bout/h            12          24          30  \n",
       "Time spent for feeding /h          18          21           6  \n",
       "No.  of Still/h                     1          30          12  \n",
       "No.  of Rest/h                      6           6           1  \n",
       "No  of Head flicks/h                6           6          60  \n",
       "No.  of drinking/h                  6           6           6  \n",
       "No. of preening/h                  21          21          20  \n",
       "No.  of feeder pecking/h            7           8          60  \n",
       "No. of cage pecking                16          16          12  \n",
       "No.  of Walking/h                   6          24           6  \n",
       "DM%                          88.55952   88.395921   89.166212  \n",
       "Ash%                        22.595315   14.258384   16.371794  \n",
       "N%                              2.622       2.608       2.867  \n",
       "CP%                             16.39        16.3       17.92  \n",
       "GE  (kcal/kg)                13.58843   14.176814   14.933818  "
      ]
     },
     "execution_count": 164,
     "metadata": {},
     "output_type": "execute_result"
    }
   ],
   "source": [
    "df = pd.read_csv(\"C:/Users/Silas Ochieng/Desktop/merged.csv\")\n",
    "df.head(11).T"
   ]
  },
  {
   "cell_type": "markdown",
   "metadata": {},
   "source": [
    "---\n",
    "\n",
    "## 4.1.  DataFrame Overview and Summary\n",
    "\n",
    "To gain a comprehensive understanding of the DataFrame,the study use the following commands:\n",
    "\n",
    "- `df.info()`:to provides a concise summary of the DataFrame, including column names, non-null counts, data types, and memory usage.\n"
   ]
  },
  {
   "cell_type": "code",
   "execution_count": 165,
   "metadata": {},
   "outputs": [
    {
     "name": "stdout",
     "output_type": "stream",
     "text": [
      "<class 'pandas.core.frame.DataFrame'>\n",
      "RangeIndex: 68 entries, 0 to 67\n",
      "Data columns (total 20 columns):\n",
      " #   Column                     Non-Null Count  Dtype  \n",
      "---  ------                     --------------  -----  \n",
      " 0   Bird ID.                   68 non-null     object \n",
      " 1   Total feed intake (g)      68 non-null     float64\n",
      " 2   ADI (g)                    68 non-null     float64\n",
      " 3   Total egg wt (g)           68 non-null     float64\n",
      " 4   FCR                        68 non-null     float64\n",
      " 5   No.  of feeding- bout/h    68 non-null     int64  \n",
      " 6   Time spent for feeding /h  68 non-null     int64  \n",
      " 7   No.  of Still/h            68 non-null     int64  \n",
      " 8   No.  of Rest/h             68 non-null     int64  \n",
      " 9   No  of Head flicks/h       68 non-null     int64  \n",
      " 10  No.  of drinking/h         68 non-null     int64  \n",
      " 11  No. of preening/h          68 non-null     int64  \n",
      " 12  No.  of feeder pecking/h   68 non-null     int64  \n",
      " 13  No. of cage pecking        68 non-null     int64  \n",
      " 14  No.  of Walking/h          68 non-null     int64  \n",
      " 15  DM%                        68 non-null     float64\n",
      " 16  Ash%                       68 non-null     float64\n",
      " 17  N%                         68 non-null     float64\n",
      " 18  CP%                        68 non-null     float64\n",
      " 19  GE  (kcal/kg)              68 non-null     float64\n",
      "dtypes: float64(9), int64(10), object(1)\n",
      "memory usage: 10.8+ KB\n"
     ]
    }
   ],
   "source": [
    "df.info()"
   ]
  },
  {
   "cell_type": "markdown",
   "metadata": {},
   "source": [
    "## The insights from the output\n",
    "- **RangeIndex**: Indicates the DataFrame has 68 entries, indexed from 0 to 67.\n",
    "- **Data Columns**: There are a total of 20 columns in the DataFrame.\n",
    "- **Column Names and Non-Null Count**: Lists each column's name along with the count of non-null (non-missing) values in that column.\n",
    "  - For example, `Bird ID.` has 68 non-null entries, indicating there are no missing values in this column.\n",
    "- **Data Type (Dtype)**: Shows the data type of each column.\n",
    "  - For instance, `Total feed intake`, `ADI`, and several other columns are of type `float64`, while columns such as `No. of feeding- bout/h` are of type `int64`.\n",
    "  - The `Bird ID.` column is of type `object`, indicating it contains string data.\n",
    "- **Memory Usage**: The DataFrame uses approximately 10.8 KB of memory.\n"
   ]
  },
  {
   "cell_type": "markdown",
   "metadata": {},
   "source": [
    "# 4.1.1  Shape of the dataset\n",
    "shape will show how many features (columns) and observations (rows) there are in the dataset.\n"
   ]
  },
  {
   "cell_type": "code",
   "execution_count": 166,
   "metadata": {},
   "outputs": [
    {
     "name": "stdout",
     "output_type": "stream",
     "text": [
      "Columns: 20\n",
      "Samples: 68\n"
     ]
    }
   ],
   "source": [
    "print(f\"Columns: {df.shape[1]}\\nSamples: {df.shape[0]}\")"
   ]
  },
  {
   "cell_type": "markdown",
   "metadata": {},
   "source": [
    "- `dataframe has`:\n",
    "**68**: Number of rows (observations/records/samples).\n",
    "**20**: Number of columns (features/variables)"
   ]
  },
  {
   "cell_type": "markdown",
   "metadata": {},
   "source": [
    " # 4.1.2. Checking for null values\n",
    " - `df.isnull().sum()`:checks for missing values in each column of the DataFrame ‘df’ and returns the sum of null values for each column"
   ]
  },
  {
   "cell_type": "code",
   "execution_count": 167,
   "metadata": {},
   "outputs": [
    {
     "data": {
      "text/plain": [
       "Bird ID.                     0\n",
       "Total feed intake (g)        0\n",
       "ADI (g)                      0\n",
       "Total egg wt (g)             0\n",
       "FCR                          0\n",
       "No.  of feeding- bout/h      0\n",
       "Time spent for feeding /h    0\n",
       "No.  of Still/h              0\n",
       "No.  of Rest/h               0\n",
       "No  of Head flicks/h         0\n",
       "No.  of drinking/h           0\n",
       "No. of preening/h            0\n",
       "No.  of feeder pecking/h     0\n",
       "No. of cage pecking          0\n",
       "No.  of Walking/h            0\n",
       "DM%                          0\n",
       "Ash%                         0\n",
       "N%                           0\n",
       "CP%                          0\n",
       "GE  (kcal/kg)                0\n",
       "dtype: int64"
      ]
     },
     "execution_count": 167,
     "metadata": {},
     "output_type": "execute_result"
    }
   ],
   "source": [
    "df.isnull().sum()"
   ]
  },
  {
   "cell_type": "markdown",
   "metadata": {},
   "source": [
    "- **Since all columns have a count of 0**, it means there are no missing values in the dataset"
   ]
  },
  {
   "cell_type": "markdown",
   "metadata": {},
   "source": [
    "# 4.1.3.  Summary statistics\n",
    "- **Summary statistics**: provide key insights into the distribution, central tendency, and variability of numerical features.The study has employed  **df.describe().T`**: to provide summary statistics for numerical columns in the DataFrame, and transposes the result for easier readability.\n"
   ]
  },
  {
   "cell_type": "code",
   "execution_count": 168,
   "metadata": {},
   "outputs": [
    {
     "data": {
      "text/html": [
       "<div>\n",
       "<style scoped>\n",
       "    .dataframe tbody tr th:only-of-type {\n",
       "        vertical-align: middle;\n",
       "    }\n",
       "\n",
       "    .dataframe tbody tr th {\n",
       "        vertical-align: top;\n",
       "    }\n",
       "\n",
       "    .dataframe thead th {\n",
       "        text-align: right;\n",
       "    }\n",
       "</style>\n",
       "<table border=\"1\" class=\"dataframe\">\n",
       "  <thead>\n",
       "    <tr style=\"text-align: right;\">\n",
       "      <th></th>\n",
       "      <th>count</th>\n",
       "      <th>mean</th>\n",
       "      <th>std</th>\n",
       "      <th>min</th>\n",
       "      <th>25%</th>\n",
       "      <th>50%</th>\n",
       "      <th>75%</th>\n",
       "      <th>max</th>\n",
       "    </tr>\n",
       "  </thead>\n",
       "  <tbody>\n",
       "    <tr>\n",
       "      <th>Total feed intake (g)</th>\n",
       "      <td>68.0</td>\n",
       "      <td>897.323529</td>\n",
       "      <td>89.902508</td>\n",
       "      <td>704.000000</td>\n",
       "      <td>838.500000</td>\n",
       "      <td>878.250000</td>\n",
       "      <td>960.250000</td>\n",
       "      <td>1145.000000</td>\n",
       "    </tr>\n",
       "    <tr>\n",
       "      <th>ADI (g)</th>\n",
       "      <td>68.0</td>\n",
       "      <td>128.235294</td>\n",
       "      <td>12.835649</td>\n",
       "      <td>100.571429</td>\n",
       "      <td>119.785714</td>\n",
       "      <td>125.964286</td>\n",
       "      <td>137.178571</td>\n",
       "      <td>163.571429</td>\n",
       "    </tr>\n",
       "    <tr>\n",
       "      <th>Total egg wt (g)</th>\n",
       "      <td>68.0</td>\n",
       "      <td>447.683824</td>\n",
       "      <td>44.122362</td>\n",
       "      <td>223.000000</td>\n",
       "      <td>431.875000</td>\n",
       "      <td>454.500000</td>\n",
       "      <td>471.000000</td>\n",
       "      <td>529.000000</td>\n",
       "    </tr>\n",
       "    <tr>\n",
       "      <th>FCR</th>\n",
       "      <td>68.0</td>\n",
       "      <td>1.992196</td>\n",
       "      <td>0.200961</td>\n",
       "      <td>1.483607</td>\n",
       "      <td>1.851469</td>\n",
       "      <td>1.934027</td>\n",
       "      <td>2.135443</td>\n",
       "      <td>2.490950</td>\n",
       "    </tr>\n",
       "    <tr>\n",
       "      <th>No.  of feeding- bout/h</th>\n",
       "      <td>68.0</td>\n",
       "      <td>24.529412</td>\n",
       "      <td>17.553730</td>\n",
       "      <td>6.000000</td>\n",
       "      <td>12.000000</td>\n",
       "      <td>24.000000</td>\n",
       "      <td>30.000000</td>\n",
       "      <td>84.000000</td>\n",
       "    </tr>\n",
       "    <tr>\n",
       "      <th>Time spent for feeding /h</th>\n",
       "      <td>68.0</td>\n",
       "      <td>27.000000</td>\n",
       "      <td>13.396368</td>\n",
       "      <td>0.000000</td>\n",
       "      <td>18.000000</td>\n",
       "      <td>30.000000</td>\n",
       "      <td>36.000000</td>\n",
       "      <td>54.000000</td>\n",
       "    </tr>\n",
       "    <tr>\n",
       "      <th>No.  of Still/h</th>\n",
       "      <td>68.0</td>\n",
       "      <td>9.794118</td>\n",
       "      <td>11.803818</td>\n",
       "      <td>1.000000</td>\n",
       "      <td>1.000000</td>\n",
       "      <td>6.000000</td>\n",
       "      <td>12.000000</td>\n",
       "      <td>72.000000</td>\n",
       "    </tr>\n",
       "    <tr>\n",
       "      <th>No.  of Rest/h</th>\n",
       "      <td>68.0</td>\n",
       "      <td>3.838235</td>\n",
       "      <td>4.708234</td>\n",
       "      <td>1.000000</td>\n",
       "      <td>1.000000</td>\n",
       "      <td>1.000000</td>\n",
       "      <td>6.000000</td>\n",
       "      <td>24.000000</td>\n",
       "    </tr>\n",
       "    <tr>\n",
       "      <th>No  of Head flicks/h</th>\n",
       "      <td>68.0</td>\n",
       "      <td>25.705882</td>\n",
       "      <td>19.572337</td>\n",
       "      <td>0.000000</td>\n",
       "      <td>10.500000</td>\n",
       "      <td>18.000000</td>\n",
       "      <td>36.000000</td>\n",
       "      <td>72.000000</td>\n",
       "    </tr>\n",
       "    <tr>\n",
       "      <th>No.  of drinking/h</th>\n",
       "      <td>68.0</td>\n",
       "      <td>3.691176</td>\n",
       "      <td>3.057935</td>\n",
       "      <td>1.000000</td>\n",
       "      <td>1.000000</td>\n",
       "      <td>2.500000</td>\n",
       "      <td>6.000000</td>\n",
       "      <td>12.000000</td>\n",
       "    </tr>\n",
       "    <tr>\n",
       "      <th>No. of preening/h</th>\n",
       "      <td>68.0</td>\n",
       "      <td>16.367647</td>\n",
       "      <td>4.062587</td>\n",
       "      <td>10.000000</td>\n",
       "      <td>12.000000</td>\n",
       "      <td>16.000000</td>\n",
       "      <td>19.000000</td>\n",
       "      <td>26.000000</td>\n",
       "    </tr>\n",
       "    <tr>\n",
       "      <th>No.  of feeder pecking/h</th>\n",
       "      <td>68.0</td>\n",
       "      <td>13.955882</td>\n",
       "      <td>12.001783</td>\n",
       "      <td>5.000000</td>\n",
       "      <td>6.000000</td>\n",
       "      <td>11.500000</td>\n",
       "      <td>13.000000</td>\n",
       "      <td>60.000000</td>\n",
       "    </tr>\n",
       "    <tr>\n",
       "      <th>No. of cage pecking</th>\n",
       "      <td>68.0</td>\n",
       "      <td>18.779412</td>\n",
       "      <td>6.737832</td>\n",
       "      <td>12.000000</td>\n",
       "      <td>12.000000</td>\n",
       "      <td>18.000000</td>\n",
       "      <td>22.000000</td>\n",
       "      <td>48.000000</td>\n",
       "    </tr>\n",
       "    <tr>\n",
       "      <th>No.  of Walking/h</th>\n",
       "      <td>68.0</td>\n",
       "      <td>15.676471</td>\n",
       "      <td>8.739072</td>\n",
       "      <td>6.000000</td>\n",
       "      <td>12.000000</td>\n",
       "      <td>12.000000</td>\n",
       "      <td>18.000000</td>\n",
       "      <td>42.000000</td>\n",
       "    </tr>\n",
       "    <tr>\n",
       "      <th>DM%</th>\n",
       "      <td>68.0</td>\n",
       "      <td>88.946283</td>\n",
       "      <td>1.235518</td>\n",
       "      <td>85.239085</td>\n",
       "      <td>88.386029</td>\n",
       "      <td>89.007426</td>\n",
       "      <td>89.714506</td>\n",
       "      <td>93.095829</td>\n",
       "    </tr>\n",
       "    <tr>\n",
       "      <th>Ash%</th>\n",
       "      <td>68.0</td>\n",
       "      <td>18.807925</td>\n",
       "      <td>6.139027</td>\n",
       "      <td>9.137096</td>\n",
       "      <td>14.121235</td>\n",
       "      <td>17.343463</td>\n",
       "      <td>22.604969</td>\n",
       "      <td>33.503335</td>\n",
       "    </tr>\n",
       "    <tr>\n",
       "      <th>N%</th>\n",
       "      <td>68.0</td>\n",
       "      <td>2.593382</td>\n",
       "      <td>0.276754</td>\n",
       "      <td>1.855000</td>\n",
       "      <td>2.396000</td>\n",
       "      <td>2.596000</td>\n",
       "      <td>2.814750</td>\n",
       "      <td>3.233000</td>\n",
       "    </tr>\n",
       "    <tr>\n",
       "      <th>CP%</th>\n",
       "      <td>68.0</td>\n",
       "      <td>16.208529</td>\n",
       "      <td>1.729452</td>\n",
       "      <td>11.590000</td>\n",
       "      <td>14.975000</td>\n",
       "      <td>16.225000</td>\n",
       "      <td>17.595000</td>\n",
       "      <td>20.200000</td>\n",
       "    </tr>\n",
       "    <tr>\n",
       "      <th>GE  (kcal/kg)</th>\n",
       "      <td>68.0</td>\n",
       "      <td>14.121919</td>\n",
       "      <td>0.954847</td>\n",
       "      <td>12.115804</td>\n",
       "      <td>13.419713</td>\n",
       "      <td>14.297043</td>\n",
       "      <td>14.939316</td>\n",
       "      <td>15.686275</td>\n",
       "    </tr>\n",
       "  </tbody>\n",
       "</table>\n",
       "</div>"
      ],
      "text/plain": [
       "                           count        mean        std         min  \\\n",
       "Total feed intake (g)       68.0  897.323529  89.902508  704.000000   \n",
       "ADI (g)                     68.0  128.235294  12.835649  100.571429   \n",
       "Total egg wt (g)            68.0  447.683824  44.122362  223.000000   \n",
       "FCR                         68.0    1.992196   0.200961    1.483607   \n",
       "No.  of feeding- bout/h     68.0   24.529412  17.553730    6.000000   \n",
       "Time spent for feeding /h   68.0   27.000000  13.396368    0.000000   \n",
       "No.  of Still/h             68.0    9.794118  11.803818    1.000000   \n",
       "No.  of Rest/h              68.0    3.838235   4.708234    1.000000   \n",
       "No  of Head flicks/h        68.0   25.705882  19.572337    0.000000   \n",
       "No.  of drinking/h          68.0    3.691176   3.057935    1.000000   \n",
       "No. of preening/h           68.0   16.367647   4.062587   10.000000   \n",
       "No.  of feeder pecking/h    68.0   13.955882  12.001783    5.000000   \n",
       "No. of cage pecking         68.0   18.779412   6.737832   12.000000   \n",
       "No.  of Walking/h           68.0   15.676471   8.739072    6.000000   \n",
       "DM%                         68.0   88.946283   1.235518   85.239085   \n",
       "Ash%                        68.0   18.807925   6.139027    9.137096   \n",
       "N%                          68.0    2.593382   0.276754    1.855000   \n",
       "CP%                         68.0   16.208529   1.729452   11.590000   \n",
       "GE  (kcal/kg)               68.0   14.121919   0.954847   12.115804   \n",
       "\n",
       "                                  25%         50%         75%          max  \n",
       "Total feed intake (g)      838.500000  878.250000  960.250000  1145.000000  \n",
       "ADI (g)                    119.785714  125.964286  137.178571   163.571429  \n",
       "Total egg wt (g)           431.875000  454.500000  471.000000   529.000000  \n",
       "FCR                          1.851469    1.934027    2.135443     2.490950  \n",
       "No.  of feeding- bout/h     12.000000   24.000000   30.000000    84.000000  \n",
       "Time spent for feeding /h   18.000000   30.000000   36.000000    54.000000  \n",
       "No.  of Still/h              1.000000    6.000000   12.000000    72.000000  \n",
       "No.  of Rest/h               1.000000    1.000000    6.000000    24.000000  \n",
       "No  of Head flicks/h        10.500000   18.000000   36.000000    72.000000  \n",
       "No.  of drinking/h           1.000000    2.500000    6.000000    12.000000  \n",
       "No. of preening/h           12.000000   16.000000   19.000000    26.000000  \n",
       "No.  of feeder pecking/h     6.000000   11.500000   13.000000    60.000000  \n",
       "No. of cage pecking         12.000000   18.000000   22.000000    48.000000  \n",
       "No.  of Walking/h           12.000000   12.000000   18.000000    42.000000  \n",
       "DM%                         88.386029   89.007426   89.714506    93.095829  \n",
       "Ash%                        14.121235   17.343463   22.604969    33.503335  \n",
       "N%                           2.396000    2.596000    2.814750     3.233000  \n",
       "CP%                         14.975000   16.225000   17.595000    20.200000  \n",
       "GE  (kcal/kg)               13.419713   14.297043   14.939316    15.686275  "
      ]
     },
     "execution_count": 168,
     "metadata": {},
     "output_type": "execute_result"
    }
   ],
   "source": [
    "df.describe().T"
   ]
  },
  {
   "cell_type": "markdown",
   "metadata": {},
   "source": [
    "The above  table presents summary statistics for various features in the dataset. The key metrics include:\n",
    "\n",
    "**Count**: The number of non-missing values (68 observations for each variable).\n",
    "**Mean**: The average value for each feature.\n",
    "**Standard Deviation (std)**: The spread of values around the mean.\n",
    "**Min**: The minimum recorded value.\n",
    "**25%** (Q1): The first quartile, indicating the value below which 25% of observations fall.\n",
    "**50%** (Median/Q2): The middle value, splitting the dataset into two equal halves.\n",
    "**75%** (Q3): The third quartile, indicating the value below which 75% of observations fall.\n",
    "**Max**: The highest recorded value."
   ]
  },
  {
   "cell_type": "markdown",
   "metadata": {},
   "source": [
    "---\n",
    "\n",
    "# 5. Exploratory Data Analysis\n",
    "This analysis explores the dataframe, focusing on Total feed intake, Average daily intake, Total egg weight, behavioral metrics, Feed conversion ratio(FCR) and Feed remains composition with the  goal to uncover trends and patterns of features in the dataset through univariate analysis,bivariate analysis and multivariate analysis"
   ]
  },
  {
   "cell_type": "markdown",
   "metadata": {},
   "source": [
    "# 5.1  Univariate analysis\n",
    "- Involves analysing a single variable to understand its distribution,central tendency and spread\n",
    "- Histograms and violin plots are used to visualize the distribution of key variables such as total feed intake and total egg weight.\n",
    "\n",
    "### Understanding Total feed intake distribution with a histogram plot\n",
    "The below code generates and displays a histogram for the \"Total feed intake\" column in the dataset using Plotly Express.\n",
    "The number of bins is set to 20 determining how data is grouped into intervals\n"
   ]
  },
  {
   "cell_type": "code",
   "execution_count": 169,
   "metadata": {},
   "outputs": [
    {
     "data": {
      "application/vnd.plotly.v1+json": {
       "config": {
        "plotlyServerURL": "https://plot.ly"
       },
       "data": [
        {
         "bingroup": "x",
         "hovertemplate": "Total feed intake (g)=%{x}<br>count=%{y}<extra></extra>",
         "legendgroup": "",
         "marker": {
          "color": "#636efa",
          "pattern": {
           "shape": ""
          }
         },
         "name": "",
         "nbinsx": 20,
         "orientation": "v",
         "showlegend": false,
         "type": "histogram",
         "x": {
          "bdata": "AAAAAAC4iUAAAAAAALiIQAAAAAAAiIxAAAAAAACQiUAAAAAAAFiLQAAAAAAAkItAAAAAAADwikAAAAAAADyLQAAAAAAAPItAAAAAAACUi0AAAAAAAMCKQAAAAAAARItAAAAAAADIi0AAAAAAANCKQAAAAAAAoIZAAAAAAADgi0AAAAAAAFCKQAAAAAAAKIpAAAAAAAD4iEAAAAAAAPCHQAAAAAAAAIZAAAAAAAAAiUAAAAAAAHiOQAAAAAAAWItAAAAAAAAwiUAAAAAAAECJQAAAAAAAKIpAAAAAAABYikAAAAAAAKiIQAAAAAAA6IpAAAAAAADQikAAAAAAANiIQAAAAAAAKIpAAAAAAADojEAAAAAAAPCNQAAAAAAASIxAAAAAAABIjEAAAAAAAOSRQAAAAAAAOIpAAAAAAAAgj0AAAAAAACSQQAAAAAAARJBAAAAAAADAi0AAAAAAAMyKQAAAAAAAjItAAAAAAABQi0AAAAAAANyKQAAAAAAAnIpAAAAAAADAjEAAAAAAAEyQQAAAAAAA4ItAAAAAAACAkEAAAAAAANiJQAAAAAAAeIxAAAAAAABgjkAAAAAAAECPQAAAAAAAyI5AAAAAAAAIjEAAAAAAAGiNQAAAAAAAIIxAAAAAAADYiUAAAAAAAEiRQAAAAAAAeI5AAAAAAACQjkAAAAAAADSRQAAAAAAASJBAAAAAAAA4jkAAAAAAAHCPQA==",
          "dtype": "f8"
         },
         "xaxis": "x",
         "yaxis": "y"
        }
       ],
       "layout": {
        "barmode": "relative",
        "legend": {
         "tracegroupgap": 0
        },
        "template": {
         "data": {
          "bar": [
           {
            "error_x": {
             "color": "#2a3f5f"
            },
            "error_y": {
             "color": "#2a3f5f"
            },
            "marker": {
             "line": {
              "color": "white",
              "width": 0.5
             },
             "pattern": {
              "fillmode": "overlay",
              "size": 10,
              "solidity": 0.2
             }
            },
            "type": "bar"
           }
          ],
          "barpolar": [
           {
            "marker": {
             "line": {
              "color": "white",
              "width": 0.5
             },
             "pattern": {
              "fillmode": "overlay",
              "size": 10,
              "solidity": 0.2
             }
            },
            "type": "barpolar"
           }
          ],
          "carpet": [
           {
            "aaxis": {
             "endlinecolor": "#2a3f5f",
             "gridcolor": "#C8D4E3",
             "linecolor": "#C8D4E3",
             "minorgridcolor": "#C8D4E3",
             "startlinecolor": "#2a3f5f"
            },
            "baxis": {
             "endlinecolor": "#2a3f5f",
             "gridcolor": "#C8D4E3",
             "linecolor": "#C8D4E3",
             "minorgridcolor": "#C8D4E3",
             "startlinecolor": "#2a3f5f"
            },
            "type": "carpet"
           }
          ],
          "choropleth": [
           {
            "colorbar": {
             "outlinewidth": 0,
             "ticks": ""
            },
            "type": "choropleth"
           }
          ],
          "contour": [
           {
            "colorbar": {
             "outlinewidth": 0,
             "ticks": ""
            },
            "colorscale": [
             [
              0,
              "#0d0887"
             ],
             [
              0.1111111111111111,
              "#46039f"
             ],
             [
              0.2222222222222222,
              "#7201a8"
             ],
             [
              0.3333333333333333,
              "#9c179e"
             ],
             [
              0.4444444444444444,
              "#bd3786"
             ],
             [
              0.5555555555555556,
              "#d8576b"
             ],
             [
              0.6666666666666666,
              "#ed7953"
             ],
             [
              0.7777777777777778,
              "#fb9f3a"
             ],
             [
              0.8888888888888888,
              "#fdca26"
             ],
             [
              1,
              "#f0f921"
             ]
            ],
            "type": "contour"
           }
          ],
          "contourcarpet": [
           {
            "colorbar": {
             "outlinewidth": 0,
             "ticks": ""
            },
            "type": "contourcarpet"
           }
          ],
          "heatmap": [
           {
            "colorbar": {
             "outlinewidth": 0,
             "ticks": ""
            },
            "colorscale": [
             [
              0,
              "#0d0887"
             ],
             [
              0.1111111111111111,
              "#46039f"
             ],
             [
              0.2222222222222222,
              "#7201a8"
             ],
             [
              0.3333333333333333,
              "#9c179e"
             ],
             [
              0.4444444444444444,
              "#bd3786"
             ],
             [
              0.5555555555555556,
              "#d8576b"
             ],
             [
              0.6666666666666666,
              "#ed7953"
             ],
             [
              0.7777777777777778,
              "#fb9f3a"
             ],
             [
              0.8888888888888888,
              "#fdca26"
             ],
             [
              1,
              "#f0f921"
             ]
            ],
            "type": "heatmap"
           }
          ],
          "histogram": [
           {
            "marker": {
             "pattern": {
              "fillmode": "overlay",
              "size": 10,
              "solidity": 0.2
             }
            },
            "type": "histogram"
           }
          ],
          "histogram2d": [
           {
            "colorbar": {
             "outlinewidth": 0,
             "ticks": ""
            },
            "colorscale": [
             [
              0,
              "#0d0887"
             ],
             [
              0.1111111111111111,
              "#46039f"
             ],
             [
              0.2222222222222222,
              "#7201a8"
             ],
             [
              0.3333333333333333,
              "#9c179e"
             ],
             [
              0.4444444444444444,
              "#bd3786"
             ],
             [
              0.5555555555555556,
              "#d8576b"
             ],
             [
              0.6666666666666666,
              "#ed7953"
             ],
             [
              0.7777777777777778,
              "#fb9f3a"
             ],
             [
              0.8888888888888888,
              "#fdca26"
             ],
             [
              1,
              "#f0f921"
             ]
            ],
            "type": "histogram2d"
           }
          ],
          "histogram2dcontour": [
           {
            "colorbar": {
             "outlinewidth": 0,
             "ticks": ""
            },
            "colorscale": [
             [
              0,
              "#0d0887"
             ],
             [
              0.1111111111111111,
              "#46039f"
             ],
             [
              0.2222222222222222,
              "#7201a8"
             ],
             [
              0.3333333333333333,
              "#9c179e"
             ],
             [
              0.4444444444444444,
              "#bd3786"
             ],
             [
              0.5555555555555556,
              "#d8576b"
             ],
             [
              0.6666666666666666,
              "#ed7953"
             ],
             [
              0.7777777777777778,
              "#fb9f3a"
             ],
             [
              0.8888888888888888,
              "#fdca26"
             ],
             [
              1,
              "#f0f921"
             ]
            ],
            "type": "histogram2dcontour"
           }
          ],
          "mesh3d": [
           {
            "colorbar": {
             "outlinewidth": 0,
             "ticks": ""
            },
            "type": "mesh3d"
           }
          ],
          "parcoords": [
           {
            "line": {
             "colorbar": {
              "outlinewidth": 0,
              "ticks": ""
             }
            },
            "type": "parcoords"
           }
          ],
          "pie": [
           {
            "automargin": true,
            "type": "pie"
           }
          ],
          "scatter": [
           {
            "fillpattern": {
             "fillmode": "overlay",
             "size": 10,
             "solidity": 0.2
            },
            "type": "scatter"
           }
          ],
          "scatter3d": [
           {
            "line": {
             "colorbar": {
              "outlinewidth": 0,
              "ticks": ""
             }
            },
            "marker": {
             "colorbar": {
              "outlinewidth": 0,
              "ticks": ""
             }
            },
            "type": "scatter3d"
           }
          ],
          "scattercarpet": [
           {
            "marker": {
             "colorbar": {
              "outlinewidth": 0,
              "ticks": ""
             }
            },
            "type": "scattercarpet"
           }
          ],
          "scattergeo": [
           {
            "marker": {
             "colorbar": {
              "outlinewidth": 0,
              "ticks": ""
             }
            },
            "type": "scattergeo"
           }
          ],
          "scattergl": [
           {
            "marker": {
             "colorbar": {
              "outlinewidth": 0,
              "ticks": ""
             }
            },
            "type": "scattergl"
           }
          ],
          "scattermap": [
           {
            "marker": {
             "colorbar": {
              "outlinewidth": 0,
              "ticks": ""
             }
            },
            "type": "scattermap"
           }
          ],
          "scattermapbox": [
           {
            "marker": {
             "colorbar": {
              "outlinewidth": 0,
              "ticks": ""
             }
            },
            "type": "scattermapbox"
           }
          ],
          "scatterpolar": [
           {
            "marker": {
             "colorbar": {
              "outlinewidth": 0,
              "ticks": ""
             }
            },
            "type": "scatterpolar"
           }
          ],
          "scatterpolargl": [
           {
            "marker": {
             "colorbar": {
              "outlinewidth": 0,
              "ticks": ""
             }
            },
            "type": "scatterpolargl"
           }
          ],
          "scatterternary": [
           {
            "marker": {
             "colorbar": {
              "outlinewidth": 0,
              "ticks": ""
             }
            },
            "type": "scatterternary"
           }
          ],
          "surface": [
           {
            "colorbar": {
             "outlinewidth": 0,
             "ticks": ""
            },
            "colorscale": [
             [
              0,
              "#0d0887"
             ],
             [
              0.1111111111111111,
              "#46039f"
             ],
             [
              0.2222222222222222,
              "#7201a8"
             ],
             [
              0.3333333333333333,
              "#9c179e"
             ],
             [
              0.4444444444444444,
              "#bd3786"
             ],
             [
              0.5555555555555556,
              "#d8576b"
             ],
             [
              0.6666666666666666,
              "#ed7953"
             ],
             [
              0.7777777777777778,
              "#fb9f3a"
             ],
             [
              0.8888888888888888,
              "#fdca26"
             ],
             [
              1,
              "#f0f921"
             ]
            ],
            "type": "surface"
           }
          ],
          "table": [
           {
            "cells": {
             "fill": {
              "color": "#EBF0F8"
             },
             "line": {
              "color": "white"
             }
            },
            "header": {
             "fill": {
              "color": "#C8D4E3"
             },
             "line": {
              "color": "white"
             }
            },
            "type": "table"
           }
          ]
         },
         "layout": {
          "annotationdefaults": {
           "arrowcolor": "#2a3f5f",
           "arrowhead": 0,
           "arrowwidth": 1
          },
          "autotypenumbers": "strict",
          "coloraxis": {
           "colorbar": {
            "outlinewidth": 0,
            "ticks": ""
           }
          },
          "colorscale": {
           "diverging": [
            [
             0,
             "#8e0152"
            ],
            [
             0.1,
             "#c51b7d"
            ],
            [
             0.2,
             "#de77ae"
            ],
            [
             0.3,
             "#f1b6da"
            ],
            [
             0.4,
             "#fde0ef"
            ],
            [
             0.5,
             "#f7f7f7"
            ],
            [
             0.6,
             "#e6f5d0"
            ],
            [
             0.7,
             "#b8e186"
            ],
            [
             0.8,
             "#7fbc41"
            ],
            [
             0.9,
             "#4d9221"
            ],
            [
             1,
             "#276419"
            ]
           ],
           "sequential": [
            [
             0,
             "#0d0887"
            ],
            [
             0.1111111111111111,
             "#46039f"
            ],
            [
             0.2222222222222222,
             "#7201a8"
            ],
            [
             0.3333333333333333,
             "#9c179e"
            ],
            [
             0.4444444444444444,
             "#bd3786"
            ],
            [
             0.5555555555555556,
             "#d8576b"
            ],
            [
             0.6666666666666666,
             "#ed7953"
            ],
            [
             0.7777777777777778,
             "#fb9f3a"
            ],
            [
             0.8888888888888888,
             "#fdca26"
            ],
            [
             1,
             "#f0f921"
            ]
           ],
           "sequentialminus": [
            [
             0,
             "#0d0887"
            ],
            [
             0.1111111111111111,
             "#46039f"
            ],
            [
             0.2222222222222222,
             "#7201a8"
            ],
            [
             0.3333333333333333,
             "#9c179e"
            ],
            [
             0.4444444444444444,
             "#bd3786"
            ],
            [
             0.5555555555555556,
             "#d8576b"
            ],
            [
             0.6666666666666666,
             "#ed7953"
            ],
            [
             0.7777777777777778,
             "#fb9f3a"
            ],
            [
             0.8888888888888888,
             "#fdca26"
            ],
            [
             1,
             "#f0f921"
            ]
           ]
          },
          "colorway": [
           "#636efa",
           "#EF553B",
           "#00cc96",
           "#ab63fa",
           "#FFA15A",
           "#19d3f3",
           "#FF6692",
           "#B6E880",
           "#FF97FF",
           "#FECB52"
          ],
          "font": {
           "color": "#2a3f5f"
          },
          "geo": {
           "bgcolor": "white",
           "lakecolor": "white",
           "landcolor": "white",
           "showlakes": true,
           "showland": true,
           "subunitcolor": "#C8D4E3"
          },
          "hoverlabel": {
           "align": "left"
          },
          "hovermode": "closest",
          "mapbox": {
           "style": "light"
          },
          "paper_bgcolor": "white",
          "plot_bgcolor": "white",
          "polar": {
           "angularaxis": {
            "gridcolor": "#EBF0F8",
            "linecolor": "#EBF0F8",
            "ticks": ""
           },
           "bgcolor": "white",
           "radialaxis": {
            "gridcolor": "#EBF0F8",
            "linecolor": "#EBF0F8",
            "ticks": ""
           }
          },
          "scene": {
           "xaxis": {
            "backgroundcolor": "white",
            "gridcolor": "#DFE8F3",
            "gridwidth": 2,
            "linecolor": "#EBF0F8",
            "showbackground": true,
            "ticks": "",
            "zerolinecolor": "#EBF0F8"
           },
           "yaxis": {
            "backgroundcolor": "white",
            "gridcolor": "#DFE8F3",
            "gridwidth": 2,
            "linecolor": "#EBF0F8",
            "showbackground": true,
            "ticks": "",
            "zerolinecolor": "#EBF0F8"
           },
           "zaxis": {
            "backgroundcolor": "white",
            "gridcolor": "#DFE8F3",
            "gridwidth": 2,
            "linecolor": "#EBF0F8",
            "showbackground": true,
            "ticks": "",
            "zerolinecolor": "#EBF0F8"
           }
          },
          "shapedefaults": {
           "line": {
            "color": "#2a3f5f"
           }
          },
          "ternary": {
           "aaxis": {
            "gridcolor": "#DFE8F3",
            "linecolor": "#A2B1C6",
            "ticks": ""
           },
           "baxis": {
            "gridcolor": "#DFE8F3",
            "linecolor": "#A2B1C6",
            "ticks": ""
           },
           "bgcolor": "white",
           "caxis": {
            "gridcolor": "#DFE8F3",
            "linecolor": "#A2B1C6",
            "ticks": ""
           }
          },
          "title": {
           "x": 0.05
          },
          "xaxis": {
           "automargin": true,
           "gridcolor": "#EBF0F8",
           "linecolor": "#EBF0F8",
           "ticks": "",
           "title": {
            "standoff": 15
           },
           "zerolinecolor": "#EBF0F8",
           "zerolinewidth": 2
          },
          "yaxis": {
           "automargin": true,
           "gridcolor": "#EBF0F8",
           "linecolor": "#EBF0F8",
           "ticks": "",
           "title": {
            "standoff": 15
           },
           "zerolinecolor": "#EBF0F8",
           "zerolinewidth": 2
          }
         }
        },
        "title": {
         "text": "Distribution of Total feed intake"
        },
        "xaxis": {
         "anchor": "y",
         "domain": [
          0,
          1
         ],
         "title": {
          "text": "Total feed intake (g)"
         }
        },
        "yaxis": {
         "anchor": "x",
         "domain": [
          0,
          1
         ],
         "title": {
          "text": "count"
         }
        }
       }
      }
     },
     "metadata": {},
     "output_type": "display_data"
    }
   ],
   "source": [
    "fig = px.histogram(df,\n",
    "                   x='Total feed intake (g)',\n",
    "                   nbins=20,\n",
    "                   title='Distribution of Total feed intake')\n",
    "\n",
    "fig.show()"
   ]
  },
  {
   "cell_type": "markdown",
   "metadata": {},
   "source": [
    "###  Insights from the Histogram :\n",
    "- **X-axis (Total feed intake)**:  \n",
    "  - Ranges from **700 to 1150**, grouped into bins (e.g., **850-899**).  \n",
    "  - Each bin represents a range of total feed intake values.  \n",
    "\n",
    "- **Y-axis (Count)**:  \n",
    "  - Represents the **number of birds** falling into each range of total feed intake.  \n",
    "\n",
    "###  Key Insight:  \n",
    "- The **tallest bar** is in the **850-899** range, indicating that **22 birds** fall into this category — this is the most common feed intake range among the birds.\n",
    "\n"
   ]
  },
  {
   "cell_type": "markdown",
   "metadata": {},
   "source": [
    "---\n",
    "\n",
    "###  violin plot of total egg weight"
   ]
  },
  {
   "cell_type": "code",
   "execution_count": 170,
   "metadata": {},
   "outputs": [
    {
     "data": {
      "application/vnd.plotly.v1+json": {
       "config": {
        "plotlyServerURL": "https://plot.ly"
       },
       "data": [
        {
         "alignmentgroup": "True",
         "box": {
          "visible": true
         },
         "hovertemplate": "Total egg wt (g)=%{y}<extra></extra>",
         "legendgroup": "",
         "marker": {
          "color": "#636efa"
         },
         "name": "",
         "offsetgroup": "",
         "orientation": "v",
         "points": "all",
         "scalegroup": "True",
         "showlegend": false,
         "type": "violin",
         "x0": " ",
         "xaxis": "x",
         "y": {
          "bdata": "AAAAAAAQfEAAAAAAAPB8QAAAAAAAgH5AAAAAAABgfEAAAAAAABB+QAAAAAAAIH1AAAAAAABwfEAAAAAAAHB9QAAAAAAAIH1AAAAAAABwfUAAAAAAAOBrQAAAAAAAyH5AAAAAAACge0AAAAAAADh9QAAAAAAAgH5AAAAAAACIgEAAAAAAAEB8QAAAAAAAkHdAAAAAAAAwfEAAAAAAAKB4QAAAAAAAAHhAAAAAAAAAe0AAAAAAAKB/QAAAAAAA0H5AAAAAAABwfEAAAAAAAOB8QAAAAAAAQH1AAAAAAADAe0AAAAAAAKB8QAAAAAAAgHxAAAAAAADwfEAAAAAAAKB7QAAAAAAAgHtAAAAAAABwfkAAAAAAADB9QAAAAAAAMHlAAAAAAAAweUAAAAAAADCAQAAAAAAA4HtAAAAAAABAeUAAAAAAAGB8QAAAAAAA0H1AAAAAAABwfEAAAAAAADB5QAAAAAAAMHdAAAAAAAD4ekAAAAAAAPB5QAAAAAAAeHlAAAAAAABYf0AAAAAAAOB9QAAAAAAAcHtAAAAAAAAYgEAAAAAAALB4QAAAAAAAsHpAAAAAAAAAe0AAAAAAAKB9QAAAAAAAwHxAAAAAAACgeUAAAAAAADB9QAAAAAAA8HtAAAAAAABAeEAAAAAAAEB+QAAAAAAA4HtAAAAAAAAgfEAAAAAAAKB7QAAAAAAAEH5AAAAAAABwfEAAAAAAAKB6QA==",
          "dtype": "f8"
         },
         "y0": " ",
         "yaxis": "y"
        }
       ],
       "layout": {
        "legend": {
         "tracegroupgap": 0
        },
        "template": {
         "data": {
          "bar": [
           {
            "error_x": {
             "color": "#2a3f5f"
            },
            "error_y": {
             "color": "#2a3f5f"
            },
            "marker": {
             "line": {
              "color": "white",
              "width": 0.5
             },
             "pattern": {
              "fillmode": "overlay",
              "size": 10,
              "solidity": 0.2
             }
            },
            "type": "bar"
           }
          ],
          "barpolar": [
           {
            "marker": {
             "line": {
              "color": "white",
              "width": 0.5
             },
             "pattern": {
              "fillmode": "overlay",
              "size": 10,
              "solidity": 0.2
             }
            },
            "type": "barpolar"
           }
          ],
          "carpet": [
           {
            "aaxis": {
             "endlinecolor": "#2a3f5f",
             "gridcolor": "#C8D4E3",
             "linecolor": "#C8D4E3",
             "minorgridcolor": "#C8D4E3",
             "startlinecolor": "#2a3f5f"
            },
            "baxis": {
             "endlinecolor": "#2a3f5f",
             "gridcolor": "#C8D4E3",
             "linecolor": "#C8D4E3",
             "minorgridcolor": "#C8D4E3",
             "startlinecolor": "#2a3f5f"
            },
            "type": "carpet"
           }
          ],
          "choropleth": [
           {
            "colorbar": {
             "outlinewidth": 0,
             "ticks": ""
            },
            "type": "choropleth"
           }
          ],
          "contour": [
           {
            "colorbar": {
             "outlinewidth": 0,
             "ticks": ""
            },
            "colorscale": [
             [
              0,
              "#0d0887"
             ],
             [
              0.1111111111111111,
              "#46039f"
             ],
             [
              0.2222222222222222,
              "#7201a8"
             ],
             [
              0.3333333333333333,
              "#9c179e"
             ],
             [
              0.4444444444444444,
              "#bd3786"
             ],
             [
              0.5555555555555556,
              "#d8576b"
             ],
             [
              0.6666666666666666,
              "#ed7953"
             ],
             [
              0.7777777777777778,
              "#fb9f3a"
             ],
             [
              0.8888888888888888,
              "#fdca26"
             ],
             [
              1,
              "#f0f921"
             ]
            ],
            "type": "contour"
           }
          ],
          "contourcarpet": [
           {
            "colorbar": {
             "outlinewidth": 0,
             "ticks": ""
            },
            "type": "contourcarpet"
           }
          ],
          "heatmap": [
           {
            "colorbar": {
             "outlinewidth": 0,
             "ticks": ""
            },
            "colorscale": [
             [
              0,
              "#0d0887"
             ],
             [
              0.1111111111111111,
              "#46039f"
             ],
             [
              0.2222222222222222,
              "#7201a8"
             ],
             [
              0.3333333333333333,
              "#9c179e"
             ],
             [
              0.4444444444444444,
              "#bd3786"
             ],
             [
              0.5555555555555556,
              "#d8576b"
             ],
             [
              0.6666666666666666,
              "#ed7953"
             ],
             [
              0.7777777777777778,
              "#fb9f3a"
             ],
             [
              0.8888888888888888,
              "#fdca26"
             ],
             [
              1,
              "#f0f921"
             ]
            ],
            "type": "heatmap"
           }
          ],
          "histogram": [
           {
            "marker": {
             "pattern": {
              "fillmode": "overlay",
              "size": 10,
              "solidity": 0.2
             }
            },
            "type": "histogram"
           }
          ],
          "histogram2d": [
           {
            "colorbar": {
             "outlinewidth": 0,
             "ticks": ""
            },
            "colorscale": [
             [
              0,
              "#0d0887"
             ],
             [
              0.1111111111111111,
              "#46039f"
             ],
             [
              0.2222222222222222,
              "#7201a8"
             ],
             [
              0.3333333333333333,
              "#9c179e"
             ],
             [
              0.4444444444444444,
              "#bd3786"
             ],
             [
              0.5555555555555556,
              "#d8576b"
             ],
             [
              0.6666666666666666,
              "#ed7953"
             ],
             [
              0.7777777777777778,
              "#fb9f3a"
             ],
             [
              0.8888888888888888,
              "#fdca26"
             ],
             [
              1,
              "#f0f921"
             ]
            ],
            "type": "histogram2d"
           }
          ],
          "histogram2dcontour": [
           {
            "colorbar": {
             "outlinewidth": 0,
             "ticks": ""
            },
            "colorscale": [
             [
              0,
              "#0d0887"
             ],
             [
              0.1111111111111111,
              "#46039f"
             ],
             [
              0.2222222222222222,
              "#7201a8"
             ],
             [
              0.3333333333333333,
              "#9c179e"
             ],
             [
              0.4444444444444444,
              "#bd3786"
             ],
             [
              0.5555555555555556,
              "#d8576b"
             ],
             [
              0.6666666666666666,
              "#ed7953"
             ],
             [
              0.7777777777777778,
              "#fb9f3a"
             ],
             [
              0.8888888888888888,
              "#fdca26"
             ],
             [
              1,
              "#f0f921"
             ]
            ],
            "type": "histogram2dcontour"
           }
          ],
          "mesh3d": [
           {
            "colorbar": {
             "outlinewidth": 0,
             "ticks": ""
            },
            "type": "mesh3d"
           }
          ],
          "parcoords": [
           {
            "line": {
             "colorbar": {
              "outlinewidth": 0,
              "ticks": ""
             }
            },
            "type": "parcoords"
           }
          ],
          "pie": [
           {
            "automargin": true,
            "type": "pie"
           }
          ],
          "scatter": [
           {
            "fillpattern": {
             "fillmode": "overlay",
             "size": 10,
             "solidity": 0.2
            },
            "type": "scatter"
           }
          ],
          "scatter3d": [
           {
            "line": {
             "colorbar": {
              "outlinewidth": 0,
              "ticks": ""
             }
            },
            "marker": {
             "colorbar": {
              "outlinewidth": 0,
              "ticks": ""
             }
            },
            "type": "scatter3d"
           }
          ],
          "scattercarpet": [
           {
            "marker": {
             "colorbar": {
              "outlinewidth": 0,
              "ticks": ""
             }
            },
            "type": "scattercarpet"
           }
          ],
          "scattergeo": [
           {
            "marker": {
             "colorbar": {
              "outlinewidth": 0,
              "ticks": ""
             }
            },
            "type": "scattergeo"
           }
          ],
          "scattergl": [
           {
            "marker": {
             "colorbar": {
              "outlinewidth": 0,
              "ticks": ""
             }
            },
            "type": "scattergl"
           }
          ],
          "scattermap": [
           {
            "marker": {
             "colorbar": {
              "outlinewidth": 0,
              "ticks": ""
             }
            },
            "type": "scattermap"
           }
          ],
          "scattermapbox": [
           {
            "marker": {
             "colorbar": {
              "outlinewidth": 0,
              "ticks": ""
             }
            },
            "type": "scattermapbox"
           }
          ],
          "scatterpolar": [
           {
            "marker": {
             "colorbar": {
              "outlinewidth": 0,
              "ticks": ""
             }
            },
            "type": "scatterpolar"
           }
          ],
          "scatterpolargl": [
           {
            "marker": {
             "colorbar": {
              "outlinewidth": 0,
              "ticks": ""
             }
            },
            "type": "scatterpolargl"
           }
          ],
          "scatterternary": [
           {
            "marker": {
             "colorbar": {
              "outlinewidth": 0,
              "ticks": ""
             }
            },
            "type": "scatterternary"
           }
          ],
          "surface": [
           {
            "colorbar": {
             "outlinewidth": 0,
             "ticks": ""
            },
            "colorscale": [
             [
              0,
              "#0d0887"
             ],
             [
              0.1111111111111111,
              "#46039f"
             ],
             [
              0.2222222222222222,
              "#7201a8"
             ],
             [
              0.3333333333333333,
              "#9c179e"
             ],
             [
              0.4444444444444444,
              "#bd3786"
             ],
             [
              0.5555555555555556,
              "#d8576b"
             ],
             [
              0.6666666666666666,
              "#ed7953"
             ],
             [
              0.7777777777777778,
              "#fb9f3a"
             ],
             [
              0.8888888888888888,
              "#fdca26"
             ],
             [
              1,
              "#f0f921"
             ]
            ],
            "type": "surface"
           }
          ],
          "table": [
           {
            "cells": {
             "fill": {
              "color": "#EBF0F8"
             },
             "line": {
              "color": "white"
             }
            },
            "header": {
             "fill": {
              "color": "#C8D4E3"
             },
             "line": {
              "color": "white"
             }
            },
            "type": "table"
           }
          ]
         },
         "layout": {
          "annotationdefaults": {
           "arrowcolor": "#2a3f5f",
           "arrowhead": 0,
           "arrowwidth": 1
          },
          "autotypenumbers": "strict",
          "coloraxis": {
           "colorbar": {
            "outlinewidth": 0,
            "ticks": ""
           }
          },
          "colorscale": {
           "diverging": [
            [
             0,
             "#8e0152"
            ],
            [
             0.1,
             "#c51b7d"
            ],
            [
             0.2,
             "#de77ae"
            ],
            [
             0.3,
             "#f1b6da"
            ],
            [
             0.4,
             "#fde0ef"
            ],
            [
             0.5,
             "#f7f7f7"
            ],
            [
             0.6,
             "#e6f5d0"
            ],
            [
             0.7,
             "#b8e186"
            ],
            [
             0.8,
             "#7fbc41"
            ],
            [
             0.9,
             "#4d9221"
            ],
            [
             1,
             "#276419"
            ]
           ],
           "sequential": [
            [
             0,
             "#0d0887"
            ],
            [
             0.1111111111111111,
             "#46039f"
            ],
            [
             0.2222222222222222,
             "#7201a8"
            ],
            [
             0.3333333333333333,
             "#9c179e"
            ],
            [
             0.4444444444444444,
             "#bd3786"
            ],
            [
             0.5555555555555556,
             "#d8576b"
            ],
            [
             0.6666666666666666,
             "#ed7953"
            ],
            [
             0.7777777777777778,
             "#fb9f3a"
            ],
            [
             0.8888888888888888,
             "#fdca26"
            ],
            [
             1,
             "#f0f921"
            ]
           ],
           "sequentialminus": [
            [
             0,
             "#0d0887"
            ],
            [
             0.1111111111111111,
             "#46039f"
            ],
            [
             0.2222222222222222,
             "#7201a8"
            ],
            [
             0.3333333333333333,
             "#9c179e"
            ],
            [
             0.4444444444444444,
             "#bd3786"
            ],
            [
             0.5555555555555556,
             "#d8576b"
            ],
            [
             0.6666666666666666,
             "#ed7953"
            ],
            [
             0.7777777777777778,
             "#fb9f3a"
            ],
            [
             0.8888888888888888,
             "#fdca26"
            ],
            [
             1,
             "#f0f921"
            ]
           ]
          },
          "colorway": [
           "#636efa",
           "#EF553B",
           "#00cc96",
           "#ab63fa",
           "#FFA15A",
           "#19d3f3",
           "#FF6692",
           "#B6E880",
           "#FF97FF",
           "#FECB52"
          ],
          "font": {
           "color": "#2a3f5f"
          },
          "geo": {
           "bgcolor": "white",
           "lakecolor": "white",
           "landcolor": "white",
           "showlakes": true,
           "showland": true,
           "subunitcolor": "#C8D4E3"
          },
          "hoverlabel": {
           "align": "left"
          },
          "hovermode": "closest",
          "mapbox": {
           "style": "light"
          },
          "paper_bgcolor": "white",
          "plot_bgcolor": "white",
          "polar": {
           "angularaxis": {
            "gridcolor": "#EBF0F8",
            "linecolor": "#EBF0F8",
            "ticks": ""
           },
           "bgcolor": "white",
           "radialaxis": {
            "gridcolor": "#EBF0F8",
            "linecolor": "#EBF0F8",
            "ticks": ""
           }
          },
          "scene": {
           "xaxis": {
            "backgroundcolor": "white",
            "gridcolor": "#DFE8F3",
            "gridwidth": 2,
            "linecolor": "#EBF0F8",
            "showbackground": true,
            "ticks": "",
            "zerolinecolor": "#EBF0F8"
           },
           "yaxis": {
            "backgroundcolor": "white",
            "gridcolor": "#DFE8F3",
            "gridwidth": 2,
            "linecolor": "#EBF0F8",
            "showbackground": true,
            "ticks": "",
            "zerolinecolor": "#EBF0F8"
           },
           "zaxis": {
            "backgroundcolor": "white",
            "gridcolor": "#DFE8F3",
            "gridwidth": 2,
            "linecolor": "#EBF0F8",
            "showbackground": true,
            "ticks": "",
            "zerolinecolor": "#EBF0F8"
           }
          },
          "shapedefaults": {
           "line": {
            "color": "#2a3f5f"
           }
          },
          "ternary": {
           "aaxis": {
            "gridcolor": "#DFE8F3",
            "linecolor": "#A2B1C6",
            "ticks": ""
           },
           "baxis": {
            "gridcolor": "#DFE8F3",
            "linecolor": "#A2B1C6",
            "ticks": ""
           },
           "bgcolor": "white",
           "caxis": {
            "gridcolor": "#DFE8F3",
            "linecolor": "#A2B1C6",
            "ticks": ""
           }
          },
          "title": {
           "x": 0.05
          },
          "xaxis": {
           "automargin": true,
           "gridcolor": "#EBF0F8",
           "linecolor": "#EBF0F8",
           "ticks": "",
           "title": {
            "standoff": 15
           },
           "zerolinecolor": "#EBF0F8",
           "zerolinewidth": 2
          },
          "yaxis": {
           "automargin": true,
           "gridcolor": "#EBF0F8",
           "linecolor": "#EBF0F8",
           "ticks": "",
           "title": {
            "standoff": 15
           },
           "zerolinecolor": "#EBF0F8",
           "zerolinewidth": 2
          }
         }
        },
        "title": {
         "text": "Violin Plot of Total egg wt"
        },
        "violinmode": "group",
        "xaxis": {
         "anchor": "y",
         "domain": [
          0,
          1
         ]
        },
        "yaxis": {
         "anchor": "x",
         "domain": [
          0,
          1
         ],
         "title": {
          "text": "Total egg wt (g)"
         }
        }
       }
      }
     },
     "metadata": {},
     "output_type": "display_data"
    }
   ],
   "source": [
    "fig = px.violin(df, \n",
    "                y='Total egg wt (g)', \n",
    "                box=True, \n",
    "                points=\"all\", \n",
    "                title='Violin Plot of Total egg wt')\n",
    "fig.show()"
   ]
  },
  {
   "cell_type": "markdown",
   "metadata": {},
   "source": [
    "Density Shape (Wider parts = More Data):\n",
    "The width of the \"violin\" shows how frequently certain values occur. The thicker middle part suggests most egg weights cluster around 450-470 grams.\n",
    "\n",
    "Box Plot Inside:\n",
    "It embeds a box plot, showing:\n",
    "\n",
    "Median: ~454.5 grams (center line in the box).\n",
    "Interquartile Range (IQR): Between 431.75 (Q1) and 471 (Q3) grams.\n",
    "Whiskers: Stretch from 377 to 529 grams (lower and upper fences).\n",
    "Outlier: The point down at 223 grams looks like an outlier — worth investigating!\n",
    "KDE (Kernel Density Estimate):\n",
    "The curve smooths the distribution. The peak around 450-470 grams confirms this is where most eggs weigh in.\n",
    "he plot looks fairly symmetric, suggesting egg weights follow a roughly normal distribution \n"
   ]
  },
  {
   "cell_type": "markdown",
   "metadata": {},
   "source": [
    "---\n",
    "\n",
    "### Understanding ADI Distribution with a Box Plot  \n",
    "\n",
    "**ADI (Average Daily Intake)** represents how much feed a bird consumes per day on average. "
   ]
  },
  {
   "cell_type": "code",
   "execution_count": 171,
   "metadata": {},
   "outputs": [
    {
     "data": {
      "application/vnd.plotly.v1+json": {
       "config": {
        "plotlyServerURL": "https://plot.ly"
       },
       "data": [
        {
         "alignmentgroup": "True",
         "hovertemplate": "ADI (g)=%{y}<extra></extra>",
         "legendgroup": "",
         "marker": {
          "color": "#636efa"
         },
         "name": "",
         "notched": false,
         "offsetgroup": "",
         "orientation": "v",
         "showlegend": false,
         "type": "box",
         "x0": " ",
         "xaxis": "x",
         "y": {
          "bdata": "8T9DSZJkXUAAAAAAAEBcQAhgXtu2TWBA6d/kbds2XUAAAAAAAEBfQAAAAAAAgF9AFyAbkiTJXkAAAAAAACBfQPE/Q0mShF9ACGBe27btX0D4n6EkSZJeQAAAAAAAwF9A8T9DSZKkXkDxP0NJkiRfQA/AvLZt21lAD8C8tm3bX0D4n6EkSRJeQPE/Q0mS5F1AFyAbkiSJXEAPwLy2bVtbQPE/Q0mSJFlA+J+hJEmSXED8z1CSJGlhQAAAAAAAQF9AFyAbkiTJXEAPwLy2bdtcQPE/Q0mS5F1AD8C8tm0bXkAIYF7bti1cQAAAAAAAwF5A8T9DSZKkXkDxP0NJkmRcQPE/Q0mS5F1AC5ANSZKEYED1b/K2bRthQPzPUJIkKWBA/M9QkiQpYED4n6EkSXJkQOnf5G3b9l1A/M9QkiTJYUD4n6EkSXJiQAQwr23blmJA6d/kbdu2X0AAAAAAAKBeQA/AvLZte19A6d/kbds2X0D4n6EkSbJeQBcgG5IkaV5ACGBe27ZtYEAAAAAAAKBiQA/AvLZt219A9W/ytm3bYkAXIBuSJIldQAuQDUmSRGBA9W/ytm1bYUD1b/K2bdthQAQwr23blmFAC5ANSZIEYEAIYF7bts1gQPifoSRJEmBAFyAbkiSJXUAAAAAAAMBjQPzPUJIkaWFABDCvbdt2YUD8z1CSJKljQPVv8rZtm2JAC5ANSZJEYUAEMK9t2/ZhQA==",
          "dtype": "f8"
         },
         "y0": " ",
         "yaxis": "y"
        }
       ],
       "layout": {
        "boxmode": "group",
        "legend": {
         "tracegroupgap": 0
        },
        "template": {
         "data": {
          "bar": [
           {
            "error_x": {
             "color": "#2a3f5f"
            },
            "error_y": {
             "color": "#2a3f5f"
            },
            "marker": {
             "line": {
              "color": "white",
              "width": 0.5
             },
             "pattern": {
              "fillmode": "overlay",
              "size": 10,
              "solidity": 0.2
             }
            },
            "type": "bar"
           }
          ],
          "barpolar": [
           {
            "marker": {
             "line": {
              "color": "white",
              "width": 0.5
             },
             "pattern": {
              "fillmode": "overlay",
              "size": 10,
              "solidity": 0.2
             }
            },
            "type": "barpolar"
           }
          ],
          "carpet": [
           {
            "aaxis": {
             "endlinecolor": "#2a3f5f",
             "gridcolor": "#C8D4E3",
             "linecolor": "#C8D4E3",
             "minorgridcolor": "#C8D4E3",
             "startlinecolor": "#2a3f5f"
            },
            "baxis": {
             "endlinecolor": "#2a3f5f",
             "gridcolor": "#C8D4E3",
             "linecolor": "#C8D4E3",
             "minorgridcolor": "#C8D4E3",
             "startlinecolor": "#2a3f5f"
            },
            "type": "carpet"
           }
          ],
          "choropleth": [
           {
            "colorbar": {
             "outlinewidth": 0,
             "ticks": ""
            },
            "type": "choropleth"
           }
          ],
          "contour": [
           {
            "colorbar": {
             "outlinewidth": 0,
             "ticks": ""
            },
            "colorscale": [
             [
              0,
              "#0d0887"
             ],
             [
              0.1111111111111111,
              "#46039f"
             ],
             [
              0.2222222222222222,
              "#7201a8"
             ],
             [
              0.3333333333333333,
              "#9c179e"
             ],
             [
              0.4444444444444444,
              "#bd3786"
             ],
             [
              0.5555555555555556,
              "#d8576b"
             ],
             [
              0.6666666666666666,
              "#ed7953"
             ],
             [
              0.7777777777777778,
              "#fb9f3a"
             ],
             [
              0.8888888888888888,
              "#fdca26"
             ],
             [
              1,
              "#f0f921"
             ]
            ],
            "type": "contour"
           }
          ],
          "contourcarpet": [
           {
            "colorbar": {
             "outlinewidth": 0,
             "ticks": ""
            },
            "type": "contourcarpet"
           }
          ],
          "heatmap": [
           {
            "colorbar": {
             "outlinewidth": 0,
             "ticks": ""
            },
            "colorscale": [
             [
              0,
              "#0d0887"
             ],
             [
              0.1111111111111111,
              "#46039f"
             ],
             [
              0.2222222222222222,
              "#7201a8"
             ],
             [
              0.3333333333333333,
              "#9c179e"
             ],
             [
              0.4444444444444444,
              "#bd3786"
             ],
             [
              0.5555555555555556,
              "#d8576b"
             ],
             [
              0.6666666666666666,
              "#ed7953"
             ],
             [
              0.7777777777777778,
              "#fb9f3a"
             ],
             [
              0.8888888888888888,
              "#fdca26"
             ],
             [
              1,
              "#f0f921"
             ]
            ],
            "type": "heatmap"
           }
          ],
          "histogram": [
           {
            "marker": {
             "pattern": {
              "fillmode": "overlay",
              "size": 10,
              "solidity": 0.2
             }
            },
            "type": "histogram"
           }
          ],
          "histogram2d": [
           {
            "colorbar": {
             "outlinewidth": 0,
             "ticks": ""
            },
            "colorscale": [
             [
              0,
              "#0d0887"
             ],
             [
              0.1111111111111111,
              "#46039f"
             ],
             [
              0.2222222222222222,
              "#7201a8"
             ],
             [
              0.3333333333333333,
              "#9c179e"
             ],
             [
              0.4444444444444444,
              "#bd3786"
             ],
             [
              0.5555555555555556,
              "#d8576b"
             ],
             [
              0.6666666666666666,
              "#ed7953"
             ],
             [
              0.7777777777777778,
              "#fb9f3a"
             ],
             [
              0.8888888888888888,
              "#fdca26"
             ],
             [
              1,
              "#f0f921"
             ]
            ],
            "type": "histogram2d"
           }
          ],
          "histogram2dcontour": [
           {
            "colorbar": {
             "outlinewidth": 0,
             "ticks": ""
            },
            "colorscale": [
             [
              0,
              "#0d0887"
             ],
             [
              0.1111111111111111,
              "#46039f"
             ],
             [
              0.2222222222222222,
              "#7201a8"
             ],
             [
              0.3333333333333333,
              "#9c179e"
             ],
             [
              0.4444444444444444,
              "#bd3786"
             ],
             [
              0.5555555555555556,
              "#d8576b"
             ],
             [
              0.6666666666666666,
              "#ed7953"
             ],
             [
              0.7777777777777778,
              "#fb9f3a"
             ],
             [
              0.8888888888888888,
              "#fdca26"
             ],
             [
              1,
              "#f0f921"
             ]
            ],
            "type": "histogram2dcontour"
           }
          ],
          "mesh3d": [
           {
            "colorbar": {
             "outlinewidth": 0,
             "ticks": ""
            },
            "type": "mesh3d"
           }
          ],
          "parcoords": [
           {
            "line": {
             "colorbar": {
              "outlinewidth": 0,
              "ticks": ""
             }
            },
            "type": "parcoords"
           }
          ],
          "pie": [
           {
            "automargin": true,
            "type": "pie"
           }
          ],
          "scatter": [
           {
            "fillpattern": {
             "fillmode": "overlay",
             "size": 10,
             "solidity": 0.2
            },
            "type": "scatter"
           }
          ],
          "scatter3d": [
           {
            "line": {
             "colorbar": {
              "outlinewidth": 0,
              "ticks": ""
             }
            },
            "marker": {
             "colorbar": {
              "outlinewidth": 0,
              "ticks": ""
             }
            },
            "type": "scatter3d"
           }
          ],
          "scattercarpet": [
           {
            "marker": {
             "colorbar": {
              "outlinewidth": 0,
              "ticks": ""
             }
            },
            "type": "scattercarpet"
           }
          ],
          "scattergeo": [
           {
            "marker": {
             "colorbar": {
              "outlinewidth": 0,
              "ticks": ""
             }
            },
            "type": "scattergeo"
           }
          ],
          "scattergl": [
           {
            "marker": {
             "colorbar": {
              "outlinewidth": 0,
              "ticks": ""
             }
            },
            "type": "scattergl"
           }
          ],
          "scattermap": [
           {
            "marker": {
             "colorbar": {
              "outlinewidth": 0,
              "ticks": ""
             }
            },
            "type": "scattermap"
           }
          ],
          "scattermapbox": [
           {
            "marker": {
             "colorbar": {
              "outlinewidth": 0,
              "ticks": ""
             }
            },
            "type": "scattermapbox"
           }
          ],
          "scatterpolar": [
           {
            "marker": {
             "colorbar": {
              "outlinewidth": 0,
              "ticks": ""
             }
            },
            "type": "scatterpolar"
           }
          ],
          "scatterpolargl": [
           {
            "marker": {
             "colorbar": {
              "outlinewidth": 0,
              "ticks": ""
             }
            },
            "type": "scatterpolargl"
           }
          ],
          "scatterternary": [
           {
            "marker": {
             "colorbar": {
              "outlinewidth": 0,
              "ticks": ""
             }
            },
            "type": "scatterternary"
           }
          ],
          "surface": [
           {
            "colorbar": {
             "outlinewidth": 0,
             "ticks": ""
            },
            "colorscale": [
             [
              0,
              "#0d0887"
             ],
             [
              0.1111111111111111,
              "#46039f"
             ],
             [
              0.2222222222222222,
              "#7201a8"
             ],
             [
              0.3333333333333333,
              "#9c179e"
             ],
             [
              0.4444444444444444,
              "#bd3786"
             ],
             [
              0.5555555555555556,
              "#d8576b"
             ],
             [
              0.6666666666666666,
              "#ed7953"
             ],
             [
              0.7777777777777778,
              "#fb9f3a"
             ],
             [
              0.8888888888888888,
              "#fdca26"
             ],
             [
              1,
              "#f0f921"
             ]
            ],
            "type": "surface"
           }
          ],
          "table": [
           {
            "cells": {
             "fill": {
              "color": "#EBF0F8"
             },
             "line": {
              "color": "white"
             }
            },
            "header": {
             "fill": {
              "color": "#C8D4E3"
             },
             "line": {
              "color": "white"
             }
            },
            "type": "table"
           }
          ]
         },
         "layout": {
          "annotationdefaults": {
           "arrowcolor": "#2a3f5f",
           "arrowhead": 0,
           "arrowwidth": 1
          },
          "autotypenumbers": "strict",
          "coloraxis": {
           "colorbar": {
            "outlinewidth": 0,
            "ticks": ""
           }
          },
          "colorscale": {
           "diverging": [
            [
             0,
             "#8e0152"
            ],
            [
             0.1,
             "#c51b7d"
            ],
            [
             0.2,
             "#de77ae"
            ],
            [
             0.3,
             "#f1b6da"
            ],
            [
             0.4,
             "#fde0ef"
            ],
            [
             0.5,
             "#f7f7f7"
            ],
            [
             0.6,
             "#e6f5d0"
            ],
            [
             0.7,
             "#b8e186"
            ],
            [
             0.8,
             "#7fbc41"
            ],
            [
             0.9,
             "#4d9221"
            ],
            [
             1,
             "#276419"
            ]
           ],
           "sequential": [
            [
             0,
             "#0d0887"
            ],
            [
             0.1111111111111111,
             "#46039f"
            ],
            [
             0.2222222222222222,
             "#7201a8"
            ],
            [
             0.3333333333333333,
             "#9c179e"
            ],
            [
             0.4444444444444444,
             "#bd3786"
            ],
            [
             0.5555555555555556,
             "#d8576b"
            ],
            [
             0.6666666666666666,
             "#ed7953"
            ],
            [
             0.7777777777777778,
             "#fb9f3a"
            ],
            [
             0.8888888888888888,
             "#fdca26"
            ],
            [
             1,
             "#f0f921"
            ]
           ],
           "sequentialminus": [
            [
             0,
             "#0d0887"
            ],
            [
             0.1111111111111111,
             "#46039f"
            ],
            [
             0.2222222222222222,
             "#7201a8"
            ],
            [
             0.3333333333333333,
             "#9c179e"
            ],
            [
             0.4444444444444444,
             "#bd3786"
            ],
            [
             0.5555555555555556,
             "#d8576b"
            ],
            [
             0.6666666666666666,
             "#ed7953"
            ],
            [
             0.7777777777777778,
             "#fb9f3a"
            ],
            [
             0.8888888888888888,
             "#fdca26"
            ],
            [
             1,
             "#f0f921"
            ]
           ]
          },
          "colorway": [
           "#636efa",
           "#EF553B",
           "#00cc96",
           "#ab63fa",
           "#FFA15A",
           "#19d3f3",
           "#FF6692",
           "#B6E880",
           "#FF97FF",
           "#FECB52"
          ],
          "font": {
           "color": "#2a3f5f"
          },
          "geo": {
           "bgcolor": "white",
           "lakecolor": "white",
           "landcolor": "white",
           "showlakes": true,
           "showland": true,
           "subunitcolor": "#C8D4E3"
          },
          "hoverlabel": {
           "align": "left"
          },
          "hovermode": "closest",
          "mapbox": {
           "style": "light"
          },
          "paper_bgcolor": "white",
          "plot_bgcolor": "white",
          "polar": {
           "angularaxis": {
            "gridcolor": "#EBF0F8",
            "linecolor": "#EBF0F8",
            "ticks": ""
           },
           "bgcolor": "white",
           "radialaxis": {
            "gridcolor": "#EBF0F8",
            "linecolor": "#EBF0F8",
            "ticks": ""
           }
          },
          "scene": {
           "xaxis": {
            "backgroundcolor": "white",
            "gridcolor": "#DFE8F3",
            "gridwidth": 2,
            "linecolor": "#EBF0F8",
            "showbackground": true,
            "ticks": "",
            "zerolinecolor": "#EBF0F8"
           },
           "yaxis": {
            "backgroundcolor": "white",
            "gridcolor": "#DFE8F3",
            "gridwidth": 2,
            "linecolor": "#EBF0F8",
            "showbackground": true,
            "ticks": "",
            "zerolinecolor": "#EBF0F8"
           },
           "zaxis": {
            "backgroundcolor": "white",
            "gridcolor": "#DFE8F3",
            "gridwidth": 2,
            "linecolor": "#EBF0F8",
            "showbackground": true,
            "ticks": "",
            "zerolinecolor": "#EBF0F8"
           }
          },
          "shapedefaults": {
           "line": {
            "color": "#2a3f5f"
           }
          },
          "ternary": {
           "aaxis": {
            "gridcolor": "#DFE8F3",
            "linecolor": "#A2B1C6",
            "ticks": ""
           },
           "baxis": {
            "gridcolor": "#DFE8F3",
            "linecolor": "#A2B1C6",
            "ticks": ""
           },
           "bgcolor": "white",
           "caxis": {
            "gridcolor": "#DFE8F3",
            "linecolor": "#A2B1C6",
            "ticks": ""
           }
          },
          "title": {
           "x": 0.05
          },
          "xaxis": {
           "automargin": true,
           "gridcolor": "#EBF0F8",
           "linecolor": "#EBF0F8",
           "ticks": "",
           "title": {
            "standoff": 15
           },
           "zerolinecolor": "#EBF0F8",
           "zerolinewidth": 2
          },
          "yaxis": {
           "automargin": true,
           "gridcolor": "#EBF0F8",
           "linecolor": "#EBF0F8",
           "ticks": "",
           "title": {
            "standoff": 15
           },
           "zerolinecolor": "#EBF0F8",
           "zerolinewidth": 2
          }
         }
        },
        "title": {
         "text": "Distribution of ADI"
        },
        "xaxis": {
         "anchor": "y",
         "domain": [
          0,
          1
         ]
        },
        "yaxis": {
         "anchor": "x",
         "domain": [
          0,
          1
         ],
         "title": {
          "text": "ADI (g)"
         }
        }
       }
      }
     },
     "metadata": {},
     "output_type": "display_data"
    }
   ],
   "source": [
    "fig = px.box(df,\n",
    "             y='ADI (g)',\n",
    "             title='Distribution of ADI')\n",
    "fig.show()"
   ]
  },
  {
   "cell_type": "markdown",
   "metadata": {},
   "source": [
    "###  Breakdown of the Plot:  \n",
    "The box plot visualizes the **Distribution of ADI (Average Daily Intake)**, showing how feed intake varies across birds. \n",
    "\n",
    "- **Median (125.96)**: The middle ADI value — half the birds consume less than this, half consume more.  \n",
    "- **Q1 (119.71)** and **Q3 (137.5)**: These are the first and third quartiles, marking the middle 50% of the data.  \n",
    "- **Interquartile Range (IQR)**: The range between Q1 and Q3 (**137.5 - 119.71 = 17.79**) captures the core of the data.  \n",
    "- **Whiskers (100.57 to 163.57)**: The \"normal range\" extends 1.5 times the IQR from Q1 and Q3. Values beyond this are typically flagged as outliers.  \n",
    "- **Min/Max Values**: The smallest and largest non-outlier ADI values observed — **100.57** (min) and **163.57** (max).\n",
    "\n"
   ]
  },
  {
   "cell_type": "markdown",
   "metadata": {},
   "source": [
    "---\n",
    "## 5.2  Bivariate analysis\n",
    "- Involves analysing two variables with the purpose of understanding whether changes in one variable affect the other\n",
    "- Scatter plots are used to explore relationships between variables, such as total egg weight vs. total feed intake\n",
    "\n",
    "### 5.2.2 Scatter Plot: Total Egg Weight vs Total Feed Intake \n",
    "### Objective  \n",
    "To uncover the relationship between **Total Egg Weight** and **Total Feed Intake**.The added **OLS trendline** (Ordinary Least Squares regression) reveals whether increased feed intake contributes to greater egg weight."
   ]
  },
  {
   "cell_type": "code",
   "execution_count": 172,
   "metadata": {},
   "outputs": [
    {
     "data": {
      "application/vnd.plotly.v1+json": {
       "config": {
        "plotlyServerURL": "https://plot.ly"
       },
       "data": [
        {
         "hovertemplate": "Total egg wt (g)=%{x}<br>Total feed intake (g)=%{y}<extra></extra>",
         "legendgroup": "",
         "marker": {
          "color": "#636efa",
          "symbol": "circle"
         },
         "mode": "markers",
         "name": "",
         "orientation": "v",
         "showlegend": false,
         "type": "scatter",
         "x": {
          "bdata": "AAAAAAAQfEAAAAAAAPB8QAAAAAAAgH5AAAAAAABgfEAAAAAAABB+QAAAAAAAIH1AAAAAAABwfEAAAAAAAHB9QAAAAAAAIH1AAAAAAABwfUAAAAAAAOBrQAAAAAAAyH5AAAAAAACge0AAAAAAADh9QAAAAAAAgH5AAAAAAACIgEAAAAAAAEB8QAAAAAAAkHdAAAAAAAAwfEAAAAAAAKB4QAAAAAAAAHhAAAAAAAAAe0AAAAAAAKB/QAAAAAAA0H5AAAAAAABwfEAAAAAAAOB8QAAAAAAAQH1AAAAAAADAe0AAAAAAAKB8QAAAAAAAgHxAAAAAAADwfEAAAAAAAKB7QAAAAAAAgHtAAAAAAABwfkAAAAAAADB9QAAAAAAAMHlAAAAAAAAweUAAAAAAADCAQAAAAAAA4HtAAAAAAABAeUAAAAAAAGB8QAAAAAAA0H1AAAAAAABwfEAAAAAAADB5QAAAAAAAMHdAAAAAAAD4ekAAAAAAAPB5QAAAAAAAeHlAAAAAAABYf0AAAAAAAOB9QAAAAAAAcHtAAAAAAAAYgEAAAAAAALB4QAAAAAAAsHpAAAAAAAAAe0AAAAAAAKB9QAAAAAAAwHxAAAAAAACgeUAAAAAAADB9QAAAAAAA8HtAAAAAAABAeEAAAAAAAEB+QAAAAAAA4HtAAAAAAAAgfEAAAAAAAKB7QAAAAAAAEH5AAAAAAABwfEAAAAAAAKB6QA==",
          "dtype": "f8"
         },
         "xaxis": "x",
         "y": {
          "bdata": "AAAAAAC4iUAAAAAAALiIQAAAAAAAiIxAAAAAAACQiUAAAAAAAFiLQAAAAAAAkItAAAAAAADwikAAAAAAADyLQAAAAAAAPItAAAAAAACUi0AAAAAAAMCKQAAAAAAARItAAAAAAADIi0AAAAAAANCKQAAAAAAAoIZAAAAAAADgi0AAAAAAAFCKQAAAAAAAKIpAAAAAAAD4iEAAAAAAAPCHQAAAAAAAAIZAAAAAAAAAiUAAAAAAAHiOQAAAAAAAWItAAAAAAAAwiUAAAAAAAECJQAAAAAAAKIpAAAAAAABYikAAAAAAAKiIQAAAAAAA6IpAAAAAAADQikAAAAAAANiIQAAAAAAAKIpAAAAAAADojEAAAAAAAPCNQAAAAAAASIxAAAAAAABIjEAAAAAAAOSRQAAAAAAAOIpAAAAAAAAgj0AAAAAAACSQQAAAAAAARJBAAAAAAADAi0AAAAAAAMyKQAAAAAAAjItAAAAAAABQi0AAAAAAANyKQAAAAAAAnIpAAAAAAADAjEAAAAAAAEyQQAAAAAAA4ItAAAAAAACAkEAAAAAAANiJQAAAAAAAeIxAAAAAAABgjkAAAAAAAECPQAAAAAAAyI5AAAAAAAAIjEAAAAAAAGiNQAAAAAAAIIxAAAAAAADYiUAAAAAAAEiRQAAAAAAAeI5AAAAAAACQjkAAAAAAADSRQAAAAAAASJBAAAAAAAA4jkAAAAAAAHCPQA==",
          "dtype": "f8"
         },
         "yaxis": "y"
        },
        {
         "hovertemplate": "<b>OLS trendline</b><br>Total feed intake (g) = 0.636346 * Total egg wt (g) + 612.442<br>R<sup>2</sup>=0.097535<br><br>Total egg wt (g)=%{x}<br>Total feed intake (g)=%{y} <b>(trend)</b><extra></extra>",
         "legendgroup": "",
         "marker": {
          "color": "#636efa",
          "symbol": "circle"
         },
         "mode": "lines",
         "name": "",
         "showlegend": false,
         "type": "scatter",
         "x": {
          "bdata": "AAAAAADga0AAAAAAADB3QAAAAAAAkHdAAAAAAAAAeEAAAAAAAEB4QAAAAAAAoHhAAAAAAACweEAAAAAAADB5QAAAAAAAMHlAAAAAAAAweUAAAAAAAEB5QAAAAAAAeHlAAAAAAACgeUAAAAAAAPB5QAAAAAAAoHpAAAAAAACwekAAAAAAAPh6QAAAAAAAAHtAAAAAAAAAe0AAAAAAAHB7QAAAAAAAgHtAAAAAAACge0AAAAAAAKB7QAAAAAAAoHtAAAAAAADAe0AAAAAAAOB7QAAAAAAA4HtAAAAAAADwe0AAAAAAABB8QAAAAAAAIHxAAAAAAAAwfEAAAAAAAEB8QAAAAAAAYHxAAAAAAABgfEAAAAAAAHB8QAAAAAAAcHxAAAAAAABwfEAAAAAAAHB8QAAAAAAAgHxAAAAAAACgfEAAAAAAAMB8QAAAAAAA4HxAAAAAAADwfEAAAAAAAPB8QAAAAAAAIH1AAAAAAAAgfUAAAAAAADB9QAAAAAAAMH1AAAAAAAA4fUAAAAAAAEB9QAAAAAAAcH1AAAAAAABwfUAAAAAAAKB9QAAAAAAA0H1AAAAAAADgfUAAAAAAABB+QAAAAAAAEH5AAAAAAABAfkAAAAAAAHB+QAAAAAAAgH5AAAAAAACAfkAAAAAAAMh+QAAAAAAA0H5AAAAAAABYf0AAAAAAAKB/QAAAAAAAGIBAAAAAAAAwgEAAAAAAAIiAQA==",
          "dtype": "f8"
         },
         "xaxis": "x",
         "y": {
          "bdata": "vm/dWsaSh0D94cVnNYSKQPkditPAoopAng7ve2PGikBG4XFuwNqKQEIdNtpL+YpA7NHWFmP+ikA8d9z7HCeLQDx33PscJ4tAPHfc+xwni0DmK304NCyLQDikr4wFPotA4WdBpL9Ki0Az72TTM2SLQICyTG4znItAKmftqkqhi0AnlMA7M7iLQHzuENq+uotAfO4Q2r66i0Ai33WCYd6LQMyTFr9444tAIP1XOKfti0Ag/Vc4p+2LQCD9Vzin7YtAdGaZsdX3i0DHz9oqBAKMQMfP2ioEAoxAcYR7ZxsHjEDF7bzgSRGMQG+iXR1hFoxAGVf+WXgbjEDDC5+WjyCMQBZ14A++KoxAFnXgD74qjEDAKYFM1S+MQMApgUzVL4xAwCmBTNUvjEDAKYFM1S+MQGreIYnsNIxAvkdjAhs/jEASsaR7SUmMQGYa5vR3U4xAEM+GMY9YjEAQz4Yxj1iMQA7taOfUZ4xADu1o59RnjEC4oQkk7GyMQLihCSTsbIxADfxZwndvjEBiVqpgA3KMQGB0jBZJgYxAYHSMFkmBjEBekm7MjpCMQFywUILUn4xABmXxvuukjEADg9N0MbSMQAOD03QxtIxAAaG1KnfDjED/vpfgvNKMQKlzOB3U14xAqXM4HdTXjECmoAuuvO6MQPr6W0xI8YxAn/qxz40cjUCcJ4VgdjONQJaBK4JHYY1Ak58NOI1wjUDgYvXSjKiNQA==",
          "dtype": "f8"
         },
         "yaxis": "y"
        }
       ],
       "layout": {
        "legend": {
         "tracegroupgap": 0
        },
        "template": {
         "data": {
          "bar": [
           {
            "error_x": {
             "color": "#2a3f5f"
            },
            "error_y": {
             "color": "#2a3f5f"
            },
            "marker": {
             "line": {
              "color": "white",
              "width": 0.5
             },
             "pattern": {
              "fillmode": "overlay",
              "size": 10,
              "solidity": 0.2
             }
            },
            "type": "bar"
           }
          ],
          "barpolar": [
           {
            "marker": {
             "line": {
              "color": "white",
              "width": 0.5
             },
             "pattern": {
              "fillmode": "overlay",
              "size": 10,
              "solidity": 0.2
             }
            },
            "type": "barpolar"
           }
          ],
          "carpet": [
           {
            "aaxis": {
             "endlinecolor": "#2a3f5f",
             "gridcolor": "#C8D4E3",
             "linecolor": "#C8D4E3",
             "minorgridcolor": "#C8D4E3",
             "startlinecolor": "#2a3f5f"
            },
            "baxis": {
             "endlinecolor": "#2a3f5f",
             "gridcolor": "#C8D4E3",
             "linecolor": "#C8D4E3",
             "minorgridcolor": "#C8D4E3",
             "startlinecolor": "#2a3f5f"
            },
            "type": "carpet"
           }
          ],
          "choropleth": [
           {
            "colorbar": {
             "outlinewidth": 0,
             "ticks": ""
            },
            "type": "choropleth"
           }
          ],
          "contour": [
           {
            "colorbar": {
             "outlinewidth": 0,
             "ticks": ""
            },
            "colorscale": [
             [
              0,
              "#0d0887"
             ],
             [
              0.1111111111111111,
              "#46039f"
             ],
             [
              0.2222222222222222,
              "#7201a8"
             ],
             [
              0.3333333333333333,
              "#9c179e"
             ],
             [
              0.4444444444444444,
              "#bd3786"
             ],
             [
              0.5555555555555556,
              "#d8576b"
             ],
             [
              0.6666666666666666,
              "#ed7953"
             ],
             [
              0.7777777777777778,
              "#fb9f3a"
             ],
             [
              0.8888888888888888,
              "#fdca26"
             ],
             [
              1,
              "#f0f921"
             ]
            ],
            "type": "contour"
           }
          ],
          "contourcarpet": [
           {
            "colorbar": {
             "outlinewidth": 0,
             "ticks": ""
            },
            "type": "contourcarpet"
           }
          ],
          "heatmap": [
           {
            "colorbar": {
             "outlinewidth": 0,
             "ticks": ""
            },
            "colorscale": [
             [
              0,
              "#0d0887"
             ],
             [
              0.1111111111111111,
              "#46039f"
             ],
             [
              0.2222222222222222,
              "#7201a8"
             ],
             [
              0.3333333333333333,
              "#9c179e"
             ],
             [
              0.4444444444444444,
              "#bd3786"
             ],
             [
              0.5555555555555556,
              "#d8576b"
             ],
             [
              0.6666666666666666,
              "#ed7953"
             ],
             [
              0.7777777777777778,
              "#fb9f3a"
             ],
             [
              0.8888888888888888,
              "#fdca26"
             ],
             [
              1,
              "#f0f921"
             ]
            ],
            "type": "heatmap"
           }
          ],
          "histogram": [
           {
            "marker": {
             "pattern": {
              "fillmode": "overlay",
              "size": 10,
              "solidity": 0.2
             }
            },
            "type": "histogram"
           }
          ],
          "histogram2d": [
           {
            "colorbar": {
             "outlinewidth": 0,
             "ticks": ""
            },
            "colorscale": [
             [
              0,
              "#0d0887"
             ],
             [
              0.1111111111111111,
              "#46039f"
             ],
             [
              0.2222222222222222,
              "#7201a8"
             ],
             [
              0.3333333333333333,
              "#9c179e"
             ],
             [
              0.4444444444444444,
              "#bd3786"
             ],
             [
              0.5555555555555556,
              "#d8576b"
             ],
             [
              0.6666666666666666,
              "#ed7953"
             ],
             [
              0.7777777777777778,
              "#fb9f3a"
             ],
             [
              0.8888888888888888,
              "#fdca26"
             ],
             [
              1,
              "#f0f921"
             ]
            ],
            "type": "histogram2d"
           }
          ],
          "histogram2dcontour": [
           {
            "colorbar": {
             "outlinewidth": 0,
             "ticks": ""
            },
            "colorscale": [
             [
              0,
              "#0d0887"
             ],
             [
              0.1111111111111111,
              "#46039f"
             ],
             [
              0.2222222222222222,
              "#7201a8"
             ],
             [
              0.3333333333333333,
              "#9c179e"
             ],
             [
              0.4444444444444444,
              "#bd3786"
             ],
             [
              0.5555555555555556,
              "#d8576b"
             ],
             [
              0.6666666666666666,
              "#ed7953"
             ],
             [
              0.7777777777777778,
              "#fb9f3a"
             ],
             [
              0.8888888888888888,
              "#fdca26"
             ],
             [
              1,
              "#f0f921"
             ]
            ],
            "type": "histogram2dcontour"
           }
          ],
          "mesh3d": [
           {
            "colorbar": {
             "outlinewidth": 0,
             "ticks": ""
            },
            "type": "mesh3d"
           }
          ],
          "parcoords": [
           {
            "line": {
             "colorbar": {
              "outlinewidth": 0,
              "ticks": ""
             }
            },
            "type": "parcoords"
           }
          ],
          "pie": [
           {
            "automargin": true,
            "type": "pie"
           }
          ],
          "scatter": [
           {
            "fillpattern": {
             "fillmode": "overlay",
             "size": 10,
             "solidity": 0.2
            },
            "type": "scatter"
           }
          ],
          "scatter3d": [
           {
            "line": {
             "colorbar": {
              "outlinewidth": 0,
              "ticks": ""
             }
            },
            "marker": {
             "colorbar": {
              "outlinewidth": 0,
              "ticks": ""
             }
            },
            "type": "scatter3d"
           }
          ],
          "scattercarpet": [
           {
            "marker": {
             "colorbar": {
              "outlinewidth": 0,
              "ticks": ""
             }
            },
            "type": "scattercarpet"
           }
          ],
          "scattergeo": [
           {
            "marker": {
             "colorbar": {
              "outlinewidth": 0,
              "ticks": ""
             }
            },
            "type": "scattergeo"
           }
          ],
          "scattergl": [
           {
            "marker": {
             "colorbar": {
              "outlinewidth": 0,
              "ticks": ""
             }
            },
            "type": "scattergl"
           }
          ],
          "scattermap": [
           {
            "marker": {
             "colorbar": {
              "outlinewidth": 0,
              "ticks": ""
             }
            },
            "type": "scattermap"
           }
          ],
          "scattermapbox": [
           {
            "marker": {
             "colorbar": {
              "outlinewidth": 0,
              "ticks": ""
             }
            },
            "type": "scattermapbox"
           }
          ],
          "scatterpolar": [
           {
            "marker": {
             "colorbar": {
              "outlinewidth": 0,
              "ticks": ""
             }
            },
            "type": "scatterpolar"
           }
          ],
          "scatterpolargl": [
           {
            "marker": {
             "colorbar": {
              "outlinewidth": 0,
              "ticks": ""
             }
            },
            "type": "scatterpolargl"
           }
          ],
          "scatterternary": [
           {
            "marker": {
             "colorbar": {
              "outlinewidth": 0,
              "ticks": ""
             }
            },
            "type": "scatterternary"
           }
          ],
          "surface": [
           {
            "colorbar": {
             "outlinewidth": 0,
             "ticks": ""
            },
            "colorscale": [
             [
              0,
              "#0d0887"
             ],
             [
              0.1111111111111111,
              "#46039f"
             ],
             [
              0.2222222222222222,
              "#7201a8"
             ],
             [
              0.3333333333333333,
              "#9c179e"
             ],
             [
              0.4444444444444444,
              "#bd3786"
             ],
             [
              0.5555555555555556,
              "#d8576b"
             ],
             [
              0.6666666666666666,
              "#ed7953"
             ],
             [
              0.7777777777777778,
              "#fb9f3a"
             ],
             [
              0.8888888888888888,
              "#fdca26"
             ],
             [
              1,
              "#f0f921"
             ]
            ],
            "type": "surface"
           }
          ],
          "table": [
           {
            "cells": {
             "fill": {
              "color": "#EBF0F8"
             },
             "line": {
              "color": "white"
             }
            },
            "header": {
             "fill": {
              "color": "#C8D4E3"
             },
             "line": {
              "color": "white"
             }
            },
            "type": "table"
           }
          ]
         },
         "layout": {
          "annotationdefaults": {
           "arrowcolor": "#2a3f5f",
           "arrowhead": 0,
           "arrowwidth": 1
          },
          "autotypenumbers": "strict",
          "coloraxis": {
           "colorbar": {
            "outlinewidth": 0,
            "ticks": ""
           }
          },
          "colorscale": {
           "diverging": [
            [
             0,
             "#8e0152"
            ],
            [
             0.1,
             "#c51b7d"
            ],
            [
             0.2,
             "#de77ae"
            ],
            [
             0.3,
             "#f1b6da"
            ],
            [
             0.4,
             "#fde0ef"
            ],
            [
             0.5,
             "#f7f7f7"
            ],
            [
             0.6,
             "#e6f5d0"
            ],
            [
             0.7,
             "#b8e186"
            ],
            [
             0.8,
             "#7fbc41"
            ],
            [
             0.9,
             "#4d9221"
            ],
            [
             1,
             "#276419"
            ]
           ],
           "sequential": [
            [
             0,
             "#0d0887"
            ],
            [
             0.1111111111111111,
             "#46039f"
            ],
            [
             0.2222222222222222,
             "#7201a8"
            ],
            [
             0.3333333333333333,
             "#9c179e"
            ],
            [
             0.4444444444444444,
             "#bd3786"
            ],
            [
             0.5555555555555556,
             "#d8576b"
            ],
            [
             0.6666666666666666,
             "#ed7953"
            ],
            [
             0.7777777777777778,
             "#fb9f3a"
            ],
            [
             0.8888888888888888,
             "#fdca26"
            ],
            [
             1,
             "#f0f921"
            ]
           ],
           "sequentialminus": [
            [
             0,
             "#0d0887"
            ],
            [
             0.1111111111111111,
             "#46039f"
            ],
            [
             0.2222222222222222,
             "#7201a8"
            ],
            [
             0.3333333333333333,
             "#9c179e"
            ],
            [
             0.4444444444444444,
             "#bd3786"
            ],
            [
             0.5555555555555556,
             "#d8576b"
            ],
            [
             0.6666666666666666,
             "#ed7953"
            ],
            [
             0.7777777777777778,
             "#fb9f3a"
            ],
            [
             0.8888888888888888,
             "#fdca26"
            ],
            [
             1,
             "#f0f921"
            ]
           ]
          },
          "colorway": [
           "#636efa",
           "#EF553B",
           "#00cc96",
           "#ab63fa",
           "#FFA15A",
           "#19d3f3",
           "#FF6692",
           "#B6E880",
           "#FF97FF",
           "#FECB52"
          ],
          "font": {
           "color": "#2a3f5f"
          },
          "geo": {
           "bgcolor": "white",
           "lakecolor": "white",
           "landcolor": "white",
           "showlakes": true,
           "showland": true,
           "subunitcolor": "#C8D4E3"
          },
          "hoverlabel": {
           "align": "left"
          },
          "hovermode": "closest",
          "mapbox": {
           "style": "light"
          },
          "paper_bgcolor": "white",
          "plot_bgcolor": "white",
          "polar": {
           "angularaxis": {
            "gridcolor": "#EBF0F8",
            "linecolor": "#EBF0F8",
            "ticks": ""
           },
           "bgcolor": "white",
           "radialaxis": {
            "gridcolor": "#EBF0F8",
            "linecolor": "#EBF0F8",
            "ticks": ""
           }
          },
          "scene": {
           "xaxis": {
            "backgroundcolor": "white",
            "gridcolor": "#DFE8F3",
            "gridwidth": 2,
            "linecolor": "#EBF0F8",
            "showbackground": true,
            "ticks": "",
            "zerolinecolor": "#EBF0F8"
           },
           "yaxis": {
            "backgroundcolor": "white",
            "gridcolor": "#DFE8F3",
            "gridwidth": 2,
            "linecolor": "#EBF0F8",
            "showbackground": true,
            "ticks": "",
            "zerolinecolor": "#EBF0F8"
           },
           "zaxis": {
            "backgroundcolor": "white",
            "gridcolor": "#DFE8F3",
            "gridwidth": 2,
            "linecolor": "#EBF0F8",
            "showbackground": true,
            "ticks": "",
            "zerolinecolor": "#EBF0F8"
           }
          },
          "shapedefaults": {
           "line": {
            "color": "#2a3f5f"
           }
          },
          "ternary": {
           "aaxis": {
            "gridcolor": "#DFE8F3",
            "linecolor": "#A2B1C6",
            "ticks": ""
           },
           "baxis": {
            "gridcolor": "#DFE8F3",
            "linecolor": "#A2B1C6",
            "ticks": ""
           },
           "bgcolor": "white",
           "caxis": {
            "gridcolor": "#DFE8F3",
            "linecolor": "#A2B1C6",
            "ticks": ""
           }
          },
          "title": {
           "x": 0.05
          },
          "xaxis": {
           "automargin": true,
           "gridcolor": "#EBF0F8",
           "linecolor": "#EBF0F8",
           "ticks": "",
           "title": {
            "standoff": 15
           },
           "zerolinecolor": "#EBF0F8",
           "zerolinewidth": 2
          },
          "yaxis": {
           "automargin": true,
           "gridcolor": "#EBF0F8",
           "linecolor": "#EBF0F8",
           "ticks": "",
           "title": {
            "standoff": 15
           },
           "zerolinecolor": "#EBF0F8",
           "zerolinewidth": 2
          }
         }
        },
        "title": {
         "text": "Total egg wt vs Total feed intake"
        },
        "xaxis": {
         "anchor": "y",
         "domain": [
          0,
          1
         ],
         "title": {
          "text": "Total egg wt (g)"
         }
        },
        "yaxis": {
         "anchor": "x",
         "domain": [
          0,
          1
         ],
         "title": {
          "text": "Total feed intake (g)"
         }
        }
       }
      }
     },
     "metadata": {},
     "output_type": "display_data"
    }
   ],
   "source": [
    "fig = px.scatter(df,\n",
    "                 x='Total egg wt (g)',\n",
    "                 y='Total feed intake (g)', trendline='ols',\n",
    "                 title='Total egg wt vs Total feed intake')\n",
    "fig.show()"
   ]
  },
  {
   "cell_type": "markdown",
   "metadata": {},
   "source": [
    "\n",
    "\n",
    "###   Breakdown of the Plot  \n",
    "\n",
    "- **X-axis (Total Egg Weight)**: Represents the total weight of eggs produced by each bird.  \n",
    "- **Y-axis (Total Feed Intake)**: Indicates the total feed consumption per bird.  \n",
    "- **Each point**: Corresponds to a bird's total feed intake and egg weight.  \n",
    "- **OLS Trendline**: The regression line models the overall trend in the data.  \n",
    "\n",
    "- **Equation**:  \n",
    "  \n",
    "  Total feed intake = 0.6363*Total egg wt + 612.442\n",
    "\n",
    "\n",
    "- **R² value**: 0.0975 — This explains how much variation in feed intake is linked to egg weight.  \n"
   ]
  },
  {
   "cell_type": "markdown",
   "metadata": {},
   "source": [
    "---\n",
    "\n",
    "### 5.2.3 Bar plot of Total feed intake against various bird ids"
   ]
  },
  {
   "cell_type": "code",
   "execution_count": 173,
   "metadata": {},
   "outputs": [
    {
     "data": {
      "application/vnd.plotly.v1+json": {
       "config": {
        "plotlyServerURL": "https://plot.ly"
       },
       "data": [
        {
         "hovertemplate": "Bird ID.=%{x}<br>Total feed intake (g)=%{y}<extra></extra>",
         "legendgroup": "",
         "marker": {
          "color": "#636efa",
          "pattern": {
           "shape": ""
          }
         },
         "name": "",
         "orientation": "v",
         "showlegend": false,
         "textposition": "auto",
         "type": "bar",
         "x": [
          "R3B31",
          "R3B47",
          "R3B5",
          "R3B60",
          "R3B65",
          "R3B66",
          "R4M12",
          "R6M1",
          "R2B25",
          "R2B42",
          "R2B62",
          "R2B78",
          "R3B10",
          "R3B13",
          "R4M14",
          "R4M33",
          "R4M40",
          "R4M51",
          "R4M54",
          "R4M75",
          "R4M9",
          "R5B23",
          "R5B36",
          "R5B57",
          "R5M52",
          "R5M53",
          "R5M62",
          "R5M64",
          "R6M68",
          "R6M22",
          "R6M29",
          "R6M33",
          "R6M46",
          "R6M75",
          "R3B28",
          "R3B3",
          "R3B3",
          "R3B43",
          "R3B52",
          "R3B56",
          "R4M11",
          "R4M18",
          "R2B27",
          "R5M29",
          "R2B45",
          "R2B53",
          "R2B70",
          "R2B80",
          "R3B21",
          "R4M66",
          "R5B21",
          "R5B76",
          "R5M14",
          "R5M16",
          "R5M22",
          "R5M44",
          "R5M63",
          "R5M67",
          "R5M69",
          "R5M72",
          "R6M13",
          "R6M45",
          "R6M54",
          "R6M63",
          "R6M66",
          "R6M74",
          "R6M78",
          "R6M80"
         ],
         "xaxis": "x",
         "y": {
          "bdata": "AAAAAAC4iUAAAAAAALiIQAAAAAAAiIxAAAAAAACQiUAAAAAAAFiLQAAAAAAAkItAAAAAAADwikAAAAAAADyLQAAAAAAAPItAAAAAAACUi0AAAAAAAMCKQAAAAAAARItAAAAAAADIi0AAAAAAANCKQAAAAAAAoIZAAAAAAADgi0AAAAAAAFCKQAAAAAAAKIpAAAAAAAD4iEAAAAAAAPCHQAAAAAAAAIZAAAAAAAAAiUAAAAAAAHiOQAAAAAAAWItAAAAAAAAwiUAAAAAAAECJQAAAAAAAKIpAAAAAAABYikAAAAAAAKiIQAAAAAAA6IpAAAAAAADQikAAAAAAANiIQAAAAAAAKIpAAAAAAADojEAAAAAAAPCNQAAAAAAASIxAAAAAAABIjEAAAAAAAOSRQAAAAAAAOIpAAAAAAAAgj0AAAAAAACSQQAAAAAAARJBAAAAAAADAi0AAAAAAAMyKQAAAAAAAjItAAAAAAABQi0AAAAAAANyKQAAAAAAAnIpAAAAAAADAjEAAAAAAAEyQQAAAAAAA4ItAAAAAAACAkEAAAAAAANiJQAAAAAAAeIxAAAAAAABgjkAAAAAAAECPQAAAAAAAyI5AAAAAAAAIjEAAAAAAAGiNQAAAAAAAIIxAAAAAAADYiUAAAAAAAEiRQAAAAAAAeI5AAAAAAACQjkAAAAAAADSRQAAAAAAASJBAAAAAAAA4jkAAAAAAAHCPQA==",
          "dtype": "f8"
         },
         "yaxis": "y"
        }
       ],
       "layout": {
        "barmode": "relative",
        "legend": {
         "tracegroupgap": 0
        },
        "template": {
         "data": {
          "bar": [
           {
            "error_x": {
             "color": "#2a3f5f"
            },
            "error_y": {
             "color": "#2a3f5f"
            },
            "marker": {
             "line": {
              "color": "white",
              "width": 0.5
             },
             "pattern": {
              "fillmode": "overlay",
              "size": 10,
              "solidity": 0.2
             }
            },
            "type": "bar"
           }
          ],
          "barpolar": [
           {
            "marker": {
             "line": {
              "color": "white",
              "width": 0.5
             },
             "pattern": {
              "fillmode": "overlay",
              "size": 10,
              "solidity": 0.2
             }
            },
            "type": "barpolar"
           }
          ],
          "carpet": [
           {
            "aaxis": {
             "endlinecolor": "#2a3f5f",
             "gridcolor": "#C8D4E3",
             "linecolor": "#C8D4E3",
             "minorgridcolor": "#C8D4E3",
             "startlinecolor": "#2a3f5f"
            },
            "baxis": {
             "endlinecolor": "#2a3f5f",
             "gridcolor": "#C8D4E3",
             "linecolor": "#C8D4E3",
             "minorgridcolor": "#C8D4E3",
             "startlinecolor": "#2a3f5f"
            },
            "type": "carpet"
           }
          ],
          "choropleth": [
           {
            "colorbar": {
             "outlinewidth": 0,
             "ticks": ""
            },
            "type": "choropleth"
           }
          ],
          "contour": [
           {
            "colorbar": {
             "outlinewidth": 0,
             "ticks": ""
            },
            "colorscale": [
             [
              0,
              "#0d0887"
             ],
             [
              0.1111111111111111,
              "#46039f"
             ],
             [
              0.2222222222222222,
              "#7201a8"
             ],
             [
              0.3333333333333333,
              "#9c179e"
             ],
             [
              0.4444444444444444,
              "#bd3786"
             ],
             [
              0.5555555555555556,
              "#d8576b"
             ],
             [
              0.6666666666666666,
              "#ed7953"
             ],
             [
              0.7777777777777778,
              "#fb9f3a"
             ],
             [
              0.8888888888888888,
              "#fdca26"
             ],
             [
              1,
              "#f0f921"
             ]
            ],
            "type": "contour"
           }
          ],
          "contourcarpet": [
           {
            "colorbar": {
             "outlinewidth": 0,
             "ticks": ""
            },
            "type": "contourcarpet"
           }
          ],
          "heatmap": [
           {
            "colorbar": {
             "outlinewidth": 0,
             "ticks": ""
            },
            "colorscale": [
             [
              0,
              "#0d0887"
             ],
             [
              0.1111111111111111,
              "#46039f"
             ],
             [
              0.2222222222222222,
              "#7201a8"
             ],
             [
              0.3333333333333333,
              "#9c179e"
             ],
             [
              0.4444444444444444,
              "#bd3786"
             ],
             [
              0.5555555555555556,
              "#d8576b"
             ],
             [
              0.6666666666666666,
              "#ed7953"
             ],
             [
              0.7777777777777778,
              "#fb9f3a"
             ],
             [
              0.8888888888888888,
              "#fdca26"
             ],
             [
              1,
              "#f0f921"
             ]
            ],
            "type": "heatmap"
           }
          ],
          "histogram": [
           {
            "marker": {
             "pattern": {
              "fillmode": "overlay",
              "size": 10,
              "solidity": 0.2
             }
            },
            "type": "histogram"
           }
          ],
          "histogram2d": [
           {
            "colorbar": {
             "outlinewidth": 0,
             "ticks": ""
            },
            "colorscale": [
             [
              0,
              "#0d0887"
             ],
             [
              0.1111111111111111,
              "#46039f"
             ],
             [
              0.2222222222222222,
              "#7201a8"
             ],
             [
              0.3333333333333333,
              "#9c179e"
             ],
             [
              0.4444444444444444,
              "#bd3786"
             ],
             [
              0.5555555555555556,
              "#d8576b"
             ],
             [
              0.6666666666666666,
              "#ed7953"
             ],
             [
              0.7777777777777778,
              "#fb9f3a"
             ],
             [
              0.8888888888888888,
              "#fdca26"
             ],
             [
              1,
              "#f0f921"
             ]
            ],
            "type": "histogram2d"
           }
          ],
          "histogram2dcontour": [
           {
            "colorbar": {
             "outlinewidth": 0,
             "ticks": ""
            },
            "colorscale": [
             [
              0,
              "#0d0887"
             ],
             [
              0.1111111111111111,
              "#46039f"
             ],
             [
              0.2222222222222222,
              "#7201a8"
             ],
             [
              0.3333333333333333,
              "#9c179e"
             ],
             [
              0.4444444444444444,
              "#bd3786"
             ],
             [
              0.5555555555555556,
              "#d8576b"
             ],
             [
              0.6666666666666666,
              "#ed7953"
             ],
             [
              0.7777777777777778,
              "#fb9f3a"
             ],
             [
              0.8888888888888888,
              "#fdca26"
             ],
             [
              1,
              "#f0f921"
             ]
            ],
            "type": "histogram2dcontour"
           }
          ],
          "mesh3d": [
           {
            "colorbar": {
             "outlinewidth": 0,
             "ticks": ""
            },
            "type": "mesh3d"
           }
          ],
          "parcoords": [
           {
            "line": {
             "colorbar": {
              "outlinewidth": 0,
              "ticks": ""
             }
            },
            "type": "parcoords"
           }
          ],
          "pie": [
           {
            "automargin": true,
            "type": "pie"
           }
          ],
          "scatter": [
           {
            "fillpattern": {
             "fillmode": "overlay",
             "size": 10,
             "solidity": 0.2
            },
            "type": "scatter"
           }
          ],
          "scatter3d": [
           {
            "line": {
             "colorbar": {
              "outlinewidth": 0,
              "ticks": ""
             }
            },
            "marker": {
             "colorbar": {
              "outlinewidth": 0,
              "ticks": ""
             }
            },
            "type": "scatter3d"
           }
          ],
          "scattercarpet": [
           {
            "marker": {
             "colorbar": {
              "outlinewidth": 0,
              "ticks": ""
             }
            },
            "type": "scattercarpet"
           }
          ],
          "scattergeo": [
           {
            "marker": {
             "colorbar": {
              "outlinewidth": 0,
              "ticks": ""
             }
            },
            "type": "scattergeo"
           }
          ],
          "scattergl": [
           {
            "marker": {
             "colorbar": {
              "outlinewidth": 0,
              "ticks": ""
             }
            },
            "type": "scattergl"
           }
          ],
          "scattermap": [
           {
            "marker": {
             "colorbar": {
              "outlinewidth": 0,
              "ticks": ""
             }
            },
            "type": "scattermap"
           }
          ],
          "scattermapbox": [
           {
            "marker": {
             "colorbar": {
              "outlinewidth": 0,
              "ticks": ""
             }
            },
            "type": "scattermapbox"
           }
          ],
          "scatterpolar": [
           {
            "marker": {
             "colorbar": {
              "outlinewidth": 0,
              "ticks": ""
             }
            },
            "type": "scatterpolar"
           }
          ],
          "scatterpolargl": [
           {
            "marker": {
             "colorbar": {
              "outlinewidth": 0,
              "ticks": ""
             }
            },
            "type": "scatterpolargl"
           }
          ],
          "scatterternary": [
           {
            "marker": {
             "colorbar": {
              "outlinewidth": 0,
              "ticks": ""
             }
            },
            "type": "scatterternary"
           }
          ],
          "surface": [
           {
            "colorbar": {
             "outlinewidth": 0,
             "ticks": ""
            },
            "colorscale": [
             [
              0,
              "#0d0887"
             ],
             [
              0.1111111111111111,
              "#46039f"
             ],
             [
              0.2222222222222222,
              "#7201a8"
             ],
             [
              0.3333333333333333,
              "#9c179e"
             ],
             [
              0.4444444444444444,
              "#bd3786"
             ],
             [
              0.5555555555555556,
              "#d8576b"
             ],
             [
              0.6666666666666666,
              "#ed7953"
             ],
             [
              0.7777777777777778,
              "#fb9f3a"
             ],
             [
              0.8888888888888888,
              "#fdca26"
             ],
             [
              1,
              "#f0f921"
             ]
            ],
            "type": "surface"
           }
          ],
          "table": [
           {
            "cells": {
             "fill": {
              "color": "#EBF0F8"
             },
             "line": {
              "color": "white"
             }
            },
            "header": {
             "fill": {
              "color": "#C8D4E3"
             },
             "line": {
              "color": "white"
             }
            },
            "type": "table"
           }
          ]
         },
         "layout": {
          "annotationdefaults": {
           "arrowcolor": "#2a3f5f",
           "arrowhead": 0,
           "arrowwidth": 1
          },
          "autotypenumbers": "strict",
          "coloraxis": {
           "colorbar": {
            "outlinewidth": 0,
            "ticks": ""
           }
          },
          "colorscale": {
           "diverging": [
            [
             0,
             "#8e0152"
            ],
            [
             0.1,
             "#c51b7d"
            ],
            [
             0.2,
             "#de77ae"
            ],
            [
             0.3,
             "#f1b6da"
            ],
            [
             0.4,
             "#fde0ef"
            ],
            [
             0.5,
             "#f7f7f7"
            ],
            [
             0.6,
             "#e6f5d0"
            ],
            [
             0.7,
             "#b8e186"
            ],
            [
             0.8,
             "#7fbc41"
            ],
            [
             0.9,
             "#4d9221"
            ],
            [
             1,
             "#276419"
            ]
           ],
           "sequential": [
            [
             0,
             "#0d0887"
            ],
            [
             0.1111111111111111,
             "#46039f"
            ],
            [
             0.2222222222222222,
             "#7201a8"
            ],
            [
             0.3333333333333333,
             "#9c179e"
            ],
            [
             0.4444444444444444,
             "#bd3786"
            ],
            [
             0.5555555555555556,
             "#d8576b"
            ],
            [
             0.6666666666666666,
             "#ed7953"
            ],
            [
             0.7777777777777778,
             "#fb9f3a"
            ],
            [
             0.8888888888888888,
             "#fdca26"
            ],
            [
             1,
             "#f0f921"
            ]
           ],
           "sequentialminus": [
            [
             0,
             "#0d0887"
            ],
            [
             0.1111111111111111,
             "#46039f"
            ],
            [
             0.2222222222222222,
             "#7201a8"
            ],
            [
             0.3333333333333333,
             "#9c179e"
            ],
            [
             0.4444444444444444,
             "#bd3786"
            ],
            [
             0.5555555555555556,
             "#d8576b"
            ],
            [
             0.6666666666666666,
             "#ed7953"
            ],
            [
             0.7777777777777778,
             "#fb9f3a"
            ],
            [
             0.8888888888888888,
             "#fdca26"
            ],
            [
             1,
             "#f0f921"
            ]
           ]
          },
          "colorway": [
           "#636efa",
           "#EF553B",
           "#00cc96",
           "#ab63fa",
           "#FFA15A",
           "#19d3f3",
           "#FF6692",
           "#B6E880",
           "#FF97FF",
           "#FECB52"
          ],
          "font": {
           "color": "#2a3f5f"
          },
          "geo": {
           "bgcolor": "white",
           "lakecolor": "white",
           "landcolor": "white",
           "showlakes": true,
           "showland": true,
           "subunitcolor": "#C8D4E3"
          },
          "hoverlabel": {
           "align": "left"
          },
          "hovermode": "closest",
          "mapbox": {
           "style": "light"
          },
          "paper_bgcolor": "white",
          "plot_bgcolor": "white",
          "polar": {
           "angularaxis": {
            "gridcolor": "#EBF0F8",
            "linecolor": "#EBF0F8",
            "ticks": ""
           },
           "bgcolor": "white",
           "radialaxis": {
            "gridcolor": "#EBF0F8",
            "linecolor": "#EBF0F8",
            "ticks": ""
           }
          },
          "scene": {
           "xaxis": {
            "backgroundcolor": "white",
            "gridcolor": "#DFE8F3",
            "gridwidth": 2,
            "linecolor": "#EBF0F8",
            "showbackground": true,
            "ticks": "",
            "zerolinecolor": "#EBF0F8"
           },
           "yaxis": {
            "backgroundcolor": "white",
            "gridcolor": "#DFE8F3",
            "gridwidth": 2,
            "linecolor": "#EBF0F8",
            "showbackground": true,
            "ticks": "",
            "zerolinecolor": "#EBF0F8"
           },
           "zaxis": {
            "backgroundcolor": "white",
            "gridcolor": "#DFE8F3",
            "gridwidth": 2,
            "linecolor": "#EBF0F8",
            "showbackground": true,
            "ticks": "",
            "zerolinecolor": "#EBF0F8"
           }
          },
          "shapedefaults": {
           "line": {
            "color": "#2a3f5f"
           }
          },
          "ternary": {
           "aaxis": {
            "gridcolor": "#DFE8F3",
            "linecolor": "#A2B1C6",
            "ticks": ""
           },
           "baxis": {
            "gridcolor": "#DFE8F3",
            "linecolor": "#A2B1C6",
            "ticks": ""
           },
           "bgcolor": "white",
           "caxis": {
            "gridcolor": "#DFE8F3",
            "linecolor": "#A2B1C6",
            "ticks": ""
           }
          },
          "title": {
           "x": 0.05
          },
          "xaxis": {
           "automargin": true,
           "gridcolor": "#EBF0F8",
           "linecolor": "#EBF0F8",
           "ticks": "",
           "title": {
            "standoff": 15
           },
           "zerolinecolor": "#EBF0F8",
           "zerolinewidth": 2
          },
          "yaxis": {
           "automargin": true,
           "gridcolor": "#EBF0F8",
           "linecolor": "#EBF0F8",
           "ticks": "",
           "title": {
            "standoff": 15
           },
           "zerolinecolor": "#EBF0F8",
           "zerolinewidth": 2
          }
         }
        },
        "title": {
         "text": "Total feed intake by Bird ID."
        },
        "xaxis": {
         "anchor": "y",
         "domain": [
          0,
          1
         ],
         "title": {
          "text": "Bird ID."
         }
        },
        "yaxis": {
         "anchor": "x",
         "domain": [
          0,
          1
         ],
         "title": {
          "text": "Total feed intake (g)"
         }
        }
       }
      }
     },
     "metadata": {},
     "output_type": "display_data"
    }
   ],
   "source": [
    "fig = px.bar(df, x='Bird ID.',\n",
    "             y='Total feed intake (g)', title='Total feed intake by Bird ID.')\n",
    "fig.show()"
   ]
  },
  {
   "cell_type": "markdown",
   "metadata": {},
   "source": [
    "- Each blue bar represents one bird’s total feed intake.\n",
    "- Most birds cluster around a similar range of intake, indicating consistent feeding patterns overall."
   ]
  },
  {
   "cell_type": "markdown",
   "metadata": {},
   "source": [
    "---\n",
    "\n",
    "### 5.2.4 Bar plot of Average Daily intake ADI against various bird ids"
   ]
  },
  {
   "cell_type": "code",
   "execution_count": 174,
   "metadata": {},
   "outputs": [
    {
     "data": {
      "application/vnd.plotly.v1+json": {
       "config": {
        "plotlyServerURL": "https://plot.ly"
       },
       "data": [
        {
         "hovertemplate": "Bird ID.=%{x}<br>ADI (g)=%{y}<extra></extra>",
         "legendgroup": "",
         "marker": {
          "color": "#636efa",
          "pattern": {
           "shape": ""
          }
         },
         "name": "",
         "orientation": "v",
         "showlegend": false,
         "textposition": "auto",
         "type": "bar",
         "x": [
          "R3B31",
          "R3B47",
          "R3B5",
          "R3B60",
          "R3B65",
          "R3B66",
          "R4M12",
          "R6M1",
          "R2B25",
          "R2B42",
          "R2B62",
          "R2B78",
          "R3B10",
          "R3B13",
          "R4M14",
          "R4M33",
          "R4M40",
          "R4M51",
          "R4M54",
          "R4M75",
          "R4M9",
          "R5B23",
          "R5B36",
          "R5B57",
          "R5M52",
          "R5M53",
          "R5M62",
          "R5M64",
          "R6M68",
          "R6M22",
          "R6M29",
          "R6M33",
          "R6M46",
          "R6M75",
          "R3B28",
          "R3B3",
          "R3B3",
          "R3B43",
          "R3B52",
          "R3B56",
          "R4M11",
          "R4M18",
          "R2B27",
          "R5M29",
          "R2B45",
          "R2B53",
          "R2B70",
          "R2B80",
          "R3B21",
          "R4M66",
          "R5B21",
          "R5B76",
          "R5M14",
          "R5M16",
          "R5M22",
          "R5M44",
          "R5M63",
          "R5M67",
          "R5M69",
          "R5M72",
          "R6M13",
          "R6M45",
          "R6M54",
          "R6M63",
          "R6M66",
          "R6M74",
          "R6M78",
          "R6M80"
         ],
         "xaxis": "x",
         "y": {
          "bdata": "8T9DSZJkXUAAAAAAAEBcQAhgXtu2TWBA6d/kbds2XUAAAAAAAEBfQAAAAAAAgF9AFyAbkiTJXkAAAAAAACBfQPE/Q0mShF9ACGBe27btX0D4n6EkSZJeQAAAAAAAwF9A8T9DSZKkXkDxP0NJkiRfQA/AvLZt21lAD8C8tm3bX0D4n6EkSRJeQPE/Q0mS5F1AFyAbkiSJXEAPwLy2bVtbQPE/Q0mSJFlA+J+hJEmSXED8z1CSJGlhQAAAAAAAQF9AFyAbkiTJXEAPwLy2bdtcQPE/Q0mS5F1AD8C8tm0bXkAIYF7bti1cQAAAAAAAwF5A8T9DSZKkXkDxP0NJkmRcQPE/Q0mS5F1AC5ANSZKEYED1b/K2bRthQPzPUJIkKWBA/M9QkiQpYED4n6EkSXJkQOnf5G3b9l1A/M9QkiTJYUD4n6EkSXJiQAQwr23blmJA6d/kbdu2X0AAAAAAAKBeQA/AvLZte19A6d/kbds2X0D4n6EkSbJeQBcgG5IkaV5ACGBe27ZtYEAAAAAAAKBiQA/AvLZt219A9W/ytm3bYkAXIBuSJIldQAuQDUmSRGBA9W/ytm1bYUD1b/K2bdthQAQwr23blmFAC5ANSZIEYEAIYF7bts1gQPifoSRJEmBAFyAbkiSJXUAAAAAAAMBjQPzPUJIkaWFABDCvbdt2YUD8z1CSJKljQPVv8rZtm2JAC5ANSZJEYUAEMK9t2/ZhQA==",
          "dtype": "f8"
         },
         "yaxis": "y"
        }
       ],
       "layout": {
        "barmode": "relative",
        "legend": {
         "tracegroupgap": 0
        },
        "template": {
         "data": {
          "bar": [
           {
            "error_x": {
             "color": "#2a3f5f"
            },
            "error_y": {
             "color": "#2a3f5f"
            },
            "marker": {
             "line": {
              "color": "white",
              "width": 0.5
             },
             "pattern": {
              "fillmode": "overlay",
              "size": 10,
              "solidity": 0.2
             }
            },
            "type": "bar"
           }
          ],
          "barpolar": [
           {
            "marker": {
             "line": {
              "color": "white",
              "width": 0.5
             },
             "pattern": {
              "fillmode": "overlay",
              "size": 10,
              "solidity": 0.2
             }
            },
            "type": "barpolar"
           }
          ],
          "carpet": [
           {
            "aaxis": {
             "endlinecolor": "#2a3f5f",
             "gridcolor": "#C8D4E3",
             "linecolor": "#C8D4E3",
             "minorgridcolor": "#C8D4E3",
             "startlinecolor": "#2a3f5f"
            },
            "baxis": {
             "endlinecolor": "#2a3f5f",
             "gridcolor": "#C8D4E3",
             "linecolor": "#C8D4E3",
             "minorgridcolor": "#C8D4E3",
             "startlinecolor": "#2a3f5f"
            },
            "type": "carpet"
           }
          ],
          "choropleth": [
           {
            "colorbar": {
             "outlinewidth": 0,
             "ticks": ""
            },
            "type": "choropleth"
           }
          ],
          "contour": [
           {
            "colorbar": {
             "outlinewidth": 0,
             "ticks": ""
            },
            "colorscale": [
             [
              0,
              "#0d0887"
             ],
             [
              0.1111111111111111,
              "#46039f"
             ],
             [
              0.2222222222222222,
              "#7201a8"
             ],
             [
              0.3333333333333333,
              "#9c179e"
             ],
             [
              0.4444444444444444,
              "#bd3786"
             ],
             [
              0.5555555555555556,
              "#d8576b"
             ],
             [
              0.6666666666666666,
              "#ed7953"
             ],
             [
              0.7777777777777778,
              "#fb9f3a"
             ],
             [
              0.8888888888888888,
              "#fdca26"
             ],
             [
              1,
              "#f0f921"
             ]
            ],
            "type": "contour"
           }
          ],
          "contourcarpet": [
           {
            "colorbar": {
             "outlinewidth": 0,
             "ticks": ""
            },
            "type": "contourcarpet"
           }
          ],
          "heatmap": [
           {
            "colorbar": {
             "outlinewidth": 0,
             "ticks": ""
            },
            "colorscale": [
             [
              0,
              "#0d0887"
             ],
             [
              0.1111111111111111,
              "#46039f"
             ],
             [
              0.2222222222222222,
              "#7201a8"
             ],
             [
              0.3333333333333333,
              "#9c179e"
             ],
             [
              0.4444444444444444,
              "#bd3786"
             ],
             [
              0.5555555555555556,
              "#d8576b"
             ],
             [
              0.6666666666666666,
              "#ed7953"
             ],
             [
              0.7777777777777778,
              "#fb9f3a"
             ],
             [
              0.8888888888888888,
              "#fdca26"
             ],
             [
              1,
              "#f0f921"
             ]
            ],
            "type": "heatmap"
           }
          ],
          "histogram": [
           {
            "marker": {
             "pattern": {
              "fillmode": "overlay",
              "size": 10,
              "solidity": 0.2
             }
            },
            "type": "histogram"
           }
          ],
          "histogram2d": [
           {
            "colorbar": {
             "outlinewidth": 0,
             "ticks": ""
            },
            "colorscale": [
             [
              0,
              "#0d0887"
             ],
             [
              0.1111111111111111,
              "#46039f"
             ],
             [
              0.2222222222222222,
              "#7201a8"
             ],
             [
              0.3333333333333333,
              "#9c179e"
             ],
             [
              0.4444444444444444,
              "#bd3786"
             ],
             [
              0.5555555555555556,
              "#d8576b"
             ],
             [
              0.6666666666666666,
              "#ed7953"
             ],
             [
              0.7777777777777778,
              "#fb9f3a"
             ],
             [
              0.8888888888888888,
              "#fdca26"
             ],
             [
              1,
              "#f0f921"
             ]
            ],
            "type": "histogram2d"
           }
          ],
          "histogram2dcontour": [
           {
            "colorbar": {
             "outlinewidth": 0,
             "ticks": ""
            },
            "colorscale": [
             [
              0,
              "#0d0887"
             ],
             [
              0.1111111111111111,
              "#46039f"
             ],
             [
              0.2222222222222222,
              "#7201a8"
             ],
             [
              0.3333333333333333,
              "#9c179e"
             ],
             [
              0.4444444444444444,
              "#bd3786"
             ],
             [
              0.5555555555555556,
              "#d8576b"
             ],
             [
              0.6666666666666666,
              "#ed7953"
             ],
             [
              0.7777777777777778,
              "#fb9f3a"
             ],
             [
              0.8888888888888888,
              "#fdca26"
             ],
             [
              1,
              "#f0f921"
             ]
            ],
            "type": "histogram2dcontour"
           }
          ],
          "mesh3d": [
           {
            "colorbar": {
             "outlinewidth": 0,
             "ticks": ""
            },
            "type": "mesh3d"
           }
          ],
          "parcoords": [
           {
            "line": {
             "colorbar": {
              "outlinewidth": 0,
              "ticks": ""
             }
            },
            "type": "parcoords"
           }
          ],
          "pie": [
           {
            "automargin": true,
            "type": "pie"
           }
          ],
          "scatter": [
           {
            "fillpattern": {
             "fillmode": "overlay",
             "size": 10,
             "solidity": 0.2
            },
            "type": "scatter"
           }
          ],
          "scatter3d": [
           {
            "line": {
             "colorbar": {
              "outlinewidth": 0,
              "ticks": ""
             }
            },
            "marker": {
             "colorbar": {
              "outlinewidth": 0,
              "ticks": ""
             }
            },
            "type": "scatter3d"
           }
          ],
          "scattercarpet": [
           {
            "marker": {
             "colorbar": {
              "outlinewidth": 0,
              "ticks": ""
             }
            },
            "type": "scattercarpet"
           }
          ],
          "scattergeo": [
           {
            "marker": {
             "colorbar": {
              "outlinewidth": 0,
              "ticks": ""
             }
            },
            "type": "scattergeo"
           }
          ],
          "scattergl": [
           {
            "marker": {
             "colorbar": {
              "outlinewidth": 0,
              "ticks": ""
             }
            },
            "type": "scattergl"
           }
          ],
          "scattermap": [
           {
            "marker": {
             "colorbar": {
              "outlinewidth": 0,
              "ticks": ""
             }
            },
            "type": "scattermap"
           }
          ],
          "scattermapbox": [
           {
            "marker": {
             "colorbar": {
              "outlinewidth": 0,
              "ticks": ""
             }
            },
            "type": "scattermapbox"
           }
          ],
          "scatterpolar": [
           {
            "marker": {
             "colorbar": {
              "outlinewidth": 0,
              "ticks": ""
             }
            },
            "type": "scatterpolar"
           }
          ],
          "scatterpolargl": [
           {
            "marker": {
             "colorbar": {
              "outlinewidth": 0,
              "ticks": ""
             }
            },
            "type": "scatterpolargl"
           }
          ],
          "scatterternary": [
           {
            "marker": {
             "colorbar": {
              "outlinewidth": 0,
              "ticks": ""
             }
            },
            "type": "scatterternary"
           }
          ],
          "surface": [
           {
            "colorbar": {
             "outlinewidth": 0,
             "ticks": ""
            },
            "colorscale": [
             [
              0,
              "#0d0887"
             ],
             [
              0.1111111111111111,
              "#46039f"
             ],
             [
              0.2222222222222222,
              "#7201a8"
             ],
             [
              0.3333333333333333,
              "#9c179e"
             ],
             [
              0.4444444444444444,
              "#bd3786"
             ],
             [
              0.5555555555555556,
              "#d8576b"
             ],
             [
              0.6666666666666666,
              "#ed7953"
             ],
             [
              0.7777777777777778,
              "#fb9f3a"
             ],
             [
              0.8888888888888888,
              "#fdca26"
             ],
             [
              1,
              "#f0f921"
             ]
            ],
            "type": "surface"
           }
          ],
          "table": [
           {
            "cells": {
             "fill": {
              "color": "#EBF0F8"
             },
             "line": {
              "color": "white"
             }
            },
            "header": {
             "fill": {
              "color": "#C8D4E3"
             },
             "line": {
              "color": "white"
             }
            },
            "type": "table"
           }
          ]
         },
         "layout": {
          "annotationdefaults": {
           "arrowcolor": "#2a3f5f",
           "arrowhead": 0,
           "arrowwidth": 1
          },
          "autotypenumbers": "strict",
          "coloraxis": {
           "colorbar": {
            "outlinewidth": 0,
            "ticks": ""
           }
          },
          "colorscale": {
           "diverging": [
            [
             0,
             "#8e0152"
            ],
            [
             0.1,
             "#c51b7d"
            ],
            [
             0.2,
             "#de77ae"
            ],
            [
             0.3,
             "#f1b6da"
            ],
            [
             0.4,
             "#fde0ef"
            ],
            [
             0.5,
             "#f7f7f7"
            ],
            [
             0.6,
             "#e6f5d0"
            ],
            [
             0.7,
             "#b8e186"
            ],
            [
             0.8,
             "#7fbc41"
            ],
            [
             0.9,
             "#4d9221"
            ],
            [
             1,
             "#276419"
            ]
           ],
           "sequential": [
            [
             0,
             "#0d0887"
            ],
            [
             0.1111111111111111,
             "#46039f"
            ],
            [
             0.2222222222222222,
             "#7201a8"
            ],
            [
             0.3333333333333333,
             "#9c179e"
            ],
            [
             0.4444444444444444,
             "#bd3786"
            ],
            [
             0.5555555555555556,
             "#d8576b"
            ],
            [
             0.6666666666666666,
             "#ed7953"
            ],
            [
             0.7777777777777778,
             "#fb9f3a"
            ],
            [
             0.8888888888888888,
             "#fdca26"
            ],
            [
             1,
             "#f0f921"
            ]
           ],
           "sequentialminus": [
            [
             0,
             "#0d0887"
            ],
            [
             0.1111111111111111,
             "#46039f"
            ],
            [
             0.2222222222222222,
             "#7201a8"
            ],
            [
             0.3333333333333333,
             "#9c179e"
            ],
            [
             0.4444444444444444,
             "#bd3786"
            ],
            [
             0.5555555555555556,
             "#d8576b"
            ],
            [
             0.6666666666666666,
             "#ed7953"
            ],
            [
             0.7777777777777778,
             "#fb9f3a"
            ],
            [
             0.8888888888888888,
             "#fdca26"
            ],
            [
             1,
             "#f0f921"
            ]
           ]
          },
          "colorway": [
           "#636efa",
           "#EF553B",
           "#00cc96",
           "#ab63fa",
           "#FFA15A",
           "#19d3f3",
           "#FF6692",
           "#B6E880",
           "#FF97FF",
           "#FECB52"
          ],
          "font": {
           "color": "#2a3f5f"
          },
          "geo": {
           "bgcolor": "white",
           "lakecolor": "white",
           "landcolor": "white",
           "showlakes": true,
           "showland": true,
           "subunitcolor": "#C8D4E3"
          },
          "hoverlabel": {
           "align": "left"
          },
          "hovermode": "closest",
          "mapbox": {
           "style": "light"
          },
          "paper_bgcolor": "white",
          "plot_bgcolor": "white",
          "polar": {
           "angularaxis": {
            "gridcolor": "#EBF0F8",
            "linecolor": "#EBF0F8",
            "ticks": ""
           },
           "bgcolor": "white",
           "radialaxis": {
            "gridcolor": "#EBF0F8",
            "linecolor": "#EBF0F8",
            "ticks": ""
           }
          },
          "scene": {
           "xaxis": {
            "backgroundcolor": "white",
            "gridcolor": "#DFE8F3",
            "gridwidth": 2,
            "linecolor": "#EBF0F8",
            "showbackground": true,
            "ticks": "",
            "zerolinecolor": "#EBF0F8"
           },
           "yaxis": {
            "backgroundcolor": "white",
            "gridcolor": "#DFE8F3",
            "gridwidth": 2,
            "linecolor": "#EBF0F8",
            "showbackground": true,
            "ticks": "",
            "zerolinecolor": "#EBF0F8"
           },
           "zaxis": {
            "backgroundcolor": "white",
            "gridcolor": "#DFE8F3",
            "gridwidth": 2,
            "linecolor": "#EBF0F8",
            "showbackground": true,
            "ticks": "",
            "zerolinecolor": "#EBF0F8"
           }
          },
          "shapedefaults": {
           "line": {
            "color": "#2a3f5f"
           }
          },
          "ternary": {
           "aaxis": {
            "gridcolor": "#DFE8F3",
            "linecolor": "#A2B1C6",
            "ticks": ""
           },
           "baxis": {
            "gridcolor": "#DFE8F3",
            "linecolor": "#A2B1C6",
            "ticks": ""
           },
           "bgcolor": "white",
           "caxis": {
            "gridcolor": "#DFE8F3",
            "linecolor": "#A2B1C6",
            "ticks": ""
           }
          },
          "title": {
           "x": 0.05
          },
          "xaxis": {
           "automargin": true,
           "gridcolor": "#EBF0F8",
           "linecolor": "#EBF0F8",
           "ticks": "",
           "title": {
            "standoff": 15
           },
           "zerolinecolor": "#EBF0F8",
           "zerolinewidth": 2
          },
          "yaxis": {
           "automargin": true,
           "gridcolor": "#EBF0F8",
           "linecolor": "#EBF0F8",
           "ticks": "",
           "title": {
            "standoff": 15
           },
           "zerolinecolor": "#EBF0F8",
           "zerolinewidth": 2
          }
         }
        },
        "title": {
         "text": "ADI by Bird ID."
        },
        "xaxis": {
         "anchor": "y",
         "domain": [
          0,
          1
         ],
         "title": {
          "text": "Bird ID."
         }
        },
        "yaxis": {
         "anchor": "x",
         "domain": [
          0,
          1
         ],
         "title": {
          "text": "ADI (g)"
         }
        }
       }
      }
     },
     "metadata": {},
     "output_type": "display_data"
    }
   ],
   "source": [
    "fig = px.bar(df, x='Bird ID.',\n",
    "             y='ADI (g)', title='ADI by Bird ID.')\n",
    "fig.show()"
   ]
  },
  {
   "cell_type": "markdown",
   "metadata": {},
   "source": [
    "- Each blue bar represent average daily intake(ADI) per bird id\n",
    "- Most birds cluster around close amount of average daily intake indicating similar daily intake"
   ]
  },
  {
   "cell_type": "markdown",
   "metadata": {},
   "source": [
    "---\n",
    "\n",
    "### 5.2.5 Box Plot: Total Feed Intake by Time Spent Feeding"
   ]
  },
  {
   "cell_type": "code",
   "execution_count": 175,
   "metadata": {},
   "outputs": [
    {
     "data": {
      "application/vnd.plotly.v1+json": {
       "config": {
        "plotlyServerURL": "https://plot.ly"
       },
       "data": [
        {
         "alignmentgroup": "True",
         "hovertemplate": "Time spent for feeding /h=%{x}<br>Total feed intake (g)=%{y}<extra></extra>",
         "legendgroup": "",
         "marker": {
          "color": "#636efa"
         },
         "name": "",
         "notched": false,
         "offsetgroup": "",
         "orientation": "v",
         "showlegend": false,
         "type": "box",
         "x": {
          "bdata": "EioSEhgeEgwSFQYJHh4SDAwSHh4kJAwGMB4kBgwSBgweHh4kJB4wHioSNhISHiQAJzA2EiQeJAwqNh4kDDYSEh4kJCc=",
          "dtype": "i1"
         },
         "x0": " ",
         "xaxis": "x",
         "y": {
          "bdata": "AAAAAAC4iUAAAAAAALiIQAAAAAAAiIxAAAAAAACQiUAAAAAAAFiLQAAAAAAAkItAAAAAAADwikAAAAAAADyLQAAAAAAAPItAAAAAAACUi0AAAAAAAMCKQAAAAAAARItAAAAAAADIi0AAAAAAANCKQAAAAAAAoIZAAAAAAADgi0AAAAAAAFCKQAAAAAAAKIpAAAAAAAD4iEAAAAAAAPCHQAAAAAAAAIZAAAAAAAAAiUAAAAAAAHiOQAAAAAAAWItAAAAAAAAwiUAAAAAAAECJQAAAAAAAKIpAAAAAAABYikAAAAAAAKiIQAAAAAAA6IpAAAAAAADQikAAAAAAANiIQAAAAAAAKIpAAAAAAADojEAAAAAAAPCNQAAAAAAASIxAAAAAAABIjEAAAAAAAOSRQAAAAAAAOIpAAAAAAAAgj0AAAAAAACSQQAAAAAAARJBAAAAAAADAi0AAAAAAAMyKQAAAAAAAjItAAAAAAABQi0AAAAAAANyKQAAAAAAAnIpAAAAAAADAjEAAAAAAAEyQQAAAAAAA4ItAAAAAAACAkEAAAAAAANiJQAAAAAAAeIxAAAAAAABgjkAAAAAAAECPQAAAAAAAyI5AAAAAAAAIjEAAAAAAAGiNQAAAAAAAIIxAAAAAAADYiUAAAAAAAEiRQAAAAAAAeI5AAAAAAACQjkAAAAAAADSRQAAAAAAASJBAAAAAAAA4jkAAAAAAAHCPQA==",
          "dtype": "f8"
         },
         "y0": " ",
         "yaxis": "y"
        }
       ],
       "layout": {
        "boxmode": "group",
        "legend": {
         "tracegroupgap": 0
        },
        "template": {
         "data": {
          "bar": [
           {
            "error_x": {
             "color": "#2a3f5f"
            },
            "error_y": {
             "color": "#2a3f5f"
            },
            "marker": {
             "line": {
              "color": "white",
              "width": 0.5
             },
             "pattern": {
              "fillmode": "overlay",
              "size": 10,
              "solidity": 0.2
             }
            },
            "type": "bar"
           }
          ],
          "barpolar": [
           {
            "marker": {
             "line": {
              "color": "white",
              "width": 0.5
             },
             "pattern": {
              "fillmode": "overlay",
              "size": 10,
              "solidity": 0.2
             }
            },
            "type": "barpolar"
           }
          ],
          "carpet": [
           {
            "aaxis": {
             "endlinecolor": "#2a3f5f",
             "gridcolor": "#C8D4E3",
             "linecolor": "#C8D4E3",
             "minorgridcolor": "#C8D4E3",
             "startlinecolor": "#2a3f5f"
            },
            "baxis": {
             "endlinecolor": "#2a3f5f",
             "gridcolor": "#C8D4E3",
             "linecolor": "#C8D4E3",
             "minorgridcolor": "#C8D4E3",
             "startlinecolor": "#2a3f5f"
            },
            "type": "carpet"
           }
          ],
          "choropleth": [
           {
            "colorbar": {
             "outlinewidth": 0,
             "ticks": ""
            },
            "type": "choropleth"
           }
          ],
          "contour": [
           {
            "colorbar": {
             "outlinewidth": 0,
             "ticks": ""
            },
            "colorscale": [
             [
              0,
              "#0d0887"
             ],
             [
              0.1111111111111111,
              "#46039f"
             ],
             [
              0.2222222222222222,
              "#7201a8"
             ],
             [
              0.3333333333333333,
              "#9c179e"
             ],
             [
              0.4444444444444444,
              "#bd3786"
             ],
             [
              0.5555555555555556,
              "#d8576b"
             ],
             [
              0.6666666666666666,
              "#ed7953"
             ],
             [
              0.7777777777777778,
              "#fb9f3a"
             ],
             [
              0.8888888888888888,
              "#fdca26"
             ],
             [
              1,
              "#f0f921"
             ]
            ],
            "type": "contour"
           }
          ],
          "contourcarpet": [
           {
            "colorbar": {
             "outlinewidth": 0,
             "ticks": ""
            },
            "type": "contourcarpet"
           }
          ],
          "heatmap": [
           {
            "colorbar": {
             "outlinewidth": 0,
             "ticks": ""
            },
            "colorscale": [
             [
              0,
              "#0d0887"
             ],
             [
              0.1111111111111111,
              "#46039f"
             ],
             [
              0.2222222222222222,
              "#7201a8"
             ],
             [
              0.3333333333333333,
              "#9c179e"
             ],
             [
              0.4444444444444444,
              "#bd3786"
             ],
             [
              0.5555555555555556,
              "#d8576b"
             ],
             [
              0.6666666666666666,
              "#ed7953"
             ],
             [
              0.7777777777777778,
              "#fb9f3a"
             ],
             [
              0.8888888888888888,
              "#fdca26"
             ],
             [
              1,
              "#f0f921"
             ]
            ],
            "type": "heatmap"
           }
          ],
          "histogram": [
           {
            "marker": {
             "pattern": {
              "fillmode": "overlay",
              "size": 10,
              "solidity": 0.2
             }
            },
            "type": "histogram"
           }
          ],
          "histogram2d": [
           {
            "colorbar": {
             "outlinewidth": 0,
             "ticks": ""
            },
            "colorscale": [
             [
              0,
              "#0d0887"
             ],
             [
              0.1111111111111111,
              "#46039f"
             ],
             [
              0.2222222222222222,
              "#7201a8"
             ],
             [
              0.3333333333333333,
              "#9c179e"
             ],
             [
              0.4444444444444444,
              "#bd3786"
             ],
             [
              0.5555555555555556,
              "#d8576b"
             ],
             [
              0.6666666666666666,
              "#ed7953"
             ],
             [
              0.7777777777777778,
              "#fb9f3a"
             ],
             [
              0.8888888888888888,
              "#fdca26"
             ],
             [
              1,
              "#f0f921"
             ]
            ],
            "type": "histogram2d"
           }
          ],
          "histogram2dcontour": [
           {
            "colorbar": {
             "outlinewidth": 0,
             "ticks": ""
            },
            "colorscale": [
             [
              0,
              "#0d0887"
             ],
             [
              0.1111111111111111,
              "#46039f"
             ],
             [
              0.2222222222222222,
              "#7201a8"
             ],
             [
              0.3333333333333333,
              "#9c179e"
             ],
             [
              0.4444444444444444,
              "#bd3786"
             ],
             [
              0.5555555555555556,
              "#d8576b"
             ],
             [
              0.6666666666666666,
              "#ed7953"
             ],
             [
              0.7777777777777778,
              "#fb9f3a"
             ],
             [
              0.8888888888888888,
              "#fdca26"
             ],
             [
              1,
              "#f0f921"
             ]
            ],
            "type": "histogram2dcontour"
           }
          ],
          "mesh3d": [
           {
            "colorbar": {
             "outlinewidth": 0,
             "ticks": ""
            },
            "type": "mesh3d"
           }
          ],
          "parcoords": [
           {
            "line": {
             "colorbar": {
              "outlinewidth": 0,
              "ticks": ""
             }
            },
            "type": "parcoords"
           }
          ],
          "pie": [
           {
            "automargin": true,
            "type": "pie"
           }
          ],
          "scatter": [
           {
            "fillpattern": {
             "fillmode": "overlay",
             "size": 10,
             "solidity": 0.2
            },
            "type": "scatter"
           }
          ],
          "scatter3d": [
           {
            "line": {
             "colorbar": {
              "outlinewidth": 0,
              "ticks": ""
             }
            },
            "marker": {
             "colorbar": {
              "outlinewidth": 0,
              "ticks": ""
             }
            },
            "type": "scatter3d"
           }
          ],
          "scattercarpet": [
           {
            "marker": {
             "colorbar": {
              "outlinewidth": 0,
              "ticks": ""
             }
            },
            "type": "scattercarpet"
           }
          ],
          "scattergeo": [
           {
            "marker": {
             "colorbar": {
              "outlinewidth": 0,
              "ticks": ""
             }
            },
            "type": "scattergeo"
           }
          ],
          "scattergl": [
           {
            "marker": {
             "colorbar": {
              "outlinewidth": 0,
              "ticks": ""
             }
            },
            "type": "scattergl"
           }
          ],
          "scattermap": [
           {
            "marker": {
             "colorbar": {
              "outlinewidth": 0,
              "ticks": ""
             }
            },
            "type": "scattermap"
           }
          ],
          "scattermapbox": [
           {
            "marker": {
             "colorbar": {
              "outlinewidth": 0,
              "ticks": ""
             }
            },
            "type": "scattermapbox"
           }
          ],
          "scatterpolar": [
           {
            "marker": {
             "colorbar": {
              "outlinewidth": 0,
              "ticks": ""
             }
            },
            "type": "scatterpolar"
           }
          ],
          "scatterpolargl": [
           {
            "marker": {
             "colorbar": {
              "outlinewidth": 0,
              "ticks": ""
             }
            },
            "type": "scatterpolargl"
           }
          ],
          "scatterternary": [
           {
            "marker": {
             "colorbar": {
              "outlinewidth": 0,
              "ticks": ""
             }
            },
            "type": "scatterternary"
           }
          ],
          "surface": [
           {
            "colorbar": {
             "outlinewidth": 0,
             "ticks": ""
            },
            "colorscale": [
             [
              0,
              "#0d0887"
             ],
             [
              0.1111111111111111,
              "#46039f"
             ],
             [
              0.2222222222222222,
              "#7201a8"
             ],
             [
              0.3333333333333333,
              "#9c179e"
             ],
             [
              0.4444444444444444,
              "#bd3786"
             ],
             [
              0.5555555555555556,
              "#d8576b"
             ],
             [
              0.6666666666666666,
              "#ed7953"
             ],
             [
              0.7777777777777778,
              "#fb9f3a"
             ],
             [
              0.8888888888888888,
              "#fdca26"
             ],
             [
              1,
              "#f0f921"
             ]
            ],
            "type": "surface"
           }
          ],
          "table": [
           {
            "cells": {
             "fill": {
              "color": "#EBF0F8"
             },
             "line": {
              "color": "white"
             }
            },
            "header": {
             "fill": {
              "color": "#C8D4E3"
             },
             "line": {
              "color": "white"
             }
            },
            "type": "table"
           }
          ]
         },
         "layout": {
          "annotationdefaults": {
           "arrowcolor": "#2a3f5f",
           "arrowhead": 0,
           "arrowwidth": 1
          },
          "autotypenumbers": "strict",
          "coloraxis": {
           "colorbar": {
            "outlinewidth": 0,
            "ticks": ""
           }
          },
          "colorscale": {
           "diverging": [
            [
             0,
             "#8e0152"
            ],
            [
             0.1,
             "#c51b7d"
            ],
            [
             0.2,
             "#de77ae"
            ],
            [
             0.3,
             "#f1b6da"
            ],
            [
             0.4,
             "#fde0ef"
            ],
            [
             0.5,
             "#f7f7f7"
            ],
            [
             0.6,
             "#e6f5d0"
            ],
            [
             0.7,
             "#b8e186"
            ],
            [
             0.8,
             "#7fbc41"
            ],
            [
             0.9,
             "#4d9221"
            ],
            [
             1,
             "#276419"
            ]
           ],
           "sequential": [
            [
             0,
             "#0d0887"
            ],
            [
             0.1111111111111111,
             "#46039f"
            ],
            [
             0.2222222222222222,
             "#7201a8"
            ],
            [
             0.3333333333333333,
             "#9c179e"
            ],
            [
             0.4444444444444444,
             "#bd3786"
            ],
            [
             0.5555555555555556,
             "#d8576b"
            ],
            [
             0.6666666666666666,
             "#ed7953"
            ],
            [
             0.7777777777777778,
             "#fb9f3a"
            ],
            [
             0.8888888888888888,
             "#fdca26"
            ],
            [
             1,
             "#f0f921"
            ]
           ],
           "sequentialminus": [
            [
             0,
             "#0d0887"
            ],
            [
             0.1111111111111111,
             "#46039f"
            ],
            [
             0.2222222222222222,
             "#7201a8"
            ],
            [
             0.3333333333333333,
             "#9c179e"
            ],
            [
             0.4444444444444444,
             "#bd3786"
            ],
            [
             0.5555555555555556,
             "#d8576b"
            ],
            [
             0.6666666666666666,
             "#ed7953"
            ],
            [
             0.7777777777777778,
             "#fb9f3a"
            ],
            [
             0.8888888888888888,
             "#fdca26"
            ],
            [
             1,
             "#f0f921"
            ]
           ]
          },
          "colorway": [
           "#636efa",
           "#EF553B",
           "#00cc96",
           "#ab63fa",
           "#FFA15A",
           "#19d3f3",
           "#FF6692",
           "#B6E880",
           "#FF97FF",
           "#FECB52"
          ],
          "font": {
           "color": "#2a3f5f"
          },
          "geo": {
           "bgcolor": "white",
           "lakecolor": "white",
           "landcolor": "white",
           "showlakes": true,
           "showland": true,
           "subunitcolor": "#C8D4E3"
          },
          "hoverlabel": {
           "align": "left"
          },
          "hovermode": "closest",
          "mapbox": {
           "style": "light"
          },
          "paper_bgcolor": "white",
          "plot_bgcolor": "white",
          "polar": {
           "angularaxis": {
            "gridcolor": "#EBF0F8",
            "linecolor": "#EBF0F8",
            "ticks": ""
           },
           "bgcolor": "white",
           "radialaxis": {
            "gridcolor": "#EBF0F8",
            "linecolor": "#EBF0F8",
            "ticks": ""
           }
          },
          "scene": {
           "xaxis": {
            "backgroundcolor": "white",
            "gridcolor": "#DFE8F3",
            "gridwidth": 2,
            "linecolor": "#EBF0F8",
            "showbackground": true,
            "ticks": "",
            "zerolinecolor": "#EBF0F8"
           },
           "yaxis": {
            "backgroundcolor": "white",
            "gridcolor": "#DFE8F3",
            "gridwidth": 2,
            "linecolor": "#EBF0F8",
            "showbackground": true,
            "ticks": "",
            "zerolinecolor": "#EBF0F8"
           },
           "zaxis": {
            "backgroundcolor": "white",
            "gridcolor": "#DFE8F3",
            "gridwidth": 2,
            "linecolor": "#EBF0F8",
            "showbackground": true,
            "ticks": "",
            "zerolinecolor": "#EBF0F8"
           }
          },
          "shapedefaults": {
           "line": {
            "color": "#2a3f5f"
           }
          },
          "ternary": {
           "aaxis": {
            "gridcolor": "#DFE8F3",
            "linecolor": "#A2B1C6",
            "ticks": ""
           },
           "baxis": {
            "gridcolor": "#DFE8F3",
            "linecolor": "#A2B1C6",
            "ticks": ""
           },
           "bgcolor": "white",
           "caxis": {
            "gridcolor": "#DFE8F3",
            "linecolor": "#A2B1C6",
            "ticks": ""
           }
          },
          "title": {
           "x": 0.05
          },
          "xaxis": {
           "automargin": true,
           "gridcolor": "#EBF0F8",
           "linecolor": "#EBF0F8",
           "ticks": "",
           "title": {
            "standoff": 15
           },
           "zerolinecolor": "#EBF0F8",
           "zerolinewidth": 2
          },
          "yaxis": {
           "automargin": true,
           "gridcolor": "#EBF0F8",
           "linecolor": "#EBF0F8",
           "ticks": "",
           "title": {
            "standoff": 15
           },
           "zerolinecolor": "#EBF0F8",
           "zerolinewidth": 2
          }
         }
        },
        "title": {
         "text": "Box Plot of Total feed intake by Time spent for feeding /h"
        },
        "xaxis": {
         "anchor": "y",
         "domain": [
          0,
          1
         ],
         "title": {
          "text": "Time spent for feeding /h"
         }
        },
        "yaxis": {
         "anchor": "x",
         "domain": [
          0,
          1
         ],
         "title": {
          "text": "Total feed intake (g)"
         }
        }
       }
      }
     },
     "metadata": {},
     "output_type": "display_data"
    }
   ],
   "source": [
    "fig = px.box(df, x='Time spent for feeding /h', \n",
    "             y='Total feed intake (g)', \n",
    "             title='Box Plot of Total feed intake by Time spent for feeding /h')\n",
    "fig.show()"
   ]
  },
  {
   "cell_type": "markdown",
   "metadata": {},
   "source": [
    "- X-axis (Time spent for feeding /h): Each group represents birds that spent a specific amount of time feeding (e.g., 0, 10, 20, 30 hours).\n",
    "- Y-axis (Total feed intake): Measures how much those birds ate\n",
    "\n",
    "#### Key insights\n",
    "- Box (Q1 to Q3): Middle 50% of the data — the \"interquartile range\" (IQR).\n",
    "\n",
    "- Example: For 30 hours, the IQR spans from 842.25 to 953.75.\n",
    "- Bold Line (Median): The middle value — at 889 for 30 hours.\n",
    "\n",
    "- This helps spot where most birds' intake hovers.\n",
    "- Whiskers (Lower/Upper Fence): These show the range of \"normal\" values — 766 to 1101 for 30 hours.\n",
    "\n",
    "- Anything outside is flagged as an outlier.\n",
    "- Dots (Outliers): Birds that consumed far more or less than their peers — like the bird at 1145 for 30 hours.\n",
    "\n"
   ]
  },
  {
   "cell_type": "markdown",
   "metadata": {},
   "source": [
    "---\n",
    "\n",
    "### 5.2.6  Scatter plot total feed intake vs feed conversion ratio (FCR)"
   ]
  },
  {
   "cell_type": "code",
   "execution_count": 176,
   "metadata": {},
   "outputs": [
    {
     "data": {
      "application/vnd.plotly.v1+json": {
       "config": {
        "plotlyServerURL": "https://plot.ly"
       },
       "data": [
        {
         "hovertemplate": "FCR=%{x}<br>Total feed intake (g)=%{y}<extra></extra>",
         "legendgroup": "",
         "marker": {
          "color": "#636efa",
          "symbol": "circle"
         },
         "mode": "markers",
         "name": "",
         "orientation": "v",
         "showlegend": false,
         "type": "scatter",
         "x": {
          "bdata": "hEJYG9BT/T/3S46ys1X7P9KamI427/0/dYzxggTU/D+sGi65JBv9P9qQidiDSP4/beBx/uRP/j9aE4KK55r9P0ELUO3oTP4/hRtqwJJe/j/meQiUYbX+P63gSoWX4fw/5lorDw8P/z/x9UiSBtj9P3kjpzravPc/ljRgP636+j8h6UDHKM79P5Ga6Ia1b/4/dsB1xYxY/D8zbVASShv/P0VtPlVVVf0/UwhWaC+h/T+cyVB4fdT+P3dnUOHGZfw/+lE6fMVX/D8/lXUtkfv7P2DSfdiJnfw/GMvgZ91g/j+jgOqoNZD7P+RYiw3lNf4/BCYSem2m/T/Vl8tkPcf8P31RWjZ1gf4/EDjddeBj/j+S7BYjQGkAQGOZpFAb9wFAY5mkUBv3AUAkw30m864BQM1GR29BGf4/LA6pmge5A0BeUTNs4DMCQKhG9NqIdQFA4x1Sn/M5/z9bUT6VtwUBQCwR3fARAgNAqdUiZTU0AED7YTWqlJEAQIUy/MNwtwBA2zcxAxla/T9ERKHNwHQBQLNXEORPQQBA0ram6GRnAECkqH+F1r8AQGjYKuxiEQFAAAAAAAAAAkDvg6rTrOAAQHOKiyxkIQFAbVAI2J+AAUAizdm0sh4AQEMARWx9GwBA5t3zJDINAUD3kAwT70cCQMtvqEohfQFAW1UklvxiAUAKEuVPd+0DQBQVzaqfVAFAhx/3CJAAAUCEVq5XW+QCQA==",
          "dtype": "f8"
         },
         "xaxis": "x",
         "y": {
          "bdata": "AAAAAAC4iUAAAAAAALiIQAAAAAAAiIxAAAAAAACQiUAAAAAAAFiLQAAAAAAAkItAAAAAAADwikAAAAAAADyLQAAAAAAAPItAAAAAAACUi0AAAAAAAMCKQAAAAAAARItAAAAAAADIi0AAAAAAANCKQAAAAAAAoIZAAAAAAADgi0AAAAAAAFCKQAAAAAAAKIpAAAAAAAD4iEAAAAAAAPCHQAAAAAAAAIZAAAAAAAAAiUAAAAAAAHiOQAAAAAAAWItAAAAAAAAwiUAAAAAAAECJQAAAAAAAKIpAAAAAAABYikAAAAAAAKiIQAAAAAAA6IpAAAAAAADQikAAAAAAANiIQAAAAAAAKIpAAAAAAADojEAAAAAAAPCNQAAAAAAASIxAAAAAAABIjEAAAAAAAOSRQAAAAAAAOIpAAAAAAAAgj0AAAAAAACSQQAAAAAAARJBAAAAAAADAi0AAAAAAAMyKQAAAAAAAjItAAAAAAABQi0AAAAAAANyKQAAAAAAAnIpAAAAAAADAjEAAAAAAAEyQQAAAAAAA4ItAAAAAAACAkEAAAAAAANiJQAAAAAAAeIxAAAAAAABgjkAAAAAAAECPQAAAAAAAyI5AAAAAAAAIjEAAAAAAAGiNQAAAAAAAIIxAAAAAAADYiUAAAAAAAEiRQAAAAAAAeI5AAAAAAACQjkAAAAAAADSRQAAAAAAASJBAAAAAAAA4jkAAAAAAAHCPQA==",
          "dtype": "f8"
         },
         "yaxis": "y"
        },
        {
         "hovertemplate": "<b>OLS trendline</b><br>Total feed intake (g) = 321.875 * FCR + 256.086<br>R<sup>2</sup>=0.517673<br><br>FCR=%{x}<br>Total feed intake (g)=%{y} <b>(trend)</b><extra></extra>",
         "legendgroup": "",
         "marker": {
          "color": "#636efa",
          "symbol": "circle"
         },
         "mode": "lines",
         "name": "",
         "showlegend": false,
         "type": "scatter",
         "x": {
          "bdata": "eSOnOtq89z+WNGA/rfr6P/dLjrKzVfs/o4DqqDWQ+z8/lXUtkfv7P/pROnzFV/w/dsB1xYxY/D93Z1DhxmX8P2DSfdiJnfw/1ZfLZD3H/D91jPGCBNT8P63gSoWX4fw/rBouuSQb/T+EQlgb0FP9P0VtPlVVVf0/2zcxAxla/T9aE4KK55r9P1MIVmgvof0/BCYSem2m/T8h6UDHKM79P/H1SJIG2P0/0pqYjjbv/T/NRkdvQRn+P+RYiw3lNf4/2pCJ2INI/j9BC1Dt6Ez+P23gcf7kT/4/hRtqwJJe/j8Yy+Bn3WD+PxA43XXgY/4/kZrohrVv/j99UVo2dYH+P+Z5CJRhtf4/nMlQeH3U/j/mWisPDw//PzNtUBJKG/8/4x1Sn/M5/z9DAEVsfRsAQCLN2bSyHgBAqdUiZTU0AECzVxDkT0EAQNK2puhkZwBAkuwWI0BpAED7YTWqlJEAQIUy/MNwtwBApKh/hda/AEDvg6rTrOAAQIcf9wiQAAFAW1E+lbcFAUDm3fMkMg0BQGjYKuxiEQFAc4qLLGQhAUAUFc2qn1QBQFtVJJb8YgFAREShzcB0AUCoRvTaiHUBQMtvqEohfQFAbVAI2J+AAUAkw30m864BQGOZpFAb9wFAY5mkUBv3AUAAAAAAAAACQF5RM2zgMwJA95AME+9HAkCEVq5XW+QCQCwR3fARAgNALA6pmge5A0AKEuVPd+0DQA==",
          "dtype": "f8"
         },
         "xaxis": "x",
         "y": {
          "bdata": "VnJrvPjshkDIJTiGpvaIQDU5nOLfL4lAaGVe9adUiUCoYRHMJZiJQH0GrOwc0olALDpCNZrSiUAq3efs6tqJQJtAKg35/YlAPqdtXDAYikDTlLbJOCCKQPHfwWTBKIpAUYmGmO9MikCQ/YbVj3CKQBYZloaEcYpAC+aqSoN0ikCywrAfQZ2KQA8rmO0zoYpABCPGon+kikC3FeTxeb2KQDjbidCtw4pAMgHNikHSikAgf6rAr+yKQPwLddyw/opAfS3cj2UKi0ADZIfbKA2LQH7NfjIJD4tACfNbjkMYi0CPiPhctBmLQIx9hRiZG4tApOW1Wgkji0D1ab/LMS6LQAoa9DLWTotAEYc3y2Rii0Bk2+6wNoeLQEByAArnjotAJ/qHwC2ii0BaEX92P0GMQJuAAxVIRYxAGH2ixVNgjEBzPIB1zXCMQKfGRCGvoIxASXNNpQSjjECTEDzrudWMQITxxgZUBY1AmHso9+IPjUBIE4FpLDmNQMkB/jREYY1A1V9OTr9njUD2oXmHJnGNQI8lzVtrdo1A9sYK7oqKjUA82Y9Z9cqNQDhocW0E3Y1A/GERAlvzjUBc58qJVvSNQHhW91Lj/Y1A6PXXEEgCjkCjp3ENhzyOQP451opAl45A/jnWikCXjkBCEH8Sb6KOQLOLqtyo445AfYr5x+D8jkDIfB5jjcGPQFFz5Vfp5o9AacYTuXlmkECY1SCycIeQQA==",
          "dtype": "f8"
         },
         "yaxis": "y"
        }
       ],
       "layout": {
        "legend": {
         "tracegroupgap": 0
        },
        "template": {
         "data": {
          "bar": [
           {
            "error_x": {
             "color": "#2a3f5f"
            },
            "error_y": {
             "color": "#2a3f5f"
            },
            "marker": {
             "line": {
              "color": "white",
              "width": 0.5
             },
             "pattern": {
              "fillmode": "overlay",
              "size": 10,
              "solidity": 0.2
             }
            },
            "type": "bar"
           }
          ],
          "barpolar": [
           {
            "marker": {
             "line": {
              "color": "white",
              "width": 0.5
             },
             "pattern": {
              "fillmode": "overlay",
              "size": 10,
              "solidity": 0.2
             }
            },
            "type": "barpolar"
           }
          ],
          "carpet": [
           {
            "aaxis": {
             "endlinecolor": "#2a3f5f",
             "gridcolor": "#C8D4E3",
             "linecolor": "#C8D4E3",
             "minorgridcolor": "#C8D4E3",
             "startlinecolor": "#2a3f5f"
            },
            "baxis": {
             "endlinecolor": "#2a3f5f",
             "gridcolor": "#C8D4E3",
             "linecolor": "#C8D4E3",
             "minorgridcolor": "#C8D4E3",
             "startlinecolor": "#2a3f5f"
            },
            "type": "carpet"
           }
          ],
          "choropleth": [
           {
            "colorbar": {
             "outlinewidth": 0,
             "ticks": ""
            },
            "type": "choropleth"
           }
          ],
          "contour": [
           {
            "colorbar": {
             "outlinewidth": 0,
             "ticks": ""
            },
            "colorscale": [
             [
              0,
              "#0d0887"
             ],
             [
              0.1111111111111111,
              "#46039f"
             ],
             [
              0.2222222222222222,
              "#7201a8"
             ],
             [
              0.3333333333333333,
              "#9c179e"
             ],
             [
              0.4444444444444444,
              "#bd3786"
             ],
             [
              0.5555555555555556,
              "#d8576b"
             ],
             [
              0.6666666666666666,
              "#ed7953"
             ],
             [
              0.7777777777777778,
              "#fb9f3a"
             ],
             [
              0.8888888888888888,
              "#fdca26"
             ],
             [
              1,
              "#f0f921"
             ]
            ],
            "type": "contour"
           }
          ],
          "contourcarpet": [
           {
            "colorbar": {
             "outlinewidth": 0,
             "ticks": ""
            },
            "type": "contourcarpet"
           }
          ],
          "heatmap": [
           {
            "colorbar": {
             "outlinewidth": 0,
             "ticks": ""
            },
            "colorscale": [
             [
              0,
              "#0d0887"
             ],
             [
              0.1111111111111111,
              "#46039f"
             ],
             [
              0.2222222222222222,
              "#7201a8"
             ],
             [
              0.3333333333333333,
              "#9c179e"
             ],
             [
              0.4444444444444444,
              "#bd3786"
             ],
             [
              0.5555555555555556,
              "#d8576b"
             ],
             [
              0.6666666666666666,
              "#ed7953"
             ],
             [
              0.7777777777777778,
              "#fb9f3a"
             ],
             [
              0.8888888888888888,
              "#fdca26"
             ],
             [
              1,
              "#f0f921"
             ]
            ],
            "type": "heatmap"
           }
          ],
          "histogram": [
           {
            "marker": {
             "pattern": {
              "fillmode": "overlay",
              "size": 10,
              "solidity": 0.2
             }
            },
            "type": "histogram"
           }
          ],
          "histogram2d": [
           {
            "colorbar": {
             "outlinewidth": 0,
             "ticks": ""
            },
            "colorscale": [
             [
              0,
              "#0d0887"
             ],
             [
              0.1111111111111111,
              "#46039f"
             ],
             [
              0.2222222222222222,
              "#7201a8"
             ],
             [
              0.3333333333333333,
              "#9c179e"
             ],
             [
              0.4444444444444444,
              "#bd3786"
             ],
             [
              0.5555555555555556,
              "#d8576b"
             ],
             [
              0.6666666666666666,
              "#ed7953"
             ],
             [
              0.7777777777777778,
              "#fb9f3a"
             ],
             [
              0.8888888888888888,
              "#fdca26"
             ],
             [
              1,
              "#f0f921"
             ]
            ],
            "type": "histogram2d"
           }
          ],
          "histogram2dcontour": [
           {
            "colorbar": {
             "outlinewidth": 0,
             "ticks": ""
            },
            "colorscale": [
             [
              0,
              "#0d0887"
             ],
             [
              0.1111111111111111,
              "#46039f"
             ],
             [
              0.2222222222222222,
              "#7201a8"
             ],
             [
              0.3333333333333333,
              "#9c179e"
             ],
             [
              0.4444444444444444,
              "#bd3786"
             ],
             [
              0.5555555555555556,
              "#d8576b"
             ],
             [
              0.6666666666666666,
              "#ed7953"
             ],
             [
              0.7777777777777778,
              "#fb9f3a"
             ],
             [
              0.8888888888888888,
              "#fdca26"
             ],
             [
              1,
              "#f0f921"
             ]
            ],
            "type": "histogram2dcontour"
           }
          ],
          "mesh3d": [
           {
            "colorbar": {
             "outlinewidth": 0,
             "ticks": ""
            },
            "type": "mesh3d"
           }
          ],
          "parcoords": [
           {
            "line": {
             "colorbar": {
              "outlinewidth": 0,
              "ticks": ""
             }
            },
            "type": "parcoords"
           }
          ],
          "pie": [
           {
            "automargin": true,
            "type": "pie"
           }
          ],
          "scatter": [
           {
            "fillpattern": {
             "fillmode": "overlay",
             "size": 10,
             "solidity": 0.2
            },
            "type": "scatter"
           }
          ],
          "scatter3d": [
           {
            "line": {
             "colorbar": {
              "outlinewidth": 0,
              "ticks": ""
             }
            },
            "marker": {
             "colorbar": {
              "outlinewidth": 0,
              "ticks": ""
             }
            },
            "type": "scatter3d"
           }
          ],
          "scattercarpet": [
           {
            "marker": {
             "colorbar": {
              "outlinewidth": 0,
              "ticks": ""
             }
            },
            "type": "scattercarpet"
           }
          ],
          "scattergeo": [
           {
            "marker": {
             "colorbar": {
              "outlinewidth": 0,
              "ticks": ""
             }
            },
            "type": "scattergeo"
           }
          ],
          "scattergl": [
           {
            "marker": {
             "colorbar": {
              "outlinewidth": 0,
              "ticks": ""
             }
            },
            "type": "scattergl"
           }
          ],
          "scattermap": [
           {
            "marker": {
             "colorbar": {
              "outlinewidth": 0,
              "ticks": ""
             }
            },
            "type": "scattermap"
           }
          ],
          "scattermapbox": [
           {
            "marker": {
             "colorbar": {
              "outlinewidth": 0,
              "ticks": ""
             }
            },
            "type": "scattermapbox"
           }
          ],
          "scatterpolar": [
           {
            "marker": {
             "colorbar": {
              "outlinewidth": 0,
              "ticks": ""
             }
            },
            "type": "scatterpolar"
           }
          ],
          "scatterpolargl": [
           {
            "marker": {
             "colorbar": {
              "outlinewidth": 0,
              "ticks": ""
             }
            },
            "type": "scatterpolargl"
           }
          ],
          "scatterternary": [
           {
            "marker": {
             "colorbar": {
              "outlinewidth": 0,
              "ticks": ""
             }
            },
            "type": "scatterternary"
           }
          ],
          "surface": [
           {
            "colorbar": {
             "outlinewidth": 0,
             "ticks": ""
            },
            "colorscale": [
             [
              0,
              "#0d0887"
             ],
             [
              0.1111111111111111,
              "#46039f"
             ],
             [
              0.2222222222222222,
              "#7201a8"
             ],
             [
              0.3333333333333333,
              "#9c179e"
             ],
             [
              0.4444444444444444,
              "#bd3786"
             ],
             [
              0.5555555555555556,
              "#d8576b"
             ],
             [
              0.6666666666666666,
              "#ed7953"
             ],
             [
              0.7777777777777778,
              "#fb9f3a"
             ],
             [
              0.8888888888888888,
              "#fdca26"
             ],
             [
              1,
              "#f0f921"
             ]
            ],
            "type": "surface"
           }
          ],
          "table": [
           {
            "cells": {
             "fill": {
              "color": "#EBF0F8"
             },
             "line": {
              "color": "white"
             }
            },
            "header": {
             "fill": {
              "color": "#C8D4E3"
             },
             "line": {
              "color": "white"
             }
            },
            "type": "table"
           }
          ]
         },
         "layout": {
          "annotationdefaults": {
           "arrowcolor": "#2a3f5f",
           "arrowhead": 0,
           "arrowwidth": 1
          },
          "autotypenumbers": "strict",
          "coloraxis": {
           "colorbar": {
            "outlinewidth": 0,
            "ticks": ""
           }
          },
          "colorscale": {
           "diverging": [
            [
             0,
             "#8e0152"
            ],
            [
             0.1,
             "#c51b7d"
            ],
            [
             0.2,
             "#de77ae"
            ],
            [
             0.3,
             "#f1b6da"
            ],
            [
             0.4,
             "#fde0ef"
            ],
            [
             0.5,
             "#f7f7f7"
            ],
            [
             0.6,
             "#e6f5d0"
            ],
            [
             0.7,
             "#b8e186"
            ],
            [
             0.8,
             "#7fbc41"
            ],
            [
             0.9,
             "#4d9221"
            ],
            [
             1,
             "#276419"
            ]
           ],
           "sequential": [
            [
             0,
             "#0d0887"
            ],
            [
             0.1111111111111111,
             "#46039f"
            ],
            [
             0.2222222222222222,
             "#7201a8"
            ],
            [
             0.3333333333333333,
             "#9c179e"
            ],
            [
             0.4444444444444444,
             "#bd3786"
            ],
            [
             0.5555555555555556,
             "#d8576b"
            ],
            [
             0.6666666666666666,
             "#ed7953"
            ],
            [
             0.7777777777777778,
             "#fb9f3a"
            ],
            [
             0.8888888888888888,
             "#fdca26"
            ],
            [
             1,
             "#f0f921"
            ]
           ],
           "sequentialminus": [
            [
             0,
             "#0d0887"
            ],
            [
             0.1111111111111111,
             "#46039f"
            ],
            [
             0.2222222222222222,
             "#7201a8"
            ],
            [
             0.3333333333333333,
             "#9c179e"
            ],
            [
             0.4444444444444444,
             "#bd3786"
            ],
            [
             0.5555555555555556,
             "#d8576b"
            ],
            [
             0.6666666666666666,
             "#ed7953"
            ],
            [
             0.7777777777777778,
             "#fb9f3a"
            ],
            [
             0.8888888888888888,
             "#fdca26"
            ],
            [
             1,
             "#f0f921"
            ]
           ]
          },
          "colorway": [
           "#636efa",
           "#EF553B",
           "#00cc96",
           "#ab63fa",
           "#FFA15A",
           "#19d3f3",
           "#FF6692",
           "#B6E880",
           "#FF97FF",
           "#FECB52"
          ],
          "font": {
           "color": "#2a3f5f"
          },
          "geo": {
           "bgcolor": "white",
           "lakecolor": "white",
           "landcolor": "white",
           "showlakes": true,
           "showland": true,
           "subunitcolor": "#C8D4E3"
          },
          "hoverlabel": {
           "align": "left"
          },
          "hovermode": "closest",
          "mapbox": {
           "style": "light"
          },
          "paper_bgcolor": "white",
          "plot_bgcolor": "white",
          "polar": {
           "angularaxis": {
            "gridcolor": "#EBF0F8",
            "linecolor": "#EBF0F8",
            "ticks": ""
           },
           "bgcolor": "white",
           "radialaxis": {
            "gridcolor": "#EBF0F8",
            "linecolor": "#EBF0F8",
            "ticks": ""
           }
          },
          "scene": {
           "xaxis": {
            "backgroundcolor": "white",
            "gridcolor": "#DFE8F3",
            "gridwidth": 2,
            "linecolor": "#EBF0F8",
            "showbackground": true,
            "ticks": "",
            "zerolinecolor": "#EBF0F8"
           },
           "yaxis": {
            "backgroundcolor": "white",
            "gridcolor": "#DFE8F3",
            "gridwidth": 2,
            "linecolor": "#EBF0F8",
            "showbackground": true,
            "ticks": "",
            "zerolinecolor": "#EBF0F8"
           },
           "zaxis": {
            "backgroundcolor": "white",
            "gridcolor": "#DFE8F3",
            "gridwidth": 2,
            "linecolor": "#EBF0F8",
            "showbackground": true,
            "ticks": "",
            "zerolinecolor": "#EBF0F8"
           }
          },
          "shapedefaults": {
           "line": {
            "color": "#2a3f5f"
           }
          },
          "ternary": {
           "aaxis": {
            "gridcolor": "#DFE8F3",
            "linecolor": "#A2B1C6",
            "ticks": ""
           },
           "baxis": {
            "gridcolor": "#DFE8F3",
            "linecolor": "#A2B1C6",
            "ticks": ""
           },
           "bgcolor": "white",
           "caxis": {
            "gridcolor": "#DFE8F3",
            "linecolor": "#A2B1C6",
            "ticks": ""
           }
          },
          "title": {
           "x": 0.05
          },
          "xaxis": {
           "automargin": true,
           "gridcolor": "#EBF0F8",
           "linecolor": "#EBF0F8",
           "ticks": "",
           "title": {
            "standoff": 15
           },
           "zerolinecolor": "#EBF0F8",
           "zerolinewidth": 2
          },
          "yaxis": {
           "automargin": true,
           "gridcolor": "#EBF0F8",
           "linecolor": "#EBF0F8",
           "ticks": "",
           "title": {
            "standoff": 15
           },
           "zerolinecolor": "#EBF0F8",
           "zerolinewidth": 2
          }
         }
        },
        "title": {
         "text": "Total feed intake vs FCR"
        },
        "xaxis": {
         "anchor": "y",
         "domain": [
          0,
          1
         ],
         "title": {
          "text": "FCR"
         }
        },
        "yaxis": {
         "anchor": "x",
         "domain": [
          0,
          1
         ],
         "title": {
          "text": "Total feed intake (g)"
         }
        }
       }
      }
     },
     "metadata": {},
     "output_type": "display_data"
    }
   ],
   "source": [
    "fig = px.scatter(df, x='FCR',\n",
    "             y='Total feed intake (g)', trendline='ols',\n",
    "             title='Total feed intake vs FCR')\n",
    "fig.show()"
   ]
  },
  {
   "cell_type": "markdown",
   "metadata": {},
   "source": [
    "---\n",
    "\n",
    "# 5.3 Multivariate Analysis  \n",
    "- Involves analyzing three or more variables to uncover complex relationships.  \n",
    "- A correlation matrix is created to identify relationships among multiple variables.  \n",
    "\n",
    "### 5.3.1 Correlation Matrix  \n",
    "To understand the relationships between numerical features, a correlation matrix is created. This matrix helps identify how strongly pairs of features are related to each other.  \n",
    "\n",
    "**Steps:**  \n",
    "\n",
    "- **Select Numerical Features:** Only numerical features are selected for the correlation matrix.  \n",
    "\n",
    "    `numerical_features = df.select_dtypes(include=['float64', 'int64'])`  \n",
    "\n",
    "- **Calculate the Correlation Matrix:** The correlation matrix is computed to assess the relationships between features.  \n",
    "\n",
    "    `corr_matrix = numerical_features.corr()`  \n",
    "\n",
    "- **Create the Heatmap:** A heatmap is generated to visualize the correlation matrix, with annotations for clarity.  \n",
    "    - `import matplotlib.pyplot as plt`\n",
    "    - `import seaborn as sns`\n",
    "    - `plt.figure(figsize=(12, 8))`\n",
    "    - `sns.heatmap(corr_matrix, annot=True, cmap='coolwarm', linewidths=0.5)`\n",
    "    - `plt.title('Correlation Matrix')`\n",
    "    - `plt.show()`\n",
    "    \n"
   ]
  },
  {
   "cell_type": "code",
   "execution_count": 177,
   "metadata": {},
   "outputs": [
    {
     "data": {
      "image/png": "[encoded data removed]",
      "text/plain": [
       "<Figure size 1200x800 with 2 Axes>"
      ]
     },
     "metadata": {},
     "output_type": "display_data"
    }
   ],
   "source": [
    "# Select only the numerical features for the correlation matrix\n",
    "numerical_features = df.select_dtypes(include=['float64', 'int64'])\n",
    "# Calculate the correlation matrix\n",
    "corr_matrix = numerical_features.corr()\n",
    "# Create the heatmap\n",
    "import seaborn as sns\n",
    "import matplotlib.pyplot as plt\n",
    "plt.figure(figsize=(12, 8))\n",
    "sns.heatmap(corr_matrix, annot=True, cmap='coolwarm', linewidths=0.5)\n",
    "plt.title('Correlation Matrix')\n",
    "plt.show()"
   ]
  },
  {
   "cell_type": "markdown",
   "metadata": {},
   "source": [
    "### 5.3.2 Identify Highly Correlated Features  \n",
    "To avoid multicollinearity, highly correlated features (correlation > 0.9) should be identified and considered for removal.  \n",
    "\n",
    "**Steps:**  \n",
    "\n",
    "- **Extract the Upper Triangle:** The upper triangle of the correlation matrix is selected to focus on unique feature pairs.  \n",
    "\n",
    "    ```python\n",
    "    upper_triangle = corr_matrix.where(np.triu(np.ones(corr_matrix.shape), k=1).astype(bool))\n",
    "    ```\n",
    "\n",
    "- **Identify Highly Correlated Features:** Any feature with a correlation greater than 0.9 is flagged.  \n",
    "\n",
    "    ```python\n",
    "    high_corr_features = [column for column in upper_triangle.columns if any(upper_triangle[column] > 0.9)]\n",
    "    ```\n",
    "\n",
    "This helps ensure only one feature from highly correlated pairs is retained to improve model performance and avoid redundancy.\n"
   ]
  },
  {
   "cell_type": "code",
   "execution_count": 178,
   "metadata": {},
   "outputs": [
    {
     "name": "stdout",
     "output_type": "stream",
     "text": [
      "Highly correlated features (correlation > 0.9): ['ADI (g)', 'CP%']\n"
     ]
    }
   ],
   "source": [
    "# Select the upper triangle of the correlation matrix\n",
    "upper_triangle = corr_matrix.where(np.triu(np.ones(corr_matrix.shape), k=1).astype(bool))\n",
    "# Find index of feature columns with correlation greater than 0.9\n",
    "high_corr_features = [column for column in upper_triangle.columns if any(upper_triangle[column] > 0.9)]\n",
    "print(f\"Highly correlated features (correlation > 0.9): {high_corr_features}\")"
   ]
  },
  {
   "cell_type": "markdown",
   "metadata": {},
   "source": [
    "### 5.3.3 Drop Highly Correlated Features  \n",
    "Features that are highly correlated with others are dropped to reduce redundancy in the dataset and improve model performance.\n",
    "\n",
    "**Steps:**  \n",
    "\n",
    "- **Identify Features to Drop:** Based on the previous correlation analysis, the most redundant features are selected for removal.  \n",
    "\n",
    "    `high_corr_features_to_remove = ['Ash%','GE  (kcal/kg)','ADI (g)','CP%','Total feed intake (g)']`\n",
    "\n",
    "- **Drop the Features:** These highly correlated features are dropped from the dataset.  \n",
    "\n",
    "    `numerical_features = numerical_features.drop(columns=high_corr_features_to_remove)`\n",
    "    \n",
    "\n",
    "- **Recalculate the Correlation Matrix:** After dropping the selected features, the correlation matrix is recalculated to ensure redundancy is reduced.  \n",
    "\n",
    "    `corr_matrix_reduced = numerical_features.corr()`\n",
    "    \n",
    "\n",
    "- **Visualize the Updated Correlation Matrix:** A new heatmap is generated to visualize the cleaned-up correlations.  \n",
    "\n",
    "    - `plt.figure(figsize=(12, 8))`\n",
    "    - `sns.heatmap(corr_matrix_reduced, annot=True, cmap='coolwarm', linewidths=0.5)`\n",
    "    - `plt.title('Updated Correlation Matrix')`\n",
    "    - `plt.show()`\n",
    "This final step ensures the remaining features are less correlated, improving model stability and interpretability.\n"
   ]
  },
  {
   "cell_type": "code",
   "execution_count": 179,
   "metadata": {},
   "outputs": [
    {
     "data": {
      "image/png": "[encoded data removed]",
      "text/plain": [
       "<Figure size 1200x800 with 2 Axes>"
      ]
     },
     "metadata": {},
     "output_type": "display_data"
    }
   ],
   "source": [
    "# Select only the numerical features\n",
    "numerical_features = df.select_dtypes(include=['float64', 'int64'])\n",
    "# Drop the highly correlated features\n",
    "high_corr_features = ['Ash%','GE  (kcal/kg)','ADI (g)','CP%','Total feed intake (g)']\n",
    "numerical_features = numerical_features.drop(columns=high_corr_features)\n",
    "# Recalculate the correlation matrix\n",
    "corr_matrix_reduced = numerical_features.corr()\n",
    "# Create the heatmap\n",
    "plt.figure(figsize=(12, 8))\n",
    "sns.heatmap(corr_matrix_reduced, annot=True, cmap='coolwarm', linewidths=0.5)\n",
    "plt.title('Updated Correlation Matrix')\n",
    "plt.show()\n"
   ]
  },
  {
   "cell_type": "markdown",
   "metadata": {},
   "source": [
    "---\n",
    "\n",
    "# 6. Feature Engineering  \n",
    "- Feature engineering involves creating new features or modifying existing ones to improve model performance. The following steps are taken  \n",
    "\n",
    "- Handling Infinite Values: Replace infinite values with NaN.  \n",
    "`df.replace([np.inf, -np.inf], np.nan, inplace=True)`\n",
    "\n",
    "- Cleaning Data: Remove rows with zero values that may cause issues.  \n",
    "`df = df[(df['Time spent for feeding /h'] != 0) & (df['Total egg wt (g)'] != 0) & (df['Time spent for feeding /h'] != 0)]`\n",
    "\n",
    "- Creating New Features: Derived features are computed to capture additional insights:  \n",
    "\n",
    "  - Drinking/Feeding Ratio: Ratio of drinking to feeding time.  \n",
    "  - Preening/Feeding Ratio: Ratio of preening to feeding time.  \n",
    "  - Feed Efficiency Score: Total feed intake divided by total egg weight.  \n",
    "  - Feeding Intensity: Time spent feeding divided by the number of rest hours.  \n",
    "  - Activity Ratio: Sum of various activities divided by feeding time.  \n",
    "  - Combined Feed Intake: Sum of average daily intake and total feed intake.  \n",
    "\n",
    "- `df['Drinking/Feeding Ratio'] = df['No.  of drinking/h'] / df['Time spent for feeding /h']`\n",
    "- `df['Preening/Feeding Ratio'] = df['No.  of preening/h'] / df['Time spent for feeding /h']`\n",
    "- `df['Feed Efficiency Score'] = df['Total feed intake (g)'] / df['Total egg wt (g)']`\n",
    "- `df['Feeding Intensity'] = df['Time spent for feeding /h'] / df[\"No.  of Rest/h\"]`\n",
    "- `df['Activity Ratio'] = (df['No.  of feeder pecking/h'] + df['No.  of drinking/h'] + df['No.  of preening/h'] + df['No.  of Walking/h']) / df['Time spent for feeding /h']`\n",
    "- `df['Combined_Feed_Intake'] = df['ADI (g)'] + df['Total feed intake (g)']`\n"
   ]
  },
  {
   "cell_type": "code",
   "execution_count": 180,
   "metadata": {},
   "outputs": [
    {
     "name": "stdout",
     "output_type": "stream",
     "text": [
      "       Drinking/Feeding Ratio  Preening/Feeding Ratio  Feed Efficiency Score  \\\n",
      "count               67.000000               67.000000              67.000000   \n",
      "mean                 0.219853                0.869883               2.023451   \n",
      "std                  0.282402                0.747816               0.304253   \n",
      "min                  0.018519                0.185185               1.483607   \n",
      "25%                  0.033333                0.400000               1.842806   \n",
      "50%                  0.111111                0.633333               1.951648   \n",
      "75%                  0.267857                1.027778               2.169827   \n",
      "max                  1.000000                3.500000               3.838565   \n",
      "\n",
      "       Feeding Intensity  Combined_Feed_Intake  Activity Ratio  \n",
      "count          67.000000             67.000000       67.000000  \n",
      "mean           18.679104           1026.341151        2.686442  \n",
      "std            16.237513            103.291723        2.763660  \n",
      "min             0.500000            804.571429        0.629630  \n",
      "25%             4.500000            957.714286        1.211111  \n",
      "50%            18.000000           1007.428571        1.733333  \n",
      "75%            30.000000           1100.000000        2.738095  \n",
      "max            54.000000           1308.571429       15.333333  \n"
     ]
    }
   ],
   "source": [
    "# Replace inf values with NaN\n",
    "df.replace([np.inf, -np.inf], np.nan, inplace=True)\n",
    "# Check for rows where zero values may cause issues and handle them\n",
    "df = df[(df['Time spent for feeding /h'] != 0) & (df['Total egg wt (g)'] != 0) & (df['Time spent for feeding /h'] != 0)]\n",
    "# Recompute the derived features after cleaning data\n",
    "df['Drinking/Feeding Ratio'] = df['No.  of drinking/h'] / df['Time spent for feeding /h']\n",
    "df['Preening/Feeding Ratio'] = df['No. of preening/h'] / df['Time spent for feeding /h']\n",
    "df['Feed Efficiency Score'] = df['Total feed intake (g)'] / df['Total egg wt (g)']\n",
    "df['Feeding Intensity'] = df['Time spent for feeding /h'] / df[\"No.  of Rest/h\"]\n",
    "df['Activity Ratio'] = (df['No.  of feeder pecking/h'] + df['No.  of drinking/h'] + df['No. of preening/h'] + df['No.  of Walking/h']) / df['Time spent for feeding /h']\n",
    "df['Combined_Feed_Intake'] = df['ADI (g)'] + df['Total feed intake (g)']\n",
    "# Check the new statistics\n",
    "print(df[['Drinking/Feeding Ratio', 'Preening/Feeding Ratio', 'Feed Efficiency Score', \n",
    "          'Feeding Intensity','Combined_Feed_Intake','Activity Ratio']].describe())\n"
   ]
  },
  {
   "cell_type": "markdown",
   "metadata": {},
   "source": [
    "---\n",
    "\n",
    "# 7. Outlier Removal\n",
    "- A function is defined to remove outliers based on the interquartile range (IQR).\n",
    "\n",
    "       `def remove_outliers(df, columns, factor=1.5)`\n",
    "### Implementation\n",
    "`df_cleaned = remove_outliers(df, continuous_columns)`"
   ]
  },
  {
   "cell_type": "code",
   "execution_count": 181,
   "metadata": {},
   "outputs": [],
   "source": [
    "continuous_columns = [ 'Drinking/Feeding Ratio', 'Preening/Feeding Ratio', 'Feed Efficiency Score', 'Feeding Intensity', 'Activity Ratio']\n",
    "def remove_outliers(df, columns, factor=1.5):\n",
    "    df_cleaned = df.copy()\n",
    "    for column in columns:\n",
    "        Q1 = df[column].quantile(0.25)\n",
    "        Q3 = df[column].quantile(0.75)\n",
    "        IQR = Q3 - Q1\n",
    "        lower_bound = Q1 - factor * IQR\n",
    "        upper_bound = Q3 + factor * IQR\n",
    "        # Filter the dataset to include only rows within the IQR range\n",
    "        df_cleaned = df_cleaned[(df_cleaned[column] >= lower_bound) & (df_cleaned[column] <= upper_bound)]\n",
    "    return df_cleaned\n",
    "    # Remove outliers\n",
    "df_cleaned = remove_outliers(df, continuous_columns)\n"
   ]
  },
  {
   "cell_type": "markdown",
   "metadata": {},
   "source": [
    "### 7.1 Save the updated dataset after feature engineering"
   ]
  },
  {
   "cell_type": "code",
   "execution_count": 182,
   "metadata": {},
   "outputs": [
    {
     "name": "stdout",
     "output_type": "stream",
     "text": [
      "Dataset saved to Desktop as 'Updated_dataset.csv'\n"
     ]
    }
   ],
   "source": [
    "desktop_path = r\"C:\\PROJECT4.2\\Updated_dataset.csv\"\n",
    "df.to_csv(desktop_path, index=False)\n",
    "print(f\"Dataset saved to Desktop as 'Updated_dataset.csv'\")\n"
   ]
  },
  {
   "cell_type": "markdown",
   "metadata": {},
   "source": [
    "# 8. Calculate the correlation matrix of Target variable (FCR) with with engineered features"
   ]
  },
  {
   "cell_type": "code",
   "execution_count": 183,
   "metadata": {},
   "outputs": [
    {
     "name": "stdout",
     "output_type": "stream",
     "text": [
      "Top features correlated with FCR:\n",
      "FCR                          1.000000\n",
      "Total feed intake (g)        0.725955\n",
      "ADI (g)                      0.721912\n",
      "Feed Efficiency Score        0.626399\n",
      "No.  of Walking/h            0.332554\n",
      "Time spent for feeding /h    0.307114\n",
      "Feeding Intensity            0.298183\n",
      "N%                           0.160797\n",
      "CP%                          0.160365\n",
      "No  of Head flicks/h         0.160320\n",
      "GE  (kcal/kg)                0.066921\n",
      "No.  of feeding- bout/h      0.043505\n",
      "Ash%                        -0.020002\n",
      "No. of cage pecking         -0.037417\n",
      "No.  of feeder pecking/h    -0.061153\n",
      "No.  of Still/h             -0.088828\n",
      "DM%                         -0.233439\n",
      "No.  of Rest/h              -0.234685\n",
      "Activity Ratio              -0.238541\n",
      "Total egg wt (g)            -0.253501\n",
      "No.  of drinking/h          -0.317935\n",
      "Drinking/Feeding Ratio      -0.328842\n",
      "Preening/Feeding Ratio      -0.355169\n",
      "No. of preening/h           -0.427503\n",
      "Name: FCR, dtype: float64\n"
     ]
    }
   ],
   "source": [
    "# Load the dataset\n",
    "df = pd.read_csv(\"C:/Users/Silas Ochieng/Desktop/datasets/Updated_dataset.csv\")\n",
    "\n",
    "# Select only numerical columns\n",
    "numerical_df = df.select_dtypes(include=['float64', 'int64'])\n",
    "\n",
    "# Calculate correlations with FCR\n",
    "corr_matrix = numerical_df.corr()\n",
    "fcr_corr = corr_matrix[\"FCR\"].sort_values(ascending=False)\n",
    "\n",
    "# Display the top correlated features with FCR\n",
    "print(\"Top features correlated with FCR:\")\n",
    "print(fcr_corr)\n"
   ]
  },
  {
   "cell_type": "markdown",
   "metadata": {},
   "source": [
    "---\n",
    "\n",
    "# 9. Feature Selection  \n",
    "\n",
    "Feature selection is a crucial step in the machine learning pipeline, particularly in predictive modeling. It involves selecting a subset of relevant features (variables, predictors) for use in model construction. The goal is to improve model performance, reduce overfitting, and enhance interpretability.  \n",
    "\n",
    "In the context of the predictive model for **Feed Conversion Ratio (FCR)** using a **Random Forest Regressor**, the following features are selected :  \n",
    "\n",
    "- **Feeding Intensity:** Represents the ratio of time spent feeding to the number of rest per hour.  \n",
    "- **Total Feed Intake (g):** The total amount of feed consumed by the birds.  \n",
    "- **No. of Feeding Bouts/h:** The frequency of feeding events per hour.  \n",
    "- **No. of Head Flicks/h:** Indicates the number of head movements per hour, which may relate to feeding behavior.  \n",
    "- **No. of Drinking Events/h:** The frequency of drinking events per hour.  \n",
    "- **No. of Preening Events/h:** The frequency of preening behavior per hour.  \n",
    "- **No. of Feeder Pecking Events/h:** The frequency of pecking at the feeder per hour.    \n",
    "- **No. of Walking Events/h:** The frequency of walking behavior per hour.  \n",
    "- **GE (kcal/kg):** Gross energy content of the feed.  \n",
    "- **N%:** Nitrogen percentage in the feed.  \n",
    "\n",
    "### Implementation  \n",
    "\n",
    "The selected features are used to create the feature matrix (`X`) and the target variable (`y`) for the model:  \n",
    "\n",
    "```python\n",
    "X = df[selected_features]\n",
    "y = df['FCR']\n"
   ]
  },
  {
   "cell_type": "code",
   "execution_count": 184,
   "metadata": {},
   "outputs": [],
   "source": [
    "selected_features = ['Feeding Intensity', 'Total feed intake (g)','No.  of feeding- bout/h','No  of Head flicks/h','No.  of drinking/h','No. of preening/h',\n",
    "                     'No.  of feeder pecking/h','No.  of Walking/h','GE  (kcal/kg)','N%']\n",
    "X = df[selected_features]\n",
    "y = df['FCR'] "
   ]
  },
  {
   "cell_type": "markdown",
   "metadata": {},
   "source": [
    "---\n",
    "\n",
    "# 10. Train-Test Split  \n",
    "\n",
    "The dataset is split into **training** and **testing** sets to evaluate the model's performance. This ensures the model learns from one portion of the data (training set) and is evaluated on unseen data (testing set) to assess its generalization ability.  \n",
    "\n",
    "The split is typically done using an 80/20 ratio — 80% for training and 20% for testing — with a fixed random state for reproducibility:  \n",
    "\n",
    "`X_train, X_test, y_train, y_test = train_test_split(X, y, test_size=0.2, random_state=42)`\n"
   ]
  },
  {
   "cell_type": "code",
   "execution_count": 185,
   "metadata": {},
   "outputs": [],
   "source": [
    "X_train, X_test, y_train, y_test = train_test_split(X, y, test_size=0.2, random_state=42)"
   ]
  },
  {
   "cell_type": "markdown",
   "metadata": {},
   "source": [
    "---\n",
    "\n",
    "# 11. Model Training  \n",
    "\n",
    "The next step is to train a **Random Forest Regressor** using the selected features. Random Forest is an ensemble learning method that combines multiple decision trees to improve accuracy and prevent overfitting.  \n",
    "\n",
    "The model is initialized with 100 decision trees (`n_estimators=100`) and a fixed random state (`random_state=40`) for reproducibility. Then, it's trained on the training data (`X_train` and `y_train`):  \n",
    "\n",
    " - `rf_selected = RandomForestRegressor(n_estimators=100, random_state=40)`\n",
    " - `rf_selected.fit(X_train, y_train)`\n"
   ]
  },
  {
   "cell_type": "code",
   "execution_count": 186,
   "metadata": {},
   "outputs": [
    {
     "data": {
      "text/html": [
       "<style>#sk-container-id-6 {\n",
       "  /* Definition of color scheme common for light and dark mode */\n",
       "  --sklearn-color-text: #000;\n",
       "  --sklearn-color-text-muted: #666;\n",
       "  --sklearn-color-line: gray;\n",
       "  /* Definition of color scheme for unfitted estimators */\n",
       "  --sklearn-color-unfitted-level-0: #fff5e6;\n",
       "  --sklearn-color-unfitted-level-1: #f6e4d2;\n",
       "  --sklearn-color-unfitted-level-2: #ffe0b3;\n",
       "  --sklearn-color-unfitted-level-3: chocolate;\n",
       "  /* Definition of color scheme for fitted estimators */\n",
       "  --sklearn-color-fitted-level-0: #f0f8ff;\n",
       "  --sklearn-color-fitted-level-1: #d4ebff;\n",
       "  --sklearn-color-fitted-level-2: #b3dbfd;\n",
       "  --sklearn-color-fitted-level-3: cornflowerblue;\n",
       "\n",
       "  /* Specific color for light theme */\n",
       "  --sklearn-color-text-on-default-background: var(--sg-text-color, var(--theme-code-foreground, var(--jp-content-font-color1, black)));\n",
       "  --sklearn-color-background: var(--sg-background-color, var(--theme-background, var(--jp-layout-color0, white)));\n",
       "  --sklearn-color-border-box: var(--sg-text-color, var(--theme-code-foreground, var(--jp-content-font-color1, black)));\n",
       "  --sklearn-color-icon: #696969;\n",
       "\n",
       "  @media (prefers-color-scheme: dark) {\n",
       "    /* Redefinition of color scheme for dark theme */\n",
       "    --sklearn-color-text-on-default-background: var(--sg-text-color, var(--theme-code-foreground, var(--jp-content-font-color1, white)));\n",
       "    --sklearn-color-background: var(--sg-background-color, var(--theme-background, var(--jp-layout-color0, #111)));\n",
       "    --sklearn-color-border-box: var(--sg-text-color, var(--theme-code-foreground, var(--jp-content-font-color1, white)));\n",
       "    --sklearn-color-icon: #878787;\n",
       "  }\n",
       "}\n",
       "\n",
       "#sk-container-id-6 {\n",
       "  color: var(--sklearn-color-text);\n",
       "}\n",
       "\n",
       "#sk-container-id-6 pre {\n",
       "  padding: 0;\n",
       "}\n",
       "\n",
       "#sk-container-id-6 input.sk-hidden--visually {\n",
       "  border: 0;\n",
       "  clip: rect(1px 1px 1px 1px);\n",
       "  clip: rect(1px, 1px, 1px, 1px);\n",
       "  height: 1px;\n",
       "  margin: -1px;\n",
       "  overflow: hidden;\n",
       "  padding: 0;\n",
       "  position: absolute;\n",
       "  width: 1px;\n",
       "}\n",
       "\n",
       "#sk-container-id-6 div.sk-dashed-wrapped {\n",
       "  border: 1px dashed var(--sklearn-color-line);\n",
       "  margin: 0 0.4em 0.5em 0.4em;\n",
       "  box-sizing: border-box;\n",
       "  padding-bottom: 0.4em;\n",
       "  background-color: var(--sklearn-color-background);\n",
       "}\n",
       "\n",
       "#sk-container-id-6 div.sk-container {\n",
       "  /* jupyter's `normalize.less` sets `[hidden] { display: none; }`\n",
       "     but bootstrap.min.css set `[hidden] { display: none !important; }`\n",
       "     so we also need the `!important` here to be able to override the\n",
       "     default hidden behavior on the sphinx rendered scikit-learn.org.\n",
       "     See: https://github.com/scikit-learn/scikit-learn/issues/21755 */\n",
       "  display: inline-block !important;\n",
       "  position: relative;\n",
       "}\n",
       "\n",
       "#sk-container-id-6 div.sk-text-repr-fallback {\n",
       "  display: none;\n",
       "}\n",
       "\n",
       "div.sk-parallel-item,\n",
       "div.sk-serial,\n",
       "div.sk-item {\n",
       "  /* draw centered vertical line to link estimators */\n",
       "  background-image: linear-gradient(var(--sklearn-color-text-on-default-background), var(--sklearn-color-text-on-default-background));\n",
       "  background-size: 2px 100%;\n",
       "  background-repeat: no-repeat;\n",
       "  background-position: center center;\n",
       "}\n",
       "\n",
       "/* Parallel-specific style estimator block */\n",
       "\n",
       "#sk-container-id-6 div.sk-parallel-item::after {\n",
       "  content: \"\";\n",
       "  width: 100%;\n",
       "  border-bottom: 2px solid var(--sklearn-color-text-on-default-background);\n",
       "  flex-grow: 1;\n",
       "}\n",
       "\n",
       "#sk-container-id-6 div.sk-parallel {\n",
       "  display: flex;\n",
       "  align-items: stretch;\n",
       "  justify-content: center;\n",
       "  background-color: var(--sklearn-color-background);\n",
       "  position: relative;\n",
       "}\n",
       "\n",
       "#sk-container-id-6 div.sk-parallel-item {\n",
       "  display: flex;\n",
       "  flex-direction: column;\n",
       "}\n",
       "\n",
       "#sk-container-id-6 div.sk-parallel-item:first-child::after {\n",
       "  align-self: flex-end;\n",
       "  width: 50%;\n",
       "}\n",
       "\n",
       "#sk-container-id-6 div.sk-parallel-item:last-child::after {\n",
       "  align-self: flex-start;\n",
       "  width: 50%;\n",
       "}\n",
       "\n",
       "#sk-container-id-6 div.sk-parallel-item:only-child::after {\n",
       "  width: 0;\n",
       "}\n",
       "\n",
       "/* Serial-specific style estimator block */\n",
       "\n",
       "#sk-container-id-6 div.sk-serial {\n",
       "  display: flex;\n",
       "  flex-direction: column;\n",
       "  align-items: center;\n",
       "  background-color: var(--sklearn-color-background);\n",
       "  padding-right: 1em;\n",
       "  padding-left: 1em;\n",
       "}\n",
       "\n",
       "\n",
       "/* Toggleable style: style used for estimator/Pipeline/ColumnTransformer box that is\n",
       "clickable and can be expanded/collapsed.\n",
       "- Pipeline and ColumnTransformer use this feature and define the default style\n",
       "- Estimators will overwrite some part of the style using the `sk-estimator` class\n",
       "*/\n",
       "\n",
       "/* Pipeline and ColumnTransformer style (default) */\n",
       "\n",
       "#sk-container-id-6 div.sk-toggleable {\n",
       "  /* Default theme specific background. It is overwritten whether we have a\n",
       "  specific estimator or a Pipeline/ColumnTransformer */\n",
       "  background-color: var(--sklearn-color-background);\n",
       "}\n",
       "\n",
       "/* Toggleable label */\n",
       "#sk-container-id-6 label.sk-toggleable__label {\n",
       "  cursor: pointer;\n",
       "  display: flex;\n",
       "  width: 100%;\n",
       "  margin-bottom: 0;\n",
       "  padding: 0.5em;\n",
       "  box-sizing: border-box;\n",
       "  text-align: center;\n",
       "  align-items: start;\n",
       "  justify-content: space-between;\n",
       "  gap: 0.5em;\n",
       "}\n",
       "\n",
       "#sk-container-id-6 label.sk-toggleable__label .caption {\n",
       "  font-size: 0.6rem;\n",
       "  font-weight: lighter;\n",
       "  color: var(--sklearn-color-text-muted);\n",
       "}\n",
       "\n",
       "#sk-container-id-6 label.sk-toggleable__label-arrow:before {\n",
       "  /* Arrow on the left of the label */\n",
       "  content: \"▸\";\n",
       "  float: left;\n",
       "  margin-right: 0.25em;\n",
       "  color: var(--sklearn-color-icon);\n",
       "}\n",
       "\n",
       "#sk-container-id-6 label.sk-toggleable__label-arrow:hover:before {\n",
       "  color: var(--sklearn-color-text);\n",
       "}\n",
       "\n",
       "/* Toggleable content - dropdown */\n",
       "\n",
       "#sk-container-id-6 div.sk-toggleable__content {\n",
       "  max-height: 0;\n",
       "  max-width: 0;\n",
       "  overflow: hidden;\n",
       "  text-align: left;\n",
       "  /* unfitted */\n",
       "  background-color: var(--sklearn-color-unfitted-level-0);\n",
       "}\n",
       "\n",
       "#sk-container-id-6 div.sk-toggleable__content.fitted {\n",
       "  /* fitted */\n",
       "  background-color: var(--sklearn-color-fitted-level-0);\n",
       "}\n",
       "\n",
       "#sk-container-id-6 div.sk-toggleable__content pre {\n",
       "  margin: 0.2em;\n",
       "  border-radius: 0.25em;\n",
       "  color: var(--sklearn-color-text);\n",
       "  /* unfitted */\n",
       "  background-color: var(--sklearn-color-unfitted-level-0);\n",
       "}\n",
       "\n",
       "#sk-container-id-6 div.sk-toggleable__content.fitted pre {\n",
       "  /* unfitted */\n",
       "  background-color: var(--sklearn-color-fitted-level-0);\n",
       "}\n",
       "\n",
       "#sk-container-id-6 input.sk-toggleable__control:checked~div.sk-toggleable__content {\n",
       "  /* Expand drop-down */\n",
       "  max-height: 200px;\n",
       "  max-width: 100%;\n",
       "  overflow: auto;\n",
       "}\n",
       "\n",
       "#sk-container-id-6 input.sk-toggleable__control:checked~label.sk-toggleable__label-arrow:before {\n",
       "  content: \"▾\";\n",
       "}\n",
       "\n",
       "/* Pipeline/ColumnTransformer-specific style */\n",
       "\n",
       "#sk-container-id-6 div.sk-label input.sk-toggleable__control:checked~label.sk-toggleable__label {\n",
       "  color: var(--sklearn-color-text);\n",
       "  background-color: var(--sklearn-color-unfitted-level-2);\n",
       "}\n",
       "\n",
       "#sk-container-id-6 div.sk-label.fitted input.sk-toggleable__control:checked~label.sk-toggleable__label {\n",
       "  background-color: var(--sklearn-color-fitted-level-2);\n",
       "}\n",
       "\n",
       "/* Estimator-specific style */\n",
       "\n",
       "/* Colorize estimator box */\n",
       "#sk-container-id-6 div.sk-estimator input.sk-toggleable__control:checked~label.sk-toggleable__label {\n",
       "  /* unfitted */\n",
       "  background-color: var(--sklearn-color-unfitted-level-2);\n",
       "}\n",
       "\n",
       "#sk-container-id-6 div.sk-estimator.fitted input.sk-toggleable__control:checked~label.sk-toggleable__label {\n",
       "  /* fitted */\n",
       "  background-color: var(--sklearn-color-fitted-level-2);\n",
       "}\n",
       "\n",
       "#sk-container-id-6 div.sk-label label.sk-toggleable__label,\n",
       "#sk-container-id-6 div.sk-label label {\n",
       "  /* The background is the default theme color */\n",
       "  color: var(--sklearn-color-text-on-default-background);\n",
       "}\n",
       "\n",
       "/* On hover, darken the color of the background */\n",
       "#sk-container-id-6 div.sk-label:hover label.sk-toggleable__label {\n",
       "  color: var(--sklearn-color-text);\n",
       "  background-color: var(--sklearn-color-unfitted-level-2);\n",
       "}\n",
       "\n",
       "/* Label box, darken color on hover, fitted */\n",
       "#sk-container-id-6 div.sk-label.fitted:hover label.sk-toggleable__label.fitted {\n",
       "  color: var(--sklearn-color-text);\n",
       "  background-color: var(--sklearn-color-fitted-level-2);\n",
       "}\n",
       "\n",
       "/* Estimator label */\n",
       "\n",
       "#sk-container-id-6 div.sk-label label {\n",
       "  font-family: monospace;\n",
       "  font-weight: bold;\n",
       "  display: inline-block;\n",
       "  line-height: 1.2em;\n",
       "}\n",
       "\n",
       "#sk-container-id-6 div.sk-label-container {\n",
       "  text-align: center;\n",
       "}\n",
       "\n",
       "/* Estimator-specific */\n",
       "#sk-container-id-6 div.sk-estimator {\n",
       "  font-family: monospace;\n",
       "  border: 1px dotted var(--sklearn-color-border-box);\n",
       "  border-radius: 0.25em;\n",
       "  box-sizing: border-box;\n",
       "  margin-bottom: 0.5em;\n",
       "  /* unfitted */\n",
       "  background-color: var(--sklearn-color-unfitted-level-0);\n",
       "}\n",
       "\n",
       "#sk-container-id-6 div.sk-estimator.fitted {\n",
       "  /* fitted */\n",
       "  background-color: var(--sklearn-color-fitted-level-0);\n",
       "}\n",
       "\n",
       "/* on hover */\n",
       "#sk-container-id-6 div.sk-estimator:hover {\n",
       "  /* unfitted */\n",
       "  background-color: var(--sklearn-color-unfitted-level-2);\n",
       "}\n",
       "\n",
       "#sk-container-id-6 div.sk-estimator.fitted:hover {\n",
       "  /* fitted */\n",
       "  background-color: var(--sklearn-color-fitted-level-2);\n",
       "}\n",
       "\n",
       "/* Specification for estimator info (e.g. \"i\" and \"?\") */\n",
       "\n",
       "/* Common style for \"i\" and \"?\" */\n",
       "\n",
       ".sk-estimator-doc-link,\n",
       "a:link.sk-estimator-doc-link,\n",
       "a:visited.sk-estimator-doc-link {\n",
       "  float: right;\n",
       "  font-size: smaller;\n",
       "  line-height: 1em;\n",
       "  font-family: monospace;\n",
       "  background-color: var(--sklearn-color-background);\n",
       "  border-radius: 1em;\n",
       "  height: 1em;\n",
       "  width: 1em;\n",
       "  text-decoration: none !important;\n",
       "  margin-left: 0.5em;\n",
       "  text-align: center;\n",
       "  /* unfitted */\n",
       "  border: var(--sklearn-color-unfitted-level-1) 1pt solid;\n",
       "  color: var(--sklearn-color-unfitted-level-1);\n",
       "}\n",
       "\n",
       ".sk-estimator-doc-link.fitted,\n",
       "a:link.sk-estimator-doc-link.fitted,\n",
       "a:visited.sk-estimator-doc-link.fitted {\n",
       "  /* fitted */\n",
       "  border: var(--sklearn-color-fitted-level-1) 1pt solid;\n",
       "  color: var(--sklearn-color-fitted-level-1);\n",
       "}\n",
       "\n",
       "/* On hover */\n",
       "div.sk-estimator:hover .sk-estimator-doc-link:hover,\n",
       ".sk-estimator-doc-link:hover,\n",
       "div.sk-label-container:hover .sk-estimator-doc-link:hover,\n",
       ".sk-estimator-doc-link:hover {\n",
       "  /* unfitted */\n",
       "  background-color: var(--sklearn-color-unfitted-level-3);\n",
       "  color: var(--sklearn-color-background);\n",
       "  text-decoration: none;\n",
       "}\n",
       "\n",
       "div.sk-estimator.fitted:hover .sk-estimator-doc-link.fitted:hover,\n",
       ".sk-estimator-doc-link.fitted:hover,\n",
       "div.sk-label-container:hover .sk-estimator-doc-link.fitted:hover,\n",
       ".sk-estimator-doc-link.fitted:hover {\n",
       "  /* fitted */\n",
       "  background-color: var(--sklearn-color-fitted-level-3);\n",
       "  color: var(--sklearn-color-background);\n",
       "  text-decoration: none;\n",
       "}\n",
       "\n",
       "/* Span, style for the box shown on hovering the info icon */\n",
       ".sk-estimator-doc-link span {\n",
       "  display: none;\n",
       "  z-index: 9999;\n",
       "  position: relative;\n",
       "  font-weight: normal;\n",
       "  right: .2ex;\n",
       "  padding: .5ex;\n",
       "  margin: .5ex;\n",
       "  width: min-content;\n",
       "  min-width: 20ex;\n",
       "  max-width: 50ex;\n",
       "  color: var(--sklearn-color-text);\n",
       "  box-shadow: 2pt 2pt 4pt #999;\n",
       "  /* unfitted */\n",
       "  background: var(--sklearn-color-unfitted-level-0);\n",
       "  border: .5pt solid var(--sklearn-color-unfitted-level-3);\n",
       "}\n",
       "\n",
       ".sk-estimator-doc-link.fitted span {\n",
       "  /* fitted */\n",
       "  background: var(--sklearn-color-fitted-level-0);\n",
       "  border: var(--sklearn-color-fitted-level-3);\n",
       "}\n",
       "\n",
       ".sk-estimator-doc-link:hover span {\n",
       "  display: block;\n",
       "}\n",
       "\n",
       "/* \"?\"-specific style due to the `<a>` HTML tag */\n",
       "\n",
       "#sk-container-id-6 a.estimator_doc_link {\n",
       "  float: right;\n",
       "  font-size: 1rem;\n",
       "  line-height: 1em;\n",
       "  font-family: monospace;\n",
       "  background-color: var(--sklearn-color-background);\n",
       "  border-radius: 1rem;\n",
       "  height: 1rem;\n",
       "  width: 1rem;\n",
       "  text-decoration: none;\n",
       "  /* unfitted */\n",
       "  color: var(--sklearn-color-unfitted-level-1);\n",
       "  border: var(--sklearn-color-unfitted-level-1) 1pt solid;\n",
       "}\n",
       "\n",
       "#sk-container-id-6 a.estimator_doc_link.fitted {\n",
       "  /* fitted */\n",
       "  border: var(--sklearn-color-fitted-level-1) 1pt solid;\n",
       "  color: var(--sklearn-color-fitted-level-1);\n",
       "}\n",
       "\n",
       "/* On hover */\n",
       "#sk-container-id-6 a.estimator_doc_link:hover {\n",
       "  /* unfitted */\n",
       "  background-color: var(--sklearn-color-unfitted-level-3);\n",
       "  color: var(--sklearn-color-background);\n",
       "  text-decoration: none;\n",
       "}\n",
       "\n",
       "#sk-container-id-6 a.estimator_doc_link.fitted:hover {\n",
       "  /* fitted */\n",
       "  background-color: var(--sklearn-color-fitted-level-3);\n",
       "}\n",
       "</style><div id=\"sk-container-id-6\" class=\"sk-top-container\"><div class=\"sk-text-repr-fallback\"><pre>RandomForestRegressor(random_state=40)</pre><b>In a Jupyter environment, please rerun this cell to show the HTML representation or trust the notebook. <br />On GitHub, the HTML representation is unable to render, please try loading this page with nbviewer.org.</b></div><div class=\"sk-container\" hidden><div class=\"sk-item\"><div class=\"sk-estimator fitted sk-toggleable\"><input class=\"sk-toggleable__control sk-hidden--visually\" id=\"sk-estimator-id-6\" type=\"checkbox\" checked><label for=\"sk-estimator-id-6\" class=\"sk-toggleable__label fitted sk-toggleable__label-arrow\"><div><div>RandomForestRegressor</div></div><div><a class=\"sk-estimator-doc-link fitted\" rel=\"noreferrer\" target=\"_blank\" href=\"https://scikit-learn.org/1.6/modules/generated/sklearn.ensemble.RandomForestRegressor.html\">?<span>Documentation for RandomForestRegressor</span></a><span class=\"sk-estimator-doc-link fitted\">i<span>Fitted</span></span></div></label><div class=\"sk-toggleable__content fitted\"><pre>RandomForestRegressor(random_state=40)</pre></div> </div></div></div></div>"
      ],
      "text/plain": [
       "RandomForestRegressor(random_state=40)"
      ]
     },
     "execution_count": 186,
     "metadata": {},
     "output_type": "execute_result"
    }
   ],
   "source": [
    "# Train model with selected features\n",
    "rf_selected = RandomForestRegressor(n_estimators=100, random_state=40)\n",
    "rf_selected.fit(X_train, y_train)"
   ]
  },
  {
   "cell_type": "code",
   "execution_count": 187,
   "metadata": {},
   "outputs": [],
   "source": [
    "# Make predictions\n",
    "y_pred_selected = rf_selected.predict(X_test)"
   ]
  },
  {
   "cell_type": "markdown",
   "metadata": {},
   "source": [
    "## 11.1 Model Evaluation  \n",
    "\n",
    "- After training, the model's performance is assessed using standard regression metrics. \n",
    "- These metrics provide insights into how well the model predicts the target variable (`FCR`) on the unseen test data:\n",
    "\n",
    " - `mae_selected = mean_absolute_error(y_test, y_pred_selected)`\n",
    " - `mse_selected = mean_squared_error(y_test, y_pred_selected)`\n",
    " - `r2_selected = r2_score(y_test, y_pred_selected)`\n"
   ]
  },
  {
   "cell_type": "code",
   "execution_count": 188,
   "metadata": {},
   "outputs": [
    {
     "name": "stdout",
     "output_type": "stream",
     "text": [
      " MAE (selected features): 0.05559074654857137\n",
      " MSE (selected features): 0.004667683883349603\n",
      " R² Score (selected features): 0.8568807955125473\n"
     ]
    }
   ],
   "source": [
    "mae_selected = mean_absolute_error(y_test, y_pred_selected)\n",
    "mse_selected = mean_squared_error(y_test, y_pred_selected)\n",
    "r2_selected = r2_score(y_test, y_pred_selected)\n",
    "\n",
    "print(\" MAE (selected features):\", mae_selected)\n",
    "print(\" MSE (selected features):\", mse_selected)\n",
    "print(\" R² Score (selected features):\", r2_selected)"
   ]
  },
  {
   "cell_type": "markdown",
   "metadata": {},
   "source": [
    "---\n",
    "\n",
    "## 11.2 Feature Importance  \n",
    "\n",
    "- Understanding which features contribute most to the model’s predictions is crucial for interpretability and refining the model. The Random Forest Regressor provides a straightforward way to extract feature importance values after training.\n",
    "- The importance of each feature is extracted from the trained model, allowing for insights into which features contribute most to the prediction of FCR:\n",
    "\n",
    "     - `feature_importances = rf_selected.feature_importances_`\n"
   ]
  },
  {
   "cell_type": "code",
   "execution_count": 189,
   "metadata": {},
   "outputs": [
    {
     "name": "stdout",
     "output_type": "stream",
     "text": [
      "                    Feature  Importance\n",
      "0     Total feed intake (g)    0.577469\n",
      "1         No. of preening/h    0.118463\n",
      "2             GE  (kcal/kg)    0.057192\n",
      "3         Feeding Intensity    0.051729\n",
      "4      No  of Head flicks/h    0.042513\n",
      "5         No.  of Walking/h    0.037814\n",
      "6   No.  of feeding- bout/h    0.031656\n",
      "7        No.  of drinking/h    0.030432\n",
      "8                        N%    0.030202\n",
      "9  No.  of feeder pecking/h    0.022529\n"
     ]
    }
   ],
   "source": [
    "# Extract feature importances\n",
    "feature_importances = rf_selected.feature_importances_\n",
    "# Create a DataFrame with feature names and importances\n",
    "importance_df = pd.DataFrame({\n",
    "    'Feature': selected_features,\n",
    "    'Importance': feature_importances\n",
    "})\n",
    "# Sort by importance\n",
    "importance_df = importance_df.sort_values(by='Importance', ascending=False).reset_index(drop=True)\n",
    "# Display the sorted DataFrame\n",
    "print(importance_df)"
   ]
  },
  {
   "cell_type": "markdown",
   "metadata": {},
   "source": [
    "# 12. Visualizing the results\n",
    "\n",
    "### Predicted vs. Actual FCR Visualization  \n",
    "\n",
    "To assess the model's performance visually, a scatter plot is created comparing the predicted FCR values to the actual values. This helps evaluate how closely the predictions align with reality."
   ]
  },
  {
   "cell_type": "code",
   "execution_count": 190,
   "metadata": {},
   "outputs": [
    {
     "data": {
      "application/vnd.plotly.v1+json": {
       "config": {
        "plotlyServerURL": "https://plot.ly"
       },
       "data": [
        {
         "marker": {
          "color": "blue"
         },
         "mode": "markers",
         "name": "Predicted vs. FCR",
         "type": "scatter",
         "x": {
          "bdata": "hEJYG9BT/T/3S46ys1X7P9KamI427/0/dYzxggTU/D+sGi65JBv9P9qQidiDSP4/beBx/uRP/j9aE4KK55r9P0ELUO3oTP4/hRtqwJJe/j/meQiUYbX+P63gSoWX4fw/5lorDw8P/z/x9UiSBtj9P3kjpzravPc/ljRgP636+j8h6UDHKM79P5Ga6Ia1b/4/dsB1xYxY/D8zbVASShv/P0VtPlVVVf0/UwhWaC+h/T+cyVB4fdT+P3dnUOHGZfw/+lE6fMVX/D8/lXUtkfv7P2DSfdiJnfw/GMvgZ91g/j+jgOqoNZD7P+RYiw3lNf4/BCYSem2m/T/Vl8tkPcf8P31RWjZ1gf4/EDjddeBj/j+S7BYjQGkAQGOZpFAb9wFAY5mkUBv3AUAkw30m864BQM1GR29BGf4/LA6pmge5A0BeUTNs4DMCQKhG9NqIdQFA4x1Sn/M5/z9bUT6VtwUBQCwR3fARAgNAqdUiZTU0AED7YTWqlJEAQNs3MQMZWv0/REShzcB0AUCzVxDkT0EAQNK2puhkZwBApKh/hda/AEBo2CrsYhEBQAAAAAAAAAJA74Oq06zgAEBziossZCEBQG1QCNifgAFAIs3ZtLIeAEBDAEVsfRsAQObd8yQyDQFA95AME+9HAkDLb6hKIX0BQFtVJJb8YgFAChLlT3ftA0AUFc2qn1QBQIcf9wiQAAFAhFauV1vkAkA=",
          "dtype": "f8"
         },
         "y": {
          "bdata": "xM3OQIg5AUCy+qlMSsX9Pxso6Kk+yv0/eiGEFhxa/z9ApqUKBT/+P7FY+inU/AFA0sYjVSVGAUC79i/3xYH/P5jxGiJMfwFAZoYv8MCy/z+pxhmPhtL8P5zrnFYbCQBA+kf/lKWo/D+Pww/qnWn9Pw==",
          "dtype": "f8"
         }
        },
        {
         "marker": {
          "color": "red"
         },
         "mode": "lines",
         "name": "Ideal Prediction",
         "type": "scatter",
         "x": [
          1.483606557,
          2.490950226
         ],
         "y": [
          1.483606557,
          2.490950226
         ]
        }
       ],
       "layout": {
        "template": {
         "data": {
          "bar": [
           {
            "error_x": {
             "color": "#2a3f5f"
            },
            "error_y": {
             "color": "#2a3f5f"
            },
            "marker": {
             "line": {
              "color": "white",
              "width": 0.5
             },
             "pattern": {
              "fillmode": "overlay",
              "size": 10,
              "solidity": 0.2
             }
            },
            "type": "bar"
           }
          ],
          "barpolar": [
           {
            "marker": {
             "line": {
              "color": "white",
              "width": 0.5
             },
             "pattern": {
              "fillmode": "overlay",
              "size": 10,
              "solidity": 0.2
             }
            },
            "type": "barpolar"
           }
          ],
          "carpet": [
           {
            "aaxis": {
             "endlinecolor": "#2a3f5f",
             "gridcolor": "#C8D4E3",
             "linecolor": "#C8D4E3",
             "minorgridcolor": "#C8D4E3",
             "startlinecolor": "#2a3f5f"
            },
            "baxis": {
             "endlinecolor": "#2a3f5f",
             "gridcolor": "#C8D4E3",
             "linecolor": "#C8D4E3",
             "minorgridcolor": "#C8D4E3",
             "startlinecolor": "#2a3f5f"
            },
            "type": "carpet"
           }
          ],
          "choropleth": [
           {
            "colorbar": {
             "outlinewidth": 0,
             "ticks": ""
            },
            "type": "choropleth"
           }
          ],
          "contour": [
           {
            "colorbar": {
             "outlinewidth": 0,
             "ticks": ""
            },
            "colorscale": [
             [
              0,
              "#0d0887"
             ],
             [
              0.1111111111111111,
              "#46039f"
             ],
             [
              0.2222222222222222,
              "#7201a8"
             ],
             [
              0.3333333333333333,
              "#9c179e"
             ],
             [
              0.4444444444444444,
              "#bd3786"
             ],
             [
              0.5555555555555556,
              "#d8576b"
             ],
             [
              0.6666666666666666,
              "#ed7953"
             ],
             [
              0.7777777777777778,
              "#fb9f3a"
             ],
             [
              0.8888888888888888,
              "#fdca26"
             ],
             [
              1,
              "#f0f921"
             ]
            ],
            "type": "contour"
           }
          ],
          "contourcarpet": [
           {
            "colorbar": {
             "outlinewidth": 0,
             "ticks": ""
            },
            "type": "contourcarpet"
           }
          ],
          "heatmap": [
           {
            "colorbar": {
             "outlinewidth": 0,
             "ticks": ""
            },
            "colorscale": [
             [
              0,
              "#0d0887"
             ],
             [
              0.1111111111111111,
              "#46039f"
             ],
             [
              0.2222222222222222,
              "#7201a8"
             ],
             [
              0.3333333333333333,
              "#9c179e"
             ],
             [
              0.4444444444444444,
              "#bd3786"
             ],
             [
              0.5555555555555556,
              "#d8576b"
             ],
             [
              0.6666666666666666,
              "#ed7953"
             ],
             [
              0.7777777777777778,
              "#fb9f3a"
             ],
             [
              0.8888888888888888,
              "#fdca26"
             ],
             [
              1,
              "#f0f921"
             ]
            ],
            "type": "heatmap"
           }
          ],
          "histogram": [
           {
            "marker": {
             "pattern": {
              "fillmode": "overlay",
              "size": 10,
              "solidity": 0.2
             }
            },
            "type": "histogram"
           }
          ],
          "histogram2d": [
           {
            "colorbar": {
             "outlinewidth": 0,
             "ticks": ""
            },
            "colorscale": [
             [
              0,
              "#0d0887"
             ],
             [
              0.1111111111111111,
              "#46039f"
             ],
             [
              0.2222222222222222,
              "#7201a8"
             ],
             [
              0.3333333333333333,
              "#9c179e"
             ],
             [
              0.4444444444444444,
              "#bd3786"
             ],
             [
              0.5555555555555556,
              "#d8576b"
             ],
             [
              0.6666666666666666,
              "#ed7953"
             ],
             [
              0.7777777777777778,
              "#fb9f3a"
             ],
             [
              0.8888888888888888,
              "#fdca26"
             ],
             [
              1,
              "#f0f921"
             ]
            ],
            "type": "histogram2d"
           }
          ],
          "histogram2dcontour": [
           {
            "colorbar": {
             "outlinewidth": 0,
             "ticks": ""
            },
            "colorscale": [
             [
              0,
              "#0d0887"
             ],
             [
              0.1111111111111111,
              "#46039f"
             ],
             [
              0.2222222222222222,
              "#7201a8"
             ],
             [
              0.3333333333333333,
              "#9c179e"
             ],
             [
              0.4444444444444444,
              "#bd3786"
             ],
             [
              0.5555555555555556,
              "#d8576b"
             ],
             [
              0.6666666666666666,
              "#ed7953"
             ],
             [
              0.7777777777777778,
              "#fb9f3a"
             ],
             [
              0.8888888888888888,
              "#fdca26"
             ],
             [
              1,
              "#f0f921"
             ]
            ],
            "type": "histogram2dcontour"
           }
          ],
          "mesh3d": [
           {
            "colorbar": {
             "outlinewidth": 0,
             "ticks": ""
            },
            "type": "mesh3d"
           }
          ],
          "parcoords": [
           {
            "line": {
             "colorbar": {
              "outlinewidth": 0,
              "ticks": ""
             }
            },
            "type": "parcoords"
           }
          ],
          "pie": [
           {
            "automargin": true,
            "type": "pie"
           }
          ],
          "scatter": [
           {
            "fillpattern": {
             "fillmode": "overlay",
             "size": 10,
             "solidity": 0.2
            },
            "type": "scatter"
           }
          ],
          "scatter3d": [
           {
            "line": {
             "colorbar": {
              "outlinewidth": 0,
              "ticks": ""
             }
            },
            "marker": {
             "colorbar": {
              "outlinewidth": 0,
              "ticks": ""
             }
            },
            "type": "scatter3d"
           }
          ],
          "scattercarpet": [
           {
            "marker": {
             "colorbar": {
              "outlinewidth": 0,
              "ticks": ""
             }
            },
            "type": "scattercarpet"
           }
          ],
          "scattergeo": [
           {
            "marker": {
             "colorbar": {
              "outlinewidth": 0,
              "ticks": ""
             }
            },
            "type": "scattergeo"
           }
          ],
          "scattergl": [
           {
            "marker": {
             "colorbar": {
              "outlinewidth": 0,
              "ticks": ""
             }
            },
            "type": "scattergl"
           }
          ],
          "scattermap": [
           {
            "marker": {
             "colorbar": {
              "outlinewidth": 0,
              "ticks": ""
             }
            },
            "type": "scattermap"
           }
          ],
          "scattermapbox": [
           {
            "marker": {
             "colorbar": {
              "outlinewidth": 0,
              "ticks": ""
             }
            },
            "type": "scattermapbox"
           }
          ],
          "scatterpolar": [
           {
            "marker": {
             "colorbar": {
              "outlinewidth": 0,
              "ticks": ""
             }
            },
            "type": "scatterpolar"
           }
          ],
          "scatterpolargl": [
           {
            "marker": {
             "colorbar": {
              "outlinewidth": 0,
              "ticks": ""
             }
            },
            "type": "scatterpolargl"
           }
          ],
          "scatterternary": [
           {
            "marker": {
             "colorbar": {
              "outlinewidth": 0,
              "ticks": ""
             }
            },
            "type": "scatterternary"
           }
          ],
          "surface": [
           {
            "colorbar": {
             "outlinewidth": 0,
             "ticks": ""
            },
            "colorscale": [
             [
              0,
              "#0d0887"
             ],
             [
              0.1111111111111111,
              "#46039f"
             ],
             [
              0.2222222222222222,
              "#7201a8"
             ],
             [
              0.3333333333333333,
              "#9c179e"
             ],
             [
              0.4444444444444444,
              "#bd3786"
             ],
             [
              0.5555555555555556,
              "#d8576b"
             ],
             [
              0.6666666666666666,
              "#ed7953"
             ],
             [
              0.7777777777777778,
              "#fb9f3a"
             ],
             [
              0.8888888888888888,
              "#fdca26"
             ],
             [
              1,
              "#f0f921"
             ]
            ],
            "type": "surface"
           }
          ],
          "table": [
           {
            "cells": {
             "fill": {
              "color": "#EBF0F8"
             },
             "line": {
              "color": "white"
             }
            },
            "header": {
             "fill": {
              "color": "#C8D4E3"
             },
             "line": {
              "color": "white"
             }
            },
            "type": "table"
           }
          ]
         },
         "layout": {
          "annotationdefaults": {
           "arrowcolor": "#2a3f5f",
           "arrowhead": 0,
           "arrowwidth": 1
          },
          "autotypenumbers": "strict",
          "coloraxis": {
           "colorbar": {
            "outlinewidth": 0,
            "ticks": ""
           }
          },
          "colorscale": {
           "diverging": [
            [
             0,
             "#8e0152"
            ],
            [
             0.1,
             "#c51b7d"
            ],
            [
             0.2,
             "#de77ae"
            ],
            [
             0.3,
             "#f1b6da"
            ],
            [
             0.4,
             "#fde0ef"
            ],
            [
             0.5,
             "#f7f7f7"
            ],
            [
             0.6,
             "#e6f5d0"
            ],
            [
             0.7,
             "#b8e186"
            ],
            [
             0.8,
             "#7fbc41"
            ],
            [
             0.9,
             "#4d9221"
            ],
            [
             1,
             "#276419"
            ]
           ],
           "sequential": [
            [
             0,
             "#0d0887"
            ],
            [
             0.1111111111111111,
             "#46039f"
            ],
            [
             0.2222222222222222,
             "#7201a8"
            ],
            [
             0.3333333333333333,
             "#9c179e"
            ],
            [
             0.4444444444444444,
             "#bd3786"
            ],
            [
             0.5555555555555556,
             "#d8576b"
            ],
            [
             0.6666666666666666,
             "#ed7953"
            ],
            [
             0.7777777777777778,
             "#fb9f3a"
            ],
            [
             0.8888888888888888,
             "#fdca26"
            ],
            [
             1,
             "#f0f921"
            ]
           ],
           "sequentialminus": [
            [
             0,
             "#0d0887"
            ],
            [
             0.1111111111111111,
             "#46039f"
            ],
            [
             0.2222222222222222,
             "#7201a8"
            ],
            [
             0.3333333333333333,
             "#9c179e"
            ],
            [
             0.4444444444444444,
             "#bd3786"
            ],
            [
             0.5555555555555556,
             "#d8576b"
            ],
            [
             0.6666666666666666,
             "#ed7953"
            ],
            [
             0.7777777777777778,
             "#fb9f3a"
            ],
            [
             0.8888888888888888,
             "#fdca26"
            ],
            [
             1,
             "#f0f921"
            ]
           ]
          },
          "colorway": [
           "#636efa",
           "#EF553B",
           "#00cc96",
           "#ab63fa",
           "#FFA15A",
           "#19d3f3",
           "#FF6692",
           "#B6E880",
           "#FF97FF",
           "#FECB52"
          ],
          "font": {
           "color": "#2a3f5f"
          },
          "geo": {
           "bgcolor": "white",
           "lakecolor": "white",
           "landcolor": "white",
           "showlakes": true,
           "showland": true,
           "subunitcolor": "#C8D4E3"
          },
          "hoverlabel": {
           "align": "left"
          },
          "hovermode": "closest",
          "mapbox": {
           "style": "light"
          },
          "paper_bgcolor": "white",
          "plot_bgcolor": "white",
          "polar": {
           "angularaxis": {
            "gridcolor": "#EBF0F8",
            "linecolor": "#EBF0F8",
            "ticks": ""
           },
           "bgcolor": "white",
           "radialaxis": {
            "gridcolor": "#EBF0F8",
            "linecolor": "#EBF0F8",
            "ticks": ""
           }
          },
          "scene": {
           "xaxis": {
            "backgroundcolor": "white",
            "gridcolor": "#DFE8F3",
            "gridwidth": 2,
            "linecolor": "#EBF0F8",
            "showbackground": true,
            "ticks": "",
            "zerolinecolor": "#EBF0F8"
           },
           "yaxis": {
            "backgroundcolor": "white",
            "gridcolor": "#DFE8F3",
            "gridwidth": 2,
            "linecolor": "#EBF0F8",
            "showbackground": true,
            "ticks": "",
            "zerolinecolor": "#EBF0F8"
           },
           "zaxis": {
            "backgroundcolor": "white",
            "gridcolor": "#DFE8F3",
            "gridwidth": 2,
            "linecolor": "#EBF0F8",
            "showbackground": true,
            "ticks": "",
            "zerolinecolor": "#EBF0F8"
           }
          },
          "shapedefaults": {
           "line": {
            "color": "#2a3f5f"
           }
          },
          "ternary": {
           "aaxis": {
            "gridcolor": "#DFE8F3",
            "linecolor": "#A2B1C6",
            "ticks": ""
           },
           "baxis": {
            "gridcolor": "#DFE8F3",
            "linecolor": "#A2B1C6",
            "ticks": ""
           },
           "bgcolor": "white",
           "caxis": {
            "gridcolor": "#DFE8F3",
            "linecolor": "#A2B1C6",
            "ticks": ""
           }
          },
          "title": {
           "x": 0.05
          },
          "xaxis": {
           "automargin": true,
           "gridcolor": "#EBF0F8",
           "linecolor": "#EBF0F8",
           "ticks": "",
           "title": {
            "standoff": 15
           },
           "zerolinecolor": "#EBF0F8",
           "zerolinewidth": 2
          },
          "yaxis": {
           "automargin": true,
           "gridcolor": "#EBF0F8",
           "linecolor": "#EBF0F8",
           "ticks": "",
           "title": {
            "standoff": 15
           },
           "zerolinecolor": "#EBF0F8",
           "zerolinewidth": 2
          }
         }
        },
        "title": {
         "text": "Predicted vs. Actual FCR"
        },
        "xaxis": {
         "title": {
          "text": "Actual FCR"
         }
        },
        "yaxis": {
         "title": {
          "text": "Predicted FCR"
         }
        }
       }
      }
     },
     "metadata": {},
     "output_type": "display_data"
    }
   ],
   "source": [
    "fig = go.Figure()\n",
    "fig.add_trace(go.Scatter(x=y, y=y_pred_selected, mode='markers', \n",
    "                         marker=dict(color='blue'), \n",
    "                         name='Predicted vs. FCR'))\n",
    "fig.add_trace(go.Scatter(x=[min(y), max(y)], y=[min(y), max(y)], \n",
    "                         mode='lines', \n",
    "                         marker=dict(color='red'), \n",
    "                         name='Ideal Prediction'))\n",
    "fig.update_layout(\n",
    "    title='Predicted vs. Actual FCR',\n",
    "    xaxis_title='Actual FCR',\n",
    "    yaxis_title='Predicted FCR'\n",
    ")\n",
    "fig.show()"
   ]
  },
  {
   "cell_type": "markdown",
   "metadata": {},
   "source": [
    "### Breakdown of the visualization:\n",
    "\n",
    "- **Blue Scatter Points**: Represent the predicted FCR values against the actual ones. Ideally, these points should cluster along the diagonal line.  \n",
    "- **Red Line**: This line represents the ideal prediction scenario (`y = x`), where predictions exactly match actual values. The closer the points are to this line, the better the model performed.  \n",
    "- **Title and Axis Labels**: Ensure clear communication of what the plot represents.  "
   ]
  },
  {
   "cell_type": "markdown",
   "metadata": {},
   "source": [
    "---\n",
    "\n",
    " # 13. Save model for Flask\n",
    " - The trained model is saved for future use in a Flask application."
   ]
  },
  {
   "cell_type": "code",
   "execution_count": 191,
   "metadata": {},
   "outputs": [
    {
     "name": "stdout",
     "output_type": "stream",
     "text": [
      "Model saved as model.pkl\n"
     ]
    }
   ],
   "source": [
    "# Save model for Flask\n",
    "joblib.dump(rf_selected, 'model.pkl')\n",
    "print(\"Model saved as model.pkl\")"
   ]
  },
  {
   "cell_type": "code",
   "execution_count": 192,
   "metadata": {},
   "outputs": [
    {
     "name": "stdout",
     "output_type": "stream",
     "text": [
      "Model expects: ['Feeding Intensity' 'Total feed intake (g)' 'No.  of feeding- bout/h'\n",
      " 'No  of Head flicks/h' 'No.  of drinking/h' 'No. of preening/h'\n",
      " 'No.  of feeder pecking/h' 'No.  of Walking/h' 'GE  (kcal/kg)' 'N%']\n",
      "Input columns: Index(['Bird ID.', 'Total feed intake (g)', 'ADI (g)', 'Total egg wt (g)',\n",
      "       'FCR', 'No.  of feeding- bout/h', 'Time spent for feeding /h',\n",
      "       'No.  of Still/h', 'No.  of Rest/h', 'No  of Head flicks/h',\n",
      "       'No.  of drinking/h', 'No. of preening/h', 'No.  of feeder pecking/h',\n",
      "       'No. of cage pecking', 'No.  of Walking/h', 'DM%', 'Ash%', 'N%', 'CP%',\n",
      "       'GE  (kcal/kg)', 'Drinking/Feeding Ratio', 'Preening/Feeding Ratio',\n",
      "       'Feed Efficiency Score', 'Feeding Intensity', 'Activity Ratio'],\n",
      "      dtype='object')\n"
     ]
    }
   ],
   "source": [
    "print(\"Model expects:\", rf_selected.feature_names_in_)\n",
    "print(\"Input columns:\", df.columns)"
   ]
  }
 ],
 "metadata": {
  "kernelspec": {
   "display_name": "Python 3",
   "language": "python",
   "name": "python3"
  },
  "language_info": {
   "codemirror_mode": {
    "name": "ipython",
    "version": 3
   },
   "file_extension": ".py",
   "mimetype": "text/x-python",
   "name": "python",
   "nbconvert_exporter": "python",
   "pygments_lexer": "ipython3",
   "version": "3.13.0"
  }
 },
 "nbformat": 4,
 "nbformat_minor": 2
}
